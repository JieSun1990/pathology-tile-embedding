{
 "cells": [
  {
   "cell_type": "markdown",
   "id": "1584c061",
   "metadata": {
    "tags": []
   },
   "source": [
    "# Process XML"
   ]
  },
  {
   "cell_type": "code",
   "execution_count": null,
   "id": "8990743a-0efc-4c15-9e20-ddd139aa7fda",
   "metadata": {},
   "outputs": [],
   "source": [
    "# REF: https://docs.python.org/3/library/xml.etree.elementtree.html"
   ]
  },
  {
   "cell_type": "code",
   "execution_count": 1,
   "id": "0a890a38-1acc-40d7-bf32-6b2fc9453b54",
   "metadata": {},
   "outputs": [],
   "source": [
    "import xml.etree.ElementTree as ET\n",
    "import numpy as np\n",
    "import pandas as pd"
   ]
  },
  {
   "cell_type": "code",
   "execution_count": 2,
   "id": "daebffdb-bcf1-49ae-b99d-1970f01db00a",
   "metadata": {},
   "outputs": [],
   "source": [
    "tree = ET.parse('/Users/jiesun/Dropbox/2021_FALL/DanaFaber/Camelyon/tumor_110.xml') # TO EDIT\n"
   ]
  },
  {
   "cell_type": "code",
   "execution_count": 4,
   "id": "8a89eb7d-3745-4515-9d6d-aaed9aff473b",
   "metadata": {},
   "outputs": [],
   "source": [
    "# Convert these into X and Y by annotation groups\n",
    "\n",
    "def get_coords(tree):\n",
    "    \"\"\"\n",
    "    input: \n",
    "        tree: xml ElementTree object\n",
    "    output: \n",
    "        polys: dictionary. key = annotation 0, 1, etc. value = polygon coordinates \n",
    "        groups: dictionary. key = annotation 0, 1, etc. value = partofgroup: _0 or _2\n",
    "    \"\"\"\n",
    "    \n",
    "    \n",
    "    root = tree.getroot() #root element\n",
    "    \n",
    "    polys = {} # key = annotation 0, 1, etc. value = polygon coordinates \n",
    "    groups = {} # key = annotation 0, 1, etc. value = partofgroup: _0 or _2\n",
    "\n",
    "    for item in root.findall('Annotations/Annotation'):\n",
    "\n",
    "            # initialize for each Annotation group\n",
    "            x_co = []\n",
    "            y_co = []\n",
    "            name = item.get('Name') #retuns: Annotation 0,1,2,...\n",
    "            group = item.get('PartOfGroup') #returns: _0,_2\n",
    "\n",
    "            for child in item.findall('Coordinates/Coordinate'):\n",
    "\n",
    "                x = child.get('X') # returns: 0,1,2,\n",
    "                x_co.append(x)\n",
    "                y = child.get('Y') # returns: 0,1,2,\n",
    "                y_co.append(y)\n",
    "\n",
    "            # make into list of coords\n",
    "            x_co = np.array(x_co,dtype=np.float32)\n",
    "            y_co = np.array(y_co,dtype=np.float32)\n",
    "            coo = list(zip(x_co,y_co))\n",
    "\n",
    "            # save into dict\n",
    "            polys[name] = coo\n",
    "            groups[name] = group\n",
    "    \n",
    "    return polys, groups\n",
    "    "
   ]
  },
  {
   "cell_type": "code",
   "execution_count": 5,
   "id": "1b4c2857-0af5-400f-a207-a61ae6b66c40",
   "metadata": {},
   "outputs": [],
   "source": [
    "polys, groups = get_coords(tree)"
   ]
  },
  {
   "cell_type": "markdown",
   "id": "193e486a",
   "metadata": {},
   "source": [
    "# Make into a polygon"
   ]
  },
  {
   "cell_type": "code",
   "execution_count": null,
   "id": "56f07367",
   "metadata": {},
   "outputs": [],
   "source": [
    "# REF: \n",
    "# https://stackoverflow.com/questions/14697442/faster-way-of-polygon-intersection-with-shapely\n",
    "# https://shapely.readthedocs.io/en/stable/manual.html#polygons"
   ]
  },
  {
   "cell_type": "code",
   "execution_count": 8,
   "id": "2c5816b4",
   "metadata": {},
   "outputs": [
    {
     "name": "stdout",
     "output_type": "stream",
     "text": [
      "Requirement already satisfied: shapely in /Users/jiesun/opt/anaconda3/envs/pathml/lib/python3.8/site-packages (1.8.0)\n",
      "Note: you may need to restart the kernel to use updated packages.\n"
     ]
    }
   ],
   "source": [
    "pip install shapely"
   ]
  },
  {
   "cell_type": "code",
   "execution_count": 9,
   "id": "ded11efe",
   "metadata": {},
   "outputs": [],
   "source": [
    "from shapely.geometry import box, Polygon\n",
    "from shapely.ops import cascaded_union\n",
    "from shapely.strtree import STRtree\n",
    "from shapely.geometry import MultiPolygon\n",
    "\n",
    "import matplotlib.pyplot as plt"
   ]
  },
  {
   "cell_type": "markdown",
   "id": "8002f99b-fb69-4755-82ff-a14314e791ab",
   "metadata": {},
   "source": [
    "## Example with 1 polygon"
   ]
  },
  {
   "cell_type": "code",
   "execution_count": 10,
   "id": "551a1134-18ea-45cd-8315-555a906a5d31",
   "metadata": {},
   "outputs": [],
   "source": [
    "# get 1 polygon\n",
    "polygon = Polygon(polys['Annotation 0'])"
   ]
  },
  {
   "cell_type": "code",
   "execution_count": 11,
   "id": "14d9be47",
   "metadata": {},
   "outputs": [
    {
     "data": {
      "text/plain": [
       "582680757.9844236"
      ]
     },
     "execution_count": 11,
     "metadata": {},
     "output_type": "execute_result"
    }
   ],
   "source": [
    "# inspect the polygon size\n",
    "polygon.area"
   ]
  },
  {
   "cell_type": "code",
   "execution_count": 12,
   "id": "3fdc05fb-f6e4-4ad0-b319-30e014423d67",
   "metadata": {},
   "outputs": [],
   "source": [
    "# create a shapely Tree object\n",
    "s = STRtree([polygon])"
   ]
  },
  {
   "cell_type": "code",
   "execution_count": 65,
   "id": "f62c4709-2060-44f8-8659-759034a60720",
   "metadata": {},
   "outputs": [],
   "source": [
    "# similar to our tile\n",
    "query_geom = Polygon([(-1, -1), (2, 0), (2, 2), (-1, 2)])\n",
    "# Returns a list of all geometries in the s(strtree) whose extents intersect the extent of query_geom. \n",
    "result = s.query(query_geom)"
   ]
  },
  {
   "cell_type": "code",
   "execution_count": 67,
   "id": "476e395b-36a4-4cce-9b8c-60338349031d",
   "metadata": {},
   "outputs": [
    {
     "data": {
      "text/plain": [
       "False"
      ]
     },
     "execution_count": 67,
     "metadata": {},
     "output_type": "execute_result"
    }
   ],
   "source": [
    "# does my polygon intersect with the query_geom (i.e. tile)? \n",
    "polygon in result"
   ]
  },
  {
   "cell_type": "code",
   "execution_count": 70,
   "id": "4459bc1b-50ea-4390-ae81-2351dbe44d4e",
   "metadata": {},
   "outputs": [
    {
     "data": {
      "text/plain": [
       "[<matplotlib.lines.Line2D at 0x7ff5c37705e0>]"
      ]
     },
     "execution_count": 70,
     "metadata": {},
     "output_type": "execute_result"
    },
    {
     "data": {
      "image/png": "[encoded data removed]",
      "text/plain": [
       "<Figure size 432x288 with 1 Axes>"
      ]
     },
     "metadata": {
      "needs_background": "light"
     },
     "output_type": "display_data"
    }
   ],
   "source": [
    "# visualize\n",
    "plt.plot(*polygon.exterior.xy)\n",
    "plt.plot(*query_geom.exterior.xy)"
   ]
  },
  {
   "cell_type": "markdown",
   "id": "06f4069d-0669-4603-9064-f1852c38d797",
   "metadata": {},
   "source": [
    "## Multiple polygons"
   ]
  },
  {
   "cell_type": "code",
   "execution_count": 71,
   "id": "e41a17b8-e589-4938-a61b-51ab10d60cdb",
   "metadata": {},
   "outputs": [],
   "source": [
    "# Group of polygons\n",
    "polygons = [Polygon(polys[k]) for k in polys.keys()] # 39 polygons here"
   ]
  },
  {
   "cell_type": "code",
   "execution_count": 82,
   "id": "f09def1d-5a19-432e-8a07-a613dc296139",
   "metadata": {},
   "outputs": [],
   "source": [
    "# get Shapley object\n",
    "s = STRtree(polygons)\n",
    "# your query grid: for illustration only \n",
    "query_geom = Polygon([(20000,20000), (30000, 20000), (30000,30000), (20000, 30000)])\n",
    "# result\n",
    "result = s.query(query_geom)"
   ]
  },
  {
   "cell_type": "code",
   "execution_count": 89,
   "id": "6fab2f8b-ba9b-4893-a727-35e2181fd38a",
   "metadata": {},
   "outputs": [
    {
     "data": {
      "text/plain": [
       "False"
      ]
     },
     "execution_count": 89,
     "metadata": {},
     "output_type": "execute_result"
    }
   ],
   "source": [
    "# the first polygon intersects with query_geom?\n",
    "polygons[20] in result"
   ]
  },
  {
   "cell_type": "code",
   "execution_count": 83,
   "id": "90dbe600-12cc-487d-8018-bee66cc61a6d",
   "metadata": {},
   "outputs": [
    {
     "data": {
      "text/plain": [
       "[<matplotlib.lines.Line2D at 0x7ff5c4037af0>]"
      ]
     },
     "execution_count": 83,
     "metadata": {},
     "output_type": "execute_result"
    },
    {
     "data": {
      "image/png": "[encoded data removed]",
      "text/plain": [
       "<Figure size 432x288 with 1 Axes>"
      ]
     },
     "metadata": {
      "needs_background": "light"
     },
     "output_type": "display_data"
    }
   ],
   "source": [
    "# plot\n",
    "for p in polygons:\n",
    "    plt.plot(*p.exterior.xy)\n",
    "plt.plot(*query_geom.exterior.xy)"
   ]
  },
  {
   "cell_type": "code",
   "execution_count": 87,
   "id": "5089257e-fc93-4ad4-b02c-c62e174729ed",
   "metadata": {},
   "outputs": [
    {
     "data": {
      "text/plain": [
       "Counter({'_0': 21, '_2': 18})"
      ]
     },
     "execution_count": 87,
     "metadata": {},
     "output_type": "execute_result"
    }
   ],
   "source": [
    "# Count \n",
    "\n",
    "from collections import Counter\n",
    "Counter(groups.values()) #looks like _2 means no cancer? "
   ]
  },
  {
   "cell_type": "code",
   "execution_count": null,
   "id": "c6b66af2-6fac-4c95-b07a-7655728b0192",
   "metadata": {},
   "outputs": [],
   "source": [
    "# Consider: take polygons, fill in a pixel level mask (turning a 1 and 0 per pixel)\n",
    "# To do: load image with downsized, turn this into a pipeline\n"
   ]
  },
  {
   "cell_type": "code",
   "execution_count": null,
   "id": "f287fd54-5a16-457e-99ac-b60b71b47184",
   "metadata": {},
   "outputs": [],
   "source": []
  }
 ],
 "metadata": {
  "kernelspec": {
   "display_name": "Python 3 (ipykernel)",
   "language": "python",
   "name": "python3"
  },
  "language_info": {
   "codemirror_mode": {
    "name": "ipython",
    "version": 3
   },
   "file_extension": ".py",
   "mimetype": "text/x-python",
   "name": "python",
   "nbconvert_exporter": "python",
   "pygments_lexer": "ipython3",
   "version": "3.8.0"
  }
 },
 "nbformat": 4,
 "nbformat_minor": 5
}
