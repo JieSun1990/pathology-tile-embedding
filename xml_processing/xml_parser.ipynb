{
 "cells": [
  {
   "cell_type": "markdown",
   "id": "ced666c4-38f7-466a-b599-cb2662f4a045",
   "metadata": {},
   "source": [
    "This step processes the .xml file of the annotations and produces a list of polygons (in the form of Shapely objects) extracted from the xml file. \n",
    "\n",
    "Annotated polygons are composed of 2 groups, labeled as '_0' and '_2' respectively. While there is no cited sources on the Camelyon website, upon cross-checking, we assume that '_0' represent polygons that denote 'Cancer', while there are regions within those tumors labeled as '_2' to denote non-cancerous tissues within a tumor. \n",
    "\n",
    "Then, the original is loaded to create tiles, and we check if each tile intersects with any cancerous regions (polygons). We produce a csv file containing the coordinates of the tiles as well as their labels: True means that the tile overlaps with the tumor polygons, False means that the tile does not overlap with a tumor polygon."
   ]
  },
  {
   "cell_type": "markdown",
   "id": "1584c061",
   "metadata": {
    "tags": []
   },
   "source": [
    "# Process XML"
   ]
  },
  {
   "cell_type": "code",
   "execution_count": 101,
   "id": "835a4c53-444a-4537-a69e-86c5efb82e1e",
   "metadata": {},
   "outputs": [
    {
     "name": "stdout",
     "output_type": "stream",
     "text": [
      "Requirement already satisfied: shapely in /Users/jiesun/opt/anaconda3/envs/pathml/lib/python3.8/site-packages (1.8.0)\n",
      "Note: you may need to restart the kernel to use updated packages.\n"
     ]
    }
   ],
   "source": [
    "pip install shapely"
   ]
  },
  {
   "cell_type": "code",
   "execution_count": 102,
   "id": "0a890a38-1acc-40d7-bf32-6b2fc9453b54",
   "metadata": {},
   "outputs": [],
   "source": [
    "import xml.etree.ElementTree as ET\n",
    "import numpy as np\n",
    "import pandas as pd\n",
    "from collections import Counter\n",
    "import matplotlib.pyplot as plt\n",
    "\n",
    "from shapely.geometry import box, Polygon\n",
    "from shapely.ops import cascaded_union\n",
    "from shapely.strtree import STRtree\n",
    "from shapely.geometry import MultiPolygon\n"
   ]
  },
  {
   "cell_type": "code",
   "execution_count": 103,
   "id": "daebffdb-bcf1-49ae-b99d-1970f01db00a",
   "metadata": {},
   "outputs": [],
   "source": [
    "tree = ET.parse('/Users/jiesun/Dropbox/2021_FALL/DanaFaber/Camelyon/test_046.xml') # TO EDIT if needed"
   ]
  },
  {
   "cell_type": "code",
   "execution_count": 104,
   "id": "8a89eb7d-3745-4515-9d6d-aaed9aff473b",
   "metadata": {},
   "outputs": [],
   "source": [
    "# Convert these into X and Y by annotation groups\n",
    "\n",
    "def get_coords(tree):\n",
    "    \"\"\"\n",
    "    input: \n",
    "        tree: xml ElementTree object\n",
    "    output: \n",
    "        polys: dictionary. key = annotation 0, 1, etc. value = polygon coordinates \n",
    "        groups: dictionary. key = annotation 0, 1, etc. value = partofgroup: _0 or _2\n",
    "    \"\"\"\n",
    "    \n",
    "    \n",
    "    root = tree.getroot() #root element\n",
    "    \n",
    "    polys = {} # key = annotation 0, 1, etc. value = polygon coordinates \n",
    "    groups = {} # key = annotation 0, 1, etc. value = partofgroup: _0 or _2\n",
    "\n",
    "    for item in root.findall('Annotations/Annotation'):\n",
    "\n",
    "            # initialize for each Annotation group\n",
    "            x_co = []\n",
    "            y_co = []\n",
    "            name = item.get('Name') #retuns: Annotation 0,1,2,...\n",
    "            group = item.get('PartOfGroup') #returns: _0,_2\n",
    "\n",
    "            for child in item.findall('Coordinates/Coordinate'):\n",
    "\n",
    "                x = child.get('X') # returns: 0,1,2,\n",
    "                x_co.append(x)\n",
    "                y = child.get('Y') # returns: 0,1,2,\n",
    "                y_co.append(y)\n",
    "\n",
    "            # make into list of coords\n",
    "            x_co = np.array(x_co,dtype=np.float32)\n",
    "            y_co = np.array(y_co,dtype=np.float32)\n",
    "            coo = list(zip(x_co,y_co))\n",
    "\n",
    "            # save into dict\n",
    "            polys[name] = coo\n",
    "            groups[name] = group\n",
    "    \n",
    "    return polys, groups\n",
    "    "
   ]
  },
  {
   "cell_type": "code",
   "execution_count": 105,
   "id": "1b4c2857-0af5-400f-a207-a61ae6b66c40",
   "metadata": {},
   "outputs": [],
   "source": [
    "# transform xml file into 2 dictionaries of polygon coords and annotations\n",
    "polys, groups = get_coords(tree) \n",
    "# Create a group of polygon objects\n",
    "polygons = [Polygon(polys[k]) for k in polys.keys()]"
   ]
  },
  {
   "cell_type": "markdown",
   "id": "740d5ae2-d320-4aa9-a814-1beec5fa4578",
   "metadata": {},
   "source": [
    "Below we inspect the content of the three variables: **polys, polygons, groups**"
   ]
  },
  {
   "cell_type": "code",
   "execution_count": 106,
   "id": "c53edd0e-29f2-4e6a-8fd8-781ef48938ca",
   "metadata": {},
   "outputs": [
    {
     "name": "stdout",
     "output_type": "stream",
     "text": [
      "Number of polygons in this image: 4\n"
     ]
    }
   ],
   "source": [
    "print('Number of polygons in this image:',len(polys))"
   ]
  },
  {
   "cell_type": "code",
   "execution_count": 107,
   "id": "edf09ee2-9375-4bed-a079-7c4a14b7e10f",
   "metadata": {},
   "outputs": [
    {
     "name": "stdout",
     "output_type": "stream",
     "text": [
      "Overview of groups: {'Annotation 0': '_0', 'Annotation 1': '_0', 'Annotation 2': '_0', 'Annotation 3': '_0'}\n"
     ]
    }
   ],
   "source": [
    "print('Overview of groups:',groups) #groups and their labels. _0 does seem to be the one WITH cancer"
   ]
  },
  {
   "cell_type": "code",
   "execution_count": 108,
   "id": "5089257e-fc93-4ad4-b02c-c62e174729ed",
   "metadata": {},
   "outputs": [
    {
     "data": {
      "text/plain": [
       "Counter({'_0': 4})"
      ]
     },
     "execution_count": 108,
     "metadata": {},
     "output_type": "execute_result"
    }
   ],
   "source": [
    "# Count: cancer or no cancer? _0 is cancer, _2 is no cancer but within _0\n",
    "Counter(groups.values()) "
   ]
  },
  {
   "cell_type": "code",
   "execution_count": null,
   "id": "56f07367",
   "metadata": {},
   "outputs": [],
   "source": []
  },
  {
   "cell_type": "code",
   "execution_count": 109,
   "id": "551a1134-18ea-45cd-8315-555a906a5d31",
   "metadata": {},
   "outputs": [],
   "source": [
    "# get 1 polygon\n",
    "polygon = Polygon(polys['Annotation 0'])"
   ]
  },
  {
   "cell_type": "code",
   "execution_count": 110,
   "id": "14d9be47",
   "metadata": {},
   "outputs": [
    {
     "data": {
      "text/plain": [
       "280851.9525413513"
      ]
     },
     "execution_count": 110,
     "metadata": {},
     "output_type": "execute_result"
    }
   ],
   "source": [
    "# inspect the polygon size\n",
    "polygon.area"
   ]
  },
  {
   "cell_type": "code",
   "execution_count": 111,
   "id": "3fdc05fb-f6e4-4ad0-b319-30e014423d67",
   "metadata": {},
   "outputs": [],
   "source": [
    "# create a shapely Tree object\n",
    "s = STRtree([polygon])"
   ]
  },
  {
   "cell_type": "code",
   "execution_count": 37,
   "id": "20a31c32-c141-4a3f-9c39-8e7e023c753e",
   "metadata": {},
   "outputs": [
    {
     "data": {
      "text/plain": [
       "False"
      ]
     },
     "execution_count": 37,
     "metadata": {},
     "output_type": "execute_result"
    }
   ],
   "source": [
    "# similar to our tile\n",
    "query_geom = Polygon([(-1, -1), (2, 0), (2, 2), (-1, 2)])\n",
    "# Returns a list of all geometries in the s(strtree) whose extents intersect the extent of query_geom. \n",
    "result = s.query(query_geom)\n",
    "\n",
    "# does my polygon intersect with the query_geom (i.e. tile)? \n",
    "polygon in result"
   ]
  },
  {
   "cell_type": "code",
   "execution_count": 38,
   "id": "4459bc1b-50ea-4390-ae81-2351dbe44d4e",
   "metadata": {},
   "outputs": [
    {
     "data": {
      "text/plain": [
       "[<matplotlib.lines.Line2D at 0x7fe75a8893a0>]"
      ]
     },
     "execution_count": 38,
     "metadata": {},
     "output_type": "execute_result"
    },
    {
     "data": {
      "image/png": "[encoded data removed]",
      "text/plain": [
       "<Figure size 432x288 with 1 Axes>"
      ]
     },
     "metadata": {
      "needs_background": "light"
     },
     "output_type": "display_data"
    }
   ],
   "source": [
    "# visualize\n",
    "plt.plot(*polygon.exterior.xy)\n",
    "plt.plot(*query_geom.exterior.xy)"
   ]
  },
  {
   "cell_type": "code",
   "execution_count": 39,
   "id": "88a87b10-36d4-4b66-8ee4-84e022b1cce1",
   "metadata": {},
   "outputs": [
    {
     "data": {
      "text/plain": [
       "False"
      ]
     },
     "execution_count": 39,
     "metadata": {},
     "output_type": "execute_result"
    }
   ],
   "source": [
    "# REVERSE: does my query_geom(i.e. Tile) intersect with the polygon?\n",
    "\n",
    "# similar to our tile\n",
    "query_geom = Polygon([(30000, 30000), (40000, 30000), (40000, 40000), (30000, 40000)])\n",
    "# create a shapely Tree object, but with query_geom\n",
    "s = STRtree([query_geom])\n",
    "# Returns a list of all geometries in the s(strtree) whose extents intersect the extent of polygon\n",
    "result = s.query(polygon)\n",
    "# does my query_geom intersect with the polygon? \n",
    "query_geom in result"
   ]
  },
  {
   "cell_type": "code",
   "execution_count": null,
   "id": "ea8be018-7116-4178-b24c-c567fd5fc128",
   "metadata": {},
   "outputs": [],
   "source": [
    "# make the above into a function\n",
    "# 1 tile vs 1 polygon\n",
    "def tile_intersect(query_geom,polygon):\n",
    "    \"\"\"\n",
    "    query_geom: a polygon object(tile). e.g. Polygon([(30000, 30000), (40000, 30000), (40000, 40000), (30000, 40000)])\n",
    "    polygon: a polygon object(tumor). e.g. Polygon(polys['Annotation 0'])\n",
    "    \"\"\"\n",
    "    # create a shapely Tree object, but with query_geom\n",
    "    s = STRtree([query_geom])\n",
    "    # Returns a list of all geometries in the s(strtree) whose extents intersect the extent of polygon\n",
    "    result = s.query(polygon)\n",
    "    # does my query_geom intersect with the polygon? True/False\n",
    "    return query_geom in result"
   ]
  },
  {
   "cell_type": "code",
   "execution_count": 40,
   "id": "3fc60a15-3737-4d4d-b7b2-7da41d29ea5e",
   "metadata": {},
   "outputs": [
    {
     "data": {
      "text/plain": [
       "[<matplotlib.lines.Line2D at 0x7fe75a740eb0>]"
      ]
     },
     "execution_count": 40,
     "metadata": {},
     "output_type": "execute_result"
    },
    {
     "data": {
      "image/png": "[encoded data removed]",
      "text/plain": [
       "<Figure size 432x288 with 1 Axes>"
      ]
     },
     "metadata": {
      "needs_background": "light"
     },
     "output_type": "display_data"
    }
   ],
   "source": [
    "# visualize\n",
    "plt.plot(*polygon.exterior.xy)\n",
    "plt.plot(*query_geom.exterior.xy)"
   ]
  },
  {
   "cell_type": "code",
   "execution_count": null,
   "id": "9432d895-ad3e-46c6-b2b6-7c66ab581199",
   "metadata": {},
   "outputs": [],
   "source": [
    "# But using this will have problems for tiles who overlaps with _0 AND _2 polygons\n",
    "# Tiles within the 'benign region' within the tumor will always be labeled as 'cancerous' \n",
    "# This way of adding labels to tiles is tedious, but it may work\n",
    "\n",
    "# --> consider for the list given to Haoyuan"
   ]
  },
  {
   "cell_type": "markdown",
   "id": "4d8adfd3-d0bd-4cc4-a2cf-7b08c04afc2e",
   "metadata": {},
   "source": [
    "# Load image"
   ]
  },
  {
   "cell_type": "code",
   "execution_count": 112,
   "id": "27b723be-7299-4ceb-bcc7-2fb51a6dbc4a",
   "metadata": {},
   "outputs": [],
   "source": [
    "import pathml\n",
    "from pathml import HESlide\n",
    "from pathml.preprocessing import Pipeline, BoxBlur, TissueDetectionHE\n",
    "\n",
    "import matplotlib.pyplot as plt\n",
    "import numpy as np\n",
    "import pandas as pd\n",
    "\n",
    "%matplotlib inline"
   ]
  },
  {
   "cell_type": "code",
   "execution_count": 113,
   "id": "875e8449-c412-4a57-b8a8-faa8a0c510a8",
   "metadata": {},
   "outputs": [],
   "source": [
    "wsi = HESlide(\"/Users/jiesun/Dropbox/2021_FALL/DanaFaber/Camelyon/test_046.tiff\", name = \"test_046\", backend = 'openslide')"
   ]
  },
  {
   "cell_type": "code",
   "execution_count": 114,
   "id": "f749977a-6c7c-4b0c-a231-08f4dcd0dd63",
   "metadata": {},
   "outputs": [
    {
     "data": {
      "image/png": "[encoded data removed]",
      "text/plain": [
       "<Figure size 432x288 with 1 Axes>"
      ]
     },
     "metadata": {
      "needs_background": "light"
     },
     "output_type": "display_data"
    }
   ],
   "source": [
    "wsi.plot()"
   ]
  },
  {
   "cell_type": "code",
   "execution_count": 97,
   "id": "494618a5-c321-4818-aacc-420821d1f094",
   "metadata": {},
   "outputs": [
    {
     "data": {
      "text/plain": [
       "(89600, 61440)"
      ]
     },
     "execution_count": 97,
     "metadata": {},
     "output_type": "execute_result"
    }
   ],
   "source": [
    "wsi.shape"
   ]
  },
  {
   "cell_type": "markdown",
   "id": "06f4069d-0669-4603-9064-f1852c38d797",
   "metadata": {},
   "source": [
    "## Helper functions"
   ]
  },
  {
   "cell_type": "code",
   "execution_count": 115,
   "id": "0f1e7e03-027b-4fcc-885c-5675d457fe87",
   "metadata": {},
   "outputs": [],
   "source": [
    "# 1. check if a tile overlaps with a group of polygons\n",
    "\n",
    "# before using this, inspect the type of polygons: _0(cancer) or _2(no cancer)\n",
    "def tile_intersect_polys(query_geom,polygons):\n",
    "    \"\"\"\n",
    "    This function checks if a tile overlaps with a group of polygons.\n",
    "    query_geom: a polygon object(tile). e.g. Polygon([(30000, 30000), (40000, 30000), (40000, 40000), (30000, 40000)])\n",
    "    polygons: a list of polygons(tumor). e.g. [Polygon(polys['Annotation 0']),...]\n",
    "    \"\"\"\n",
    "    # create a shapely Tree object, but with query_geom\n",
    "    s = STRtree([query_geom])\n",
    "    # Returns a list of all geometries in the s(strtree) whose extents intersect the extent of multiple polygons\n",
    "    multi = MultiPolygon(polygons)\n",
    "    result = s.query(multi)\n",
    "    # does my query_geom intersect with the polygon? True/False\n",
    "    return query_geom in result"
   ]
  },
  {
   "cell_type": "code",
   "execution_count": 116,
   "id": "54ea5b38-ae59-4172-8535-395cd38302f7",
   "metadata": {},
   "outputs": [],
   "source": [
    "# 2. how to complete the tile coords: input tile initial coord and shape, output a full rectangular\n",
    "\n",
    "# this will become the input of the query_geom\n",
    "# output example: [(20000,20000), (30000, 20000), (30000,30000), (20000, 30000)]\n",
    "\n",
    "def coords_expand(c,s,l):\n",
    "    \"\"\"\n",
    "    c: tile.coords, e.g. (0,0)\n",
    "    s: tile.shape, e.g. (3000,3000,3)\n",
    "    l: level\n",
    "    \"\"\"\n",
    "    l = 2**l\n",
    "    ss = s[0] # e.g. 3000\n",
    "    ans = [(c[0]*l,c[1]*l),((c[0]+ss)*l,c[1]*l),((c[0]+ss)*l,(c[1]+ss)*l),(c[0]*l,(c[1]+ss)*l)]\n",
    "    return ans"
   ]
  },
  {
   "cell_type": "markdown",
   "id": "a4570123-69d8-4391-8ef6-d66eb5d7acf2",
   "metadata": {},
   "source": [
    "## Check if tiles intersect with cancer regions"
   ]
  },
  {
   "cell_type": "markdown",
   "id": "404cfc36-3bfa-4c19-b004-15b567b3a12b",
   "metadata": {},
   "source": [
    "Here we have ignored the different annotation groups and assume that they will all represent tumors. @"
   ]
  },
  {
   "cell_type": "code",
   "execution_count": 117,
   "id": "e9159e46-3f89-4148-bc18-63eee514b36b",
   "metadata": {},
   "outputs": [],
   "source": [
    "# require previous variable: polygons\n",
    "LEVEL = 2\n",
    "SHAPE = 256\n",
    "\n",
    "p_list = []  # to store a list of  rectangular polygon objects (tile)\n",
    "p_coords = [] # to store coords of each tile\n",
    "intersect = [] # to store if each tile intersects with any cancer polygons\n",
    "\n",
    "for t in wsi.slide.generate_tiles(shape = SHAPE, level = LEVEL): #for each tile\n",
    "    # generate tiles, make into query_geom\n",
    "    coo = coords_expand(t.coords,t.shape,LEVEL)\n",
    "    query_p = Polygon(coo) #tile(a polygon)\n",
    "    p_coords.append(coo)\n",
    "    # check if this tile intersect with the polygons\n",
    "    intersect.append(tile_intersect_polys(query_p,polygons))\n",
    "    p_list.append(query_p) #list of polygons\n",
    "\n"
   ]
  },
  {
   "cell_type": "code",
   "execution_count": 118,
   "id": "eb8d2d40-e0f8-4bf0-b85a-780998f0eb81",
   "metadata": {},
   "outputs": [
    {
     "name": "stdout",
     "output_type": "stream",
     "text": [
      "Number of tiles: 5220\n",
      "Examples of tile list [<shapely.geometry.polygon.Polygon object at 0x7fd2aefbc550>, <shapely.geometry.polygon.Polygon object at 0x7fd2a8876130>]\n",
      "Examples of tile coords [[(0, 0), (1024, 0), (1024, 1024), (0, 1024)], [(0, 1024), (1024, 1024), (1024, 2048), (0, 2048)]]\n",
      "Whether tiles intersect with polygons [False, False]\n",
      "How many tiles intersect with polygons: 18\n"
     ]
    }
   ],
   "source": [
    "print('Number of tiles:',len(p_list))\n",
    "print('Examples of tile list',p_list[:2])\n",
    "print('Examples of tile coords',p_coords[:2])\n",
    "print('Whether tiles intersect with polygons',intersect[:2])\n",
    "print('How many tiles intersect with polygons:', sum(intersect))"
   ]
  },
  {
   "cell_type": "code",
   "execution_count": 119,
   "id": "5a30deb3-5a90-4024-8ce7-e86cb7aaab93",
   "metadata": {},
   "outputs": [],
   "source": [
    "# export the result\n",
    "dic = {'tile_coords': p_coords, 'tile_label': intersect}\n",
    "df = pd.DataFrame(dic)\n",
    "df.to_csv('/Users/jiesun/Dropbox/2021_FALL/DanaFaber/Camelyon/test_046_tile_labels.csv')"
   ]
  },
  {
   "cell_type": "markdown",
   "id": "dfcc7124-bc4d-4933-8adb-db31ca9abd31",
   "metadata": {},
   "source": [
    "## Plot"
   ]
  },
  {
   "cell_type": "code",
   "execution_count": 99,
   "id": "cae54cb7-75a3-4e3d-ab1c-db42d53c9b27",
   "metadata": {},
   "outputs": [
    {
     "data": {
      "image/png": "[encoded data removed]",
      "text/plain": [
       "<Figure size 432x288 with 1 Axes>"
      ]
     },
     "metadata": {
      "needs_background": "light"
     },
     "output_type": "display_data"
    }
   ],
   "source": [
    "# plot: tumor\n",
    "for p in polygons:\n",
    "    plt.plot(*p.exterior.xy, )"
   ]
  },
  {
   "cell_type": "code",
   "execution_count": 100,
   "id": "b6162f33-5a89-4673-8683-9f5ba6e29cae",
   "metadata": {},
   "outputs": [
    {
     "name": "stderr",
     "output_type": "stream",
     "text": [
      "/var/folders/dv/bvvgqfdx65961yf27jjzsbb00000gn/T/ipykernel_10478/3892797650.py:7: ShapelyDeprecationWarning: Iteration over multi-part geometries is deprecated and will be removed in Shapely 2.0. Use the `geoms` property to access the constituent parts of a multi-part geometry.\n",
      "  for t in tiles:\n"
     ]
    },
    {
     "data": {
      "image/png": "[encoded data removed]",
      "text/plain": [
       "<Figure size 432x288 with 1 Axes>"
      ]
     },
     "metadata": {
      "needs_background": "light"
     },
     "output_type": "display_data"
    }
   ],
   "source": [
    "# multipolygon for tiles\n",
    "tiles = MultiPolygon(p_list)\n",
    "\n",
    "# plot: tumor with tiles\n",
    "for p in polygons:\n",
    "    plt.plot(*p.exterior.xy)\n",
    "for t in tiles:\n",
    "    plt.plot(*t.exterior.xy)\n",
    "# hard to see because too many tiles"
   ]
  },
  {
   "cell_type": "code",
   "execution_count": null,
   "id": "fa9c7017-c068-402a-a719-08227b47a9ee",
   "metadata": {},
   "outputs": [],
   "source": [
    "# REF: \n",
    "# https://stackoverflow.com/questions/14697442/faster-way-of-polygon-intersection-with-shapely\n",
    "# https://shapely.readthedocs.io/en/stable/manual.html#polygons"
   ]
  },
  {
   "cell_type": "markdown",
   "id": "e9ad2e09-38c4-4d75-9e78-1b862e8684fb",
   "metadata": {},
   "source": [
    "## check if a point is in a polygon"
   ]
  },
  {
   "cell_type": "code",
   "execution_count": 6,
   "id": "5bf54a33-e944-4e91-83ec-6564bb78acdb",
   "metadata": {},
   "outputs": [],
   "source": [
    "from shapely.geometry import Point, Polygon\n",
    "\n",
    "# Create Point objects\n",
    "p1 = Point(24.952242, 60.1696017)\n",
    "p2 = Point(24.976567, 60.1612500)\n",
    "\n",
    "# Create a Polygon\n",
    "coords = [(24.950899, 60.169158), (24.953492, 60.169158), (24.953510, 60.170104), (24.950958, 60.169990)]\n",
    "poly = Polygon(coords)"
   ]
  },
  {
   "cell_type": "code",
   "execution_count": 7,
   "id": "f02d3b58-8372-4811-bcac-ad9d589eb240",
   "metadata": {},
   "outputs": [
    {
     "name": "stdout",
     "output_type": "stream",
     "text": [
      "POINT (24.952242 60.1696017)\n",
      "POINT (24.976567 60.16125)\n",
      "POLYGON ((24.950899 60.169158, 24.953492 60.169158, 24.95351 60.170104, 24.950958 60.16999, 24.950899 60.169158))\n"
     ]
    }
   ],
   "source": [
    "# Let's check what we have\n",
    "print(p1)\n",
    "print(p2)\n",
    "print(poly)\n"
   ]
  },
  {
   "cell_type": "code",
   "execution_count": 51,
   "id": "f0f981df-5590-4678-bad4-0038700cdfb0",
   "metadata": {},
   "outputs": [
    {
     "data": {
      "image/svg+xml": [
       "<svg xmlns=\"http://www.w3.org/2000/svg\" xmlns:xlink=\"http://www.w3.org/1999/xlink\" width=\"100.0\" height=\"100.0\" viewBox=\"24.95079456 60.16905356 0.0028198800000041047 0.0011548800000014126\" preserveAspectRatio=\"xMinYMin meet\"><g transform=\"matrix(1,0,0,-1,0,120.339262)\"><path fill-rule=\"evenodd\" fill=\"#66cc99\" stroke=\"#555555\" stroke-width=\"5.639760000008209e-05\" opacity=\"0.6\" d=\"M 24.950899,60.169158 L 24.953492,60.169158 L 24.95351,60.170104 L 24.950958,60.16999 L 24.950899,60.169158 z\" /></g></svg>"
      ],
      "text/plain": [
       "<shapely.geometry.polygon.Polygon at 0x7fbc0d7839d0>"
      ]
     },
     "execution_count": 51,
     "metadata": {},
     "output_type": "execute_result"
    }
   ],
   "source": [
    "poly"
   ]
  },
  {
   "cell_type": "code",
   "execution_count": 41,
   "id": "a893e117-31eb-44e8-941f-39c88e773ea9",
   "metadata": {},
   "outputs": [
    {
     "data": {
      "text/plain": [
       "True"
      ]
     },
     "execution_count": 41,
     "metadata": {},
     "output_type": "execute_result"
    }
   ],
   "source": [
    "p1.within(poly)"
   ]
  },
  {
   "cell_type": "code",
   "execution_count": 42,
   "id": "104a7a81-28bc-4aeb-9f1a-0559bafd4893",
   "metadata": {},
   "outputs": [
    {
     "data": {
      "text/plain": [
       "False"
      ]
     },
     "execution_count": 42,
     "metadata": {},
     "output_type": "execute_result"
    }
   ],
   "source": [
    "p2.within(poly)"
   ]
  },
  {
   "cell_type": "code",
   "execution_count": 48,
   "id": "b49294cd-cb8b-4809-849f-3d4437a4bb2e",
   "metadata": {},
   "outputs": [
    {
     "data": {
      "text/plain": [
       "True"
      ]
     },
     "execution_count": 48,
     "metadata": {},
     "output_type": "execute_result"
    }
   ],
   "source": [
    "# Does polygon contain p1?\n",
    "poly.contains(p1)"
   ]
  },
  {
   "cell_type": "code",
   "execution_count": 49,
   "id": "efa041bb-3c86-4b15-b8e7-05d1eaf9f087",
   "metadata": {},
   "outputs": [
    {
     "data": {
      "text/plain": [
       "False"
      ]
     },
     "execution_count": 49,
     "metadata": {},
     "output_type": "execute_result"
    }
   ],
   "source": [
    "# Does polygon contain p2?\n",
    "poly.contains(p2)"
   ]
  },
  {
   "cell_type": "code",
   "execution_count": null,
   "id": "1b79e23c-3705-48f7-9913-5658ac98a211",
   "metadata": {},
   "outputs": [],
   "source": [
    "# Qn:\n",
    "# how is each pixel represented? as a point? and to what resolution\n",
    "# should be, because the array version is of that length. \n",
    "# how to make this process faster, any vectorization? "
   ]
  },
  {
   "cell_type": "code",
   "execution_count": 56,
   "id": "a5925239-7da5-4d67-9fbd-f69acc9045ee",
   "metadata": {},
   "outputs": [
    {
     "data": {
      "text/plain": [
       "[<matplotlib.lines.Line2D at 0x7fbc0e80da00>]"
      ]
     },
     "execution_count": 56,
     "metadata": {},
     "output_type": "execute_result"
    },
    {
     "data": {
      "image/png": "[encoded data removed]",
      "text/plain": [
       "<Figure size 432x288 with 1 Axes>"
      ]
     },
     "metadata": {
      "needs_background": "light"
     },
     "output_type": "display_data"
    }
   ],
   "source": [
    "plt.plot(*poly.exterior.xy)\n",
    "# but the coords seem wrong"
   ]
  },
  {
   "cell_type": "code",
   "execution_count": 57,
   "id": "8d1f2fec-3211-4e0b-a2ac-27cf46063c21",
   "metadata": {},
   "outputs": [
    {
     "data": {
      "text/plain": [
       "shapely.geometry.polygon.Polygon"
      ]
     },
     "execution_count": 57,
     "metadata": {},
     "output_type": "execute_result"
    }
   ],
   "source": [
    "type(poly)"
   ]
  },
  {
   "cell_type": "markdown",
   "id": "673ccce4-972d-44e2-b4c2-9a656e6f0153",
   "metadata": {
    "tags": []
   },
   "source": [
    "## Shapely polygon to binary mask"
   ]
  },
  {
   "cell_type": "markdown",
   "id": "d2851c3a-4f68-4e91-ac74-297f761d4215",
   "metadata": {},
   "source": [
    "### Method 1"
   ]
  },
  {
   "cell_type": "code",
   "execution_count": 62,
   "id": "2e818d59-ddea-4716-8308-dc36de59ecd4",
   "metadata": {
    "collapsed": true,
    "jupyter": {
     "outputs_hidden": true
    },
    "tags": []
   },
   "outputs": [
    {
     "name": "stdout",
     "output_type": "stream",
     "text": [
      "Collecting rasterio\n",
      "  Downloading rasterio-1.2.10-cp38-cp38-macosx_10_9_x86_64.whl (21.1 MB)\n",
      "\u001b[K     |████████████████████████████████| 21.1 MB 2.9 MB/s eta 0:00:01\n",
      "\u001b[?25hRequirement already satisfied: numpy in /Users/jiesun/opt/anaconda3/envs/pathml/lib/python3.8/site-packages (from rasterio) (1.19.5)\n",
      "Requirement already satisfied: setuptools in /Users/jiesun/opt/anaconda3/envs/pathml/lib/python3.8/site-packages (from rasterio) (58.0.4)\n",
      "Requirement already satisfied: certifi in /Users/jiesun/opt/anaconda3/envs/pathml/lib/python3.8/site-packages (from rasterio) (2021.5.30)\n",
      "Requirement already satisfied: click>=4.0 in /Users/jiesun/opt/anaconda3/envs/pathml/lib/python3.8/site-packages (from rasterio) (8.0.1)\n",
      "Collecting affine\n",
      "  Downloading affine-2.3.0-py2.py3-none-any.whl (15 kB)\n",
      "Requirement already satisfied: click-plugins in /Users/jiesun/opt/anaconda3/envs/pathml/lib/python3.8/site-packages (from rasterio) (1.1.1)\n",
      "Requirement already satisfied: cligj>=0.5 in /Users/jiesun/opt/anaconda3/envs/pathml/lib/python3.8/site-packages (from rasterio) (0.7.2)\n",
      "Collecting snuggs>=1.4.1\n",
      "  Downloading snuggs-1.4.7-py3-none-any.whl (5.4 kB)\n",
      "Requirement already satisfied: attrs in /Users/jiesun/opt/anaconda3/envs/pathml/lib/python3.8/site-packages (from rasterio) (21.2.0)\n",
      "Requirement already satisfied: pyparsing>=2.1.6 in /Users/jiesun/opt/anaconda3/envs/pathml/lib/python3.8/site-packages (from snuggs>=1.4.1->rasterio) (2.4.7)\n",
      "Installing collected packages: snuggs, affine, rasterio\n",
      "Successfully installed affine-2.3.0 rasterio-1.2.10 snuggs-1.4.7\n",
      "Note: you may need to restart the kernel to use updated packages.\n"
     ]
    }
   ],
   "source": [
    "pip install rasterio"
   ]
  },
  {
   "cell_type": "code",
   "execution_count": 13,
   "id": "c80d5d91-602b-42f8-9c56-632f52e91b61",
   "metadata": {},
   "outputs": [
    {
     "data": {
      "text/plain": [
       "<matplotlib.image.AxesImage at 0x7fd3d947f400>"
      ]
     },
     "execution_count": 13,
     "metadata": {},
     "output_type": "execute_result"
    },
    {
     "data": {
      "image/png": "[encoded data removed]",
      "text/plain": [
       "<Figure size 432x288 with 1 Axes>"
      ]
     },
     "metadata": {
      "needs_background": "light"
     },
     "output_type": "display_data"
    }
   ],
   "source": [
    "from shapely.geometry import Polygon\n",
    "import rasterio.features\n",
    "import matplotlib.pyplot as plt\n",
    "\n",
    "poly = Polygon([(0, 50), (10, 10), (30, 0), (45, 45), (0, 50)])\n",
    "img = rasterio.features.rasterize([poly], out_shape=(100, 80))\n",
    "plt.imshow(img)\n"
   ]
  },
  {
   "cell_type": "code",
   "execution_count": 8,
   "id": "a90b210e-9c12-4fdb-b55a-96633e525bd3",
   "metadata": {},
   "outputs": [
    {
     "data": {
      "image/svg+xml": [
       "<svg xmlns=\"http://www.w3.org/2000/svg\" xmlns:xlink=\"http://www.w3.org/1999/xlink\" width=\"100.0\" height=\"100.0\" viewBox=\"-2.0 -2.0 49.0 54.0\" preserveAspectRatio=\"xMinYMin meet\"><g transform=\"matrix(1,0,0,-1,0,50.0)\"><path fill-rule=\"evenodd\" fill=\"#66cc99\" stroke=\"#555555\" stroke-width=\"1.08\" opacity=\"0.6\" d=\"M 0.0,50.0 L 10.0,10.0 L 30.0,0.0 L 45.0,45.0 L 0.0,50.0 z\" /></g></svg>"
      ],
      "text/plain": [
       "<shapely.geometry.polygon.Polygon at 0x7fd3dd500100>"
      ]
     },
     "execution_count": 8,
     "metadata": {},
     "output_type": "execute_result"
    }
   ],
   "source": [
    "poly"
   ]
  },
  {
   "cell_type": "code",
   "execution_count": 9,
   "id": "07125051-46d9-46bf-b0b0-4eb6e05a06bf",
   "metadata": {},
   "outputs": [
    {
     "data": {
      "text/plain": [
       "array([[0, 0, 0, ..., 0, 0, 0],\n",
       "       [0, 0, 0, ..., 0, 0, 0],\n",
       "       [0, 0, 0, ..., 0, 0, 0],\n",
       "       ...,\n",
       "       [0, 0, 0, ..., 0, 0, 0],\n",
       "       [0, 0, 0, ..., 0, 0, 0],\n",
       "       [0, 0, 0, ..., 0, 0, 0]], dtype=uint8)"
      ]
     },
     "execution_count": 9,
     "metadata": {},
     "output_type": "execute_result"
    }
   ],
   "source": [
    "img"
   ]
  },
  {
   "cell_type": "markdown",
   "id": "8062dfbf-98c8-4f0e-8ecb-50b9df604c77",
   "metadata": {},
   "source": [
    "### Method 2"
   ]
  },
  {
   "cell_type": "code",
   "execution_count": 9,
   "id": "f153b97e-a41f-40a9-b97b-1eac7fca56fe",
   "metadata": {},
   "outputs": [],
   "source": [
    "import pylab as plt\n",
    "import numpy as np\n",
    "from matplotlib.path import Path"
   ]
  },
  {
   "cell_type": "code",
   "execution_count": 17,
   "id": "18025346-af55-412b-ad9e-72ab8d87257d",
   "metadata": {},
   "outputs": [
    {
     "data": {
      "image/png": "[encoded data removed]",
      "text/plain": [
       "<Figure size 432x288 with 1 Axes>"
      ]
     },
     "metadata": {
      "needs_background": "light"
     },
     "output_type": "display_data"
    }
   ],
   "source": [
    "width, height=2000, 2000\n",
    "\n",
    "polygon=[(0.1*width, 0.1*height), (0.15*width, 0.7*height), (0.8*width, 0.75*height), (0.72*width, 0.15*height)]\n",
    "poly_path=Path(polygon)\n",
    "\n",
    "x, y = np.mgrid[:height, :width]\n",
    "coors=np.hstack((x.reshape(-1, 1), y.reshape(-1,1))) # coors.shape is (4000000,2)\n",
    "\n",
    "mask = poly_path.contains_points(coors)\n",
    "plt.imshow(mask.reshape(height, width))\n",
    "plt.show()"
   ]
  },
  {
   "cell_type": "markdown",
   "id": "58994243-511e-42c1-b954-6d46f1bd4b0c",
   "metadata": {},
   "source": [
    "### Method 3"
   ]
  },
  {
   "cell_type": "code",
   "execution_count": 7,
   "id": "acf75531-025a-4aee-aac1-6465aab18812",
   "metadata": {},
   "outputs": [
    {
     "data": {
      "text/plain": [
       "array([0, 0, 0, ..., 0, 0, 0])"
      ]
     },
     "execution_count": 7,
     "metadata": {},
     "output_type": "execute_result"
    }
   ],
   "source": [
    "from PIL import Image, ImageDraw\n",
    "\n",
    "width, height=2000, 2000\n",
    "vertexlist = [(0.1*width, 0.1*height), (0.15*width, 0.7*height), (0.8*width, 0.75*height), (0.72*width, 0.15*height)]\n",
    "\n",
    "img = Image.new('L', (width, height), 0)   # The Zero is to Specify Background Color\n",
    "draw = ImageDraw.Draw(img)\n",
    "\n",
    "for vertex in range(len(vertexlist)):\n",
    "    startpoint = vertexlist[vertex]\n",
    "    try: endpoint = vertexlist[vertex+1]\n",
    "    except IndexError: endpoint = vertexlist[0] \n",
    "    # The exception means We have reached the end and need to complete the polygon\n",
    "    draw.line((startpoint[0], startpoint[1], endpoint[0], endpoint[1]), fill=1)\n",
    "\n",
    "# If you want the result as a single list\n",
    "# You can make a two dimensional list or dictionary by iterating over the height and width variable\n",
    "np.array(img.getdata())\n",
    "\n",
    "# If you want the result as an actual Image\n",
    "# img.save('polgon.jpg', 'JPEG')"
   ]
  },
  {
   "cell_type": "code",
   "execution_count": 11,
   "id": "6edf4bfe-ca3b-415a-9b61-8f5b993c960f",
   "metadata": {},
   "outputs": [
    {
     "data": {
      "text/plain": [
       "<matplotlib.image.AxesImage at 0x7f7f764e18e0>"
      ]
     },
     "execution_count": 11,
     "metadata": {},
     "output_type": "execute_result"
    },
    {
     "data": {
      "image/png": "[encoded data removed]",
      "text/plain": [
       "<Figure size 432x288 with 1 Axes>"
      ]
     },
     "metadata": {
      "needs_background": "light"
     },
     "output_type": "display_data"
    }
   ],
   "source": [
    "plt.imshow(img)"
   ]
  },
  {
   "cell_type": "markdown",
   "id": "9dbba5c9-bc54-4923-8a9e-a240ed5fc615",
   "metadata": {},
   "source": [
    "### Method 3.2"
   ]
  },
  {
   "cell_type": "code",
   "execution_count": 15,
   "id": "012f74e5-d5d6-4805-8152-ce9f89a3dd79",
   "metadata": {},
   "outputs": [
    {
     "data": {
      "image/png": "[encoded data removed]",
      "text/plain": [
       "<Figure size 432x288 with 1 Axes>"
      ]
     },
     "metadata": {
      "needs_background": "light"
     },
     "output_type": "display_data"
    }
   ],
   "source": [
    "from PIL import Image, ImageDraw\n",
    "\n",
    "width, height=2000, 2000\n",
    "polygon = [(0.1*width, 0.1*height), (0.15*width, 0.7*height), (0.8*width, 0.75*height), (0.72*width, 0.15*height)]\n",
    "\n",
    "img = Image.new('L', (width, height), 0)\n",
    "ImageDraw.Draw(img).polygon(polygon, outline=1, fill=1)\n",
    "mask = np.array(img)\n",
    "plt.imshow(mask.reshape(height, width))\n",
    "plt.show()"
   ]
  },
  {
   "cell_type": "code",
   "execution_count": 16,
   "id": "618bd888-3e57-4e5d-92dd-c55eea3fb451",
   "metadata": {},
   "outputs": [
    {
     "data": {
      "text/plain": [
       "array([[0, 0, 0, ..., 0, 0, 0],\n",
       "       [0, 0, 0, ..., 0, 0, 0],\n",
       "       [0, 0, 0, ..., 0, 0, 0],\n",
       "       ...,\n",
       "       [0, 0, 0, ..., 0, 0, 0],\n",
       "       [0, 0, 0, ..., 0, 0, 0],\n",
       "       [0, 0, 0, ..., 0, 0, 0]], dtype=uint8)"
      ]
     },
     "execution_count": 16,
     "metadata": {},
     "output_type": "execute_result"
    }
   ],
   "source": [
    "mask"
   ]
  },
  {
   "cell_type": "markdown",
   "id": "eab215c9-c96f-4f04-8274-a3483252a9a5",
   "metadata": {},
   "source": [
    "## Shapeley Polygons to binary mask"
   ]
  },
  {
   "cell_type": "code",
   "execution_count": 12,
   "id": "d45b65e5-a7cb-46ec-ae85-ea057d518222",
   "metadata": {},
   "outputs": [
    {
     "data": {
      "image/svg+xml": [
       "<svg xmlns=\"http://www.w3.org/2000/svg\" xmlns:xlink=\"http://www.w3.org/1999/xlink\" width=\"300\" height=\"300\" viewBox=\"11385.8040625 5762.054062499999 42354.7903125 29708.34109375\" preserveAspectRatio=\"xMinYMin meet\"><g transform=\"matrix(1,0,0,-1,0,41232.44921875)\"><path fill-rule=\"evenodd\" fill=\"#ff3333\" stroke=\"#555555\" stroke-width=\"282.36526875\" opacity=\"0.6\" d=\"M 32841.30078125,14389.599609375 L 32861.19921875,14331.400390625 L 32881.1015625,14277.400390625 L 32900.8984375,14217.7998046875 L 32939.30078125,14171.0 L 32976.19921875,14121.2998046875 L 33006.0,14071.599609375 L 33038.6015625,14024.7998046875 L 33061.30078125,13972.2998046875 L 33085.5,13919.7001953125 L 33122.3984375,13871.5 L 33172.1015625,13841.7001953125 L 33228.80078125,13837.400390625 L 33289.8984375,13843.099609375 L 33349.5,13863.0 L 33410.5,13871.5 L 33467.30078125,13868.599609375 L 33525.5,13863.0 L 33587.8984375,13884.2998046875 L 33637.6015625,13914.099609375 L 33675.8984375,13965.2001953125 L 33700.1015625,14019.099609375 L 33711.3984375,14075.900390625 L 33711.3984375,14078.7001953125 L 33735.5,14026.2001953125 L 33766.80078125,13973.7001953125 L 33803.69921875,13922.599609375 L 33856.19921875,13887.099609375 L 33914.3984375,13867.2001953125 L 33966.8984375,13843.099609375 L 33981.1015625,13837.400390625 L 33918.6015625,13841.7001953125 L 33860.3984375,13847.400390625 L 33799.3984375,13847.400390625 L 33738.3984375,13844.5 L 33678.80078125,13847.400390625 L 33620.6015625,13848.7998046875 L 33559.5,13848.7998046875 L 33504.19921875,13828.900390625 L 33451.69921875,13797.7001953125 L 33394.8984375,13784.900390625 L 33339.5,13770.7001953125 L 33285.6015625,13743.7001953125 L 33227.3984375,13726.7001953125 L 33169.19921875,13728.099609375 L 33115.30078125,13701.2001953125 L 33092.6015625,13647.2001953125 L 33091.1015625,13589.0 L 33111.0,13533.7001953125 L 33145.1015625,13486.7998046875 L 33203.30078125,13455.599609375 L 33257.19921875,13428.599609375 L 33311.1015625,13405.900390625 L 33323.8984375,13394.599609375 L 33267.1015625,13379.0 L 33227.3984375,13386.099609375 L 33180.6015625,13350.599609375 L 33182.0,13291.0 L 33179.1015625,13231.2998046875 L 33155.0,13176.0 L 33150.80078125,13119.2001953125 L 33099.69921875,13083.7001953125 L 33092.6015625,13024.099609375 L 33091.1015625,13014.2001953125 L 33101.1015625,12956.0 L 33101.1015625,12897.7998046875 L 33101.1015625,12838.2001953125 L 33091.1015625,12775.7001953125 L 33084.1015625,12719.0 L 33084.1015625,12659.2998046875 L 33109.6015625,12606.7998046875 L 33152.19921875,12568.5 L 33204.69921875,12545.7998046875 L 33260.1015625,12523.099609375 L 33288.3984375,12507.5 L 33231.69921875,12503.2001953125 L 33174.8984375,12493.2998046875 L 33142.19921875,12443.599609375 L 33138.0,12381.099609375 L 33157.8984375,12324.400390625 L 33199.0,12279.0 L 33248.69921875,12244.900390625 L 33306.8984375,12219.2998046875 L 33353.69921875,12206.599609375 L 33298.3984375,12188.099609375 L 33245.8984375,12164.0 L 33196.19921875,12135.599609375 L 33163.5,12087.2998046875 L 33156.3984375,12032.0 L 33098.19921875,12032.0 L 33041.5,12027.7001953125 L 33031.5,11966.7001953125 L 33044.30078125,11905.7001953125 L 33062.80078125,11851.7001953125 L 33082.6015625,11797.7998046875 L 33084.1015625,11799.2001953125 L 33103.8984375,11853.099609375 L 33106.80078125,11867.2998046875 L 33095.3984375,11922.7001953125 L 33129.5,11875.900390625 L 33152.19921875,11823.2998046875 L 33173.5,11769.400390625 L 33197.6015625,11716.900390625 L 33241.6015625,11678.599609375 L 33278.5,11637.400390625 L 33302.6015625,11582.0 L 33331.0,11526.7001953125 L 33366.5,11478.400390625 L 33402.0,11433.0 L 33406.19921875,11427.2998046875 L 33419.0,11372.0 L 33431.80078125,11315.2001953125 L 33453.1015625,11259.7998046875 L 33474.3984375,11204.5 L 33490.0,11149.099609375 L 33512.69921875,11095.2001953125 L 33528.30078125,11038.400390625 L 33521.19921875,10980.2001953125 L 33494.19921875,10929.099609375 L 33444.6015625,10893.599609375 L 33390.6015625,10875.2001953125 L 33338.1015625,10845.400390625 L 33277.1015625,10832.599609375 L 33218.8984375,10828.400390625 L 33163.5,10845.400390625 L 33111.0,10872.400390625 L 33057.1015625,10893.599609375 L 33028.69921875,10841.099609375 L 33038.6015625,10781.5 L 33068.3984375,10731.7998046875 L 33088.30078125,10659.5 L 33112.3984375,10599.7998046875 L 33128.1015625,10537.400390625 L 33143.69921875,10476.400390625 L 33165.0,10422.400390625 L 33197.6015625,10374.2001953125 L 33230.19921875,10327.2998046875 L 33243.0,10267.7001953125 L 33248.69921875,10209.5 L 33275.69921875,10155.599609375 L 33297.0,10100.2001953125 L 33321.1015625,10039.2001953125 L 33365.1015625,9995.1904296875 L 33400.6015625,9948.349609375 L 33429.0,9893.0 L 33474.3984375,9853.25 L 33519.80078125,9813.509765625 L 33559.5,9770.9296875 L 33603.5,9732.6103515625 L 33644.69921875,9690.0302734375 L 33693.0,9653.1201171875 L 33741.19921875,9617.6396484375 L 33786.6015625,9582.150390625 L 33843.3984375,9580.73046875 L 33901.6015625,9573.6396484375 L 33939.8984375,9528.2197265625 L 33993.8984375,9506.9296875 L 34050.6015625,9479.9599609375 L 34100.30078125,9450.150390625 L 34148.6015625,9417.509765625 L 34181.19921875,9370.669921875 L 34226.6015625,9335.1796875 L 34270.6015625,9295.4404296875 L 34318.8984375,9262.7998046875 L 34347.30078125,9207.4404296875 L 34374.30078125,9153.5 L 34426.80078125,9122.2802734375 L 34473.6015625,9089.6298828125 L 34529.0,9068.33984375 L 34582.8984375,9047.0498046875 L 34632.6015625,9018.66015625 L 34648.19921875,8963.3095703125 L 34683.69921875,8917.8896484375 L 34722.0,8872.4697265625 L 34837.0,8751.8203125 L 34846.8984375,8695.0498046875 L 34851.19921875,8635.4404296875 L 34875.30078125,8580.080078125 L 34927.80078125,8548.849609375 L 35143.6015625,8442.400390625 L 35284.1015625,8352.98046875 L 35332.30078125,8320.330078125 L 35363.6015625,8269.240234375 L 35400.5,8225.240234375 L 35451.6015625,8194.009765625 L 35508.30078125,8172.72021484375 L 35563.69921875,8159.9501953125 L 35626.1015625,8141.5 L 35685.80078125,8118.7900390625 L 35751.0,8103.169921875 L 35800.69921875,8071.9501953125 L 35847.6015625,8037.8798828125 L 35928.5,8023.68994140625 L 35979.6015625,7996.72021484375 L 36040.6015625,7991.0400390625 L 36053.3984375,7993.8798828125 L 36090.30078125,8042.14013671875 L 36149.8984375,8043.56005859375 L 36203.80078125,8019.43017578125 L 36252.1015625,7988.2001953125 L 36298.8984375,7934.27001953125 L 36348.6015625,7904.4599609375 L 36403.8984375,7887.43017578125 L 36460.69921875,7870.39990234375 L 36517.5,7859.0400390625 L 36575.69921875,7856.2001953125 L 36635.30078125,7868.97998046875 L 36699.19921875,7891.68994140625 L 36751.69921875,7914.39990234375 L 36808.5,7935.68994140625 L 36873.80078125,7949.8798828125 L 36926.30078125,7975.43017578125 L 36961.80078125,8010.91015625 L 36961.80078125,8020.85009765625 L 36960.30078125,8033.6201171875 L 37021.3984375,8029.35986328125 L 37073.8984375,8062.009765625 L 37127.80078125,8083.2998046875 L 37183.19921875,8104.58984375 L 37237.1015625,8123.0400390625 L 37288.19921875,8157.10986328125 L 37337.8984375,8189.75 L 37389.0,8220.98046875 L 37437.30078125,8253.6298828125 L 37441.5,8257.8798828125 L 37433.0,8192.58984375 L 37465.6015625,8235.169921875 L 37495.3984375,8272.080078125 L 37562.19921875,8290.5302734375 L 37618.8984375,8310.400390625 L 37630.30078125,8317.5 L 37603.30078125,8331.6904296875 L 37657.30078125,8360.080078125 L 37712.6015625,8378.5302734375 L 37768.0,8405.5 L 37769.3984375,8432.4697265625 L 37807.69921875,8479.2998046875 L 37858.80078125,8506.26953125 L 37919.80078125,8511.9501953125 L 37975.19921875,8530.400390625 L 38014.8984375,8571.5595703125 L 38056.1015625,8614.1396484375 L 38098.69921875,8658.1396484375 L 38146.8984375,8692.2099609375 L 38203.69921875,8719.1796875 L 38260.5,8746.150390625 L 38313.0,8771.6904296875 L 38371.19921875,8784.4697265625 L 38457.80078125,8774.5302734375 L 38460.6015625,8774.5302734375 L 38517.3984375,8777.3701171875 L 38574.19921875,8774.5302734375 L 38625.30078125,8748.98046875 L 38684.8984375,8741.8896484375 L 38743.1015625,8730.5302734375 L 38802.69921875,8714.919921875 L 38852.3984375,8686.5302734375 L 38872.19921875,8628.33984375 L 38880.80078125,8570.1396484375 L 38882.19921875,8547.4296875 L 38953.1015625,8524.7197265625 L 39007.1015625,8504.849609375 L 39065.30078125,8503.4296875 L 39122.0,8502.009765625 L 39180.19921875,8483.5595703125 L 39242.69921875,8475.0498046875 L 39298.0,8462.26953125 L 39361.8984375,8455.1796875 L 39418.69921875,8453.759765625 L 39479.69921875,8453.759765625 L 39536.5,8443.8203125 L 39596.1015625,8438.1396484375 L 39652.8984375,8416.849609375 L 39709.69921875,8425.3701171875 L 39770.69921875,8428.2099609375 L 39828.8984375,8419.6904296875 L 39885.69921875,8395.5595703125 L 39935.30078125,8367.169921875 L 39987.8984375,8334.5302734375 L 40039.0,8308.98046875 L 40091.5,8283.4296875 L 40144.0,8246.5302734375 L 40195.1015625,8220.98046875 L 40249.0,8192.58984375 L 40301.5,8159.9501953125 L 40356.8984375,8134.39990234375 L 40406.6015625,8104.58984375 L 40457.69921875,8077.6201171875 L 40513.0,8053.490234375 L 40574.1015625,8027.9501953125 L 40625.19921875,8002.39990234375 L 40689.0,7982.52978515625 L 40744.3984375,7969.75 L 40806.80078125,7954.14013671875 L 40872.1015625,7941.35986328125 L 40928.8984375,7931.43017578125 L 41001.30078125,7915.81982421875 L 41053.80078125,7917.22998046875 L 41114.80078125,7912.97998046875 L 41168.80078125,7894.52001953125 L 41228.3984375,7893.10986328125 L 41288.0,7886.009765625 L 41344.80078125,7867.56005859375 L 41414.30078125,7853.35986328125 L 41479.6015625,7836.330078125 L 41535.0,7819.2998046875 L 41594.6015625,7805.10009765625 L 41651.3984375,7813.6201171875 L 41709.6015625,7815.0400390625 L 41769.19921875,7790.91015625 L 41827.3984375,7783.81005859375 L 41888.3984375,7782.39990234375 L 41943.69921875,7769.6201171875 L 42006.19921875,7751.169921875 L 42036.0,7738.39013671875 L 42013.30078125,7792.330078125 L 42013.30078125,7792.330078125 L 42064.3984375,7763.93994140625 L 42121.19921875,7742.64990234375 L 42185.0,7735.56005859375 L 42241.80078125,7724.2001953125 L 42308.5,7715.68017578125 L 42369.6015625,7715.68017578125 L 42426.30078125,7722.77978515625 L 42494.5,7735.56005859375 L 42552.69921875,7749.75 L 42610.80078125,7749.75 L 42670.5,7749.75 L 42725.80078125,7748.330078125 L 42781.19921875,7728.4599609375 L 42837.8984375,7724.2001953125 L 42901.80078125,7724.2001953125 L 42958.6015625,7718.52001953125 L 42965.69921875,7718.52001953125 L 43023.8984375,7727.0400390625 L 43086.30078125,7727.0400390625 L 43144.5,7727.0400390625 L 43201.30078125,7724.2001953125 L 43259.5,7724.2001953125 L 43319.1015625,7729.8798828125 L 43377.30078125,7735.56005859375 L 43435.5,7735.56005859375 L 43495.1015625,7732.72021484375 L 43550.5,7719.93994140625 L 43611.5,7712.85009765625 L 43669.69921875,7688.72021484375 L 43720.80078125,7660.330078125 L 43773.30078125,7633.35986328125 L 43791.80078125,7575.169921875 L 43841.3984375,7536.83984375 L 43878.6015625,7517.3701171875 L 43918.3984375,7501.64990234375 L 43962.5,7491.16015625 L 44004.3984375,7480.68017578125 L 44048.3984375,7474.39013671875 L 44090.3984375,7463.89990234375 L 44135.5,7453.419921875 L 44178.5,7447.1298828125 L 44223.5,7443.97998046875 L 44252.8984375,7416.72021484375 L 44293.80078125,7403.08984375 L 44343.1015625,7408.330078125 L 44387.1015625,7420.91015625 L 44433.19921875,7429.2998046875 L 44478.30078125,7430.35009765625 L 44521.30078125,7420.91015625 L 44566.3984375,7411.47998046875 L 44607.30078125,7400.990234375 L 44653.3984375,7390.509765625 L 44696.3984375,7382.1201171875 L 44737.30078125,7372.68994140625 L 44781.30078125,7365.35009765625 L 44824.30078125,7352.77001953125 L 44866.19921875,7346.47998046875 L 44910.30078125,7340.18017578125 L 44952.19921875,7332.85009765625 L 44999.3984375,7330.75 L 45047.6015625,7330.75 L 45089.6015625,7337.0400390625 L 45132.5,7338.08984375 L 45179.69921875,7346.47998046875 L 45222.69921875,7352.77001953125 L 45229.0,7353.81005859375 L 45279.30078125,7353.81005859375 L 45378.8984375,7373.72998046875 L 45426.1015625,7372.68994140625 L 45469.1015625,7372.68994140625 L 45513.1015625,7374.77978515625 L 45558.19921875,7376.8798828125 L 45602.19921875,7376.8798828125 L 45645.19921875,7380.02978515625 L 45689.30078125,7392.60986328125 L 45732.30078125,7404.14013671875 L 45778.3984375,7418.81982421875 L 45820.30078125,7435.58984375 L 45865.3984375,7453.419921875 L 45904.19921875,7472.2900390625 L 45943.0,7491.16015625 L 45948.19921875,7503.740234375 L 45934.6015625,7544.6298828125 L 45928.30078125,7551.97021484375 L 45883.19921875,7545.68017578125 L 45839.19921875,7538.33984375 L 45797.30078125,7549.8701171875 L 45794.1015625,7582.3798828125 L 45801.3984375,7611.72998046875 L 45758.5,7613.830078125 L 45727.0,7644.22998046875 L 45711.30078125,7685.1201171875 L 45696.6015625,7726.009765625 L 45696.6015625,7770.0498046875 L 45722.80078125,7798.35986328125 L 45699.80078125,7835.0498046875 L 45657.80078125,7849.72998046875 L 45614.80078125,7861.259765625 L 45583.3984375,7889.56982421875 L 45562.3984375,7881.18017578125 L 45527.80078125,7857.06982421875 L 45495.30078125,7885.3798828125 L 45495.30078125,7885.3798828125 L 45455.5,7867.5498046875 L 45417.69921875,7846.580078125 L 45375.80078125,7851.830078125 L 45335.8984375,7853.919921875 L 45304.5,7823.52001953125 L 45270.8984375,7797.31005859375 L 45230.0,7780.52978515625 L 45189.19921875,7765.85009765625 L 45148.30078125,7756.419921875 L 45107.3984375,7777.39013671875 L 45063.30078125,7783.68017578125 L 45025.6015625,7786.81982421875 L 45064.3984375,7813.02978515625 L 45082.19921875,7822.47021484375 L 45115.80078125,7796.259765625 L 45127.30078125,7792.06982421875 L 45170.30078125,7798.35986328125 L 45205.8984375,7821.419921875 L 45235.30078125,7853.919921875 L 45267.80078125,7884.330078125 L 45308.69921875,7905.2998046875 L 45347.5,7926.27001953125 L 45389.3984375,7940.93994140625 L 45430.30078125,7955.6201171875 L 45471.19921875,7969.25 L 45516.30078125,7960.8701171875 L 45559.30078125,7954.56982421875 L 45600.1015625,7935.7001953125 L 45636.80078125,7912.64013671875 L 45671.3984375,7886.43017578125 L 45717.6015625,7873.83984375 L 45727.0,7899.009765625 L 45744.80078125,7938.85009765625 L 45778.3984375,7969.25 L 45814.0,7935.7001953125 L 45847.6015625,7905.2998046875 L 45880.1015625,7885.3798828125 L 45904.19921875,7921.02001953125 L 45944.0,7948.27978515625 L 45989.1015625,7958.77001953125 L 46035.30078125,7969.25 L 46080.30078125,7977.64013671875 L 46123.30078125,7983.93017578125 L 46168.3984375,7983.93017578125 L 46211.3984375,7978.68994140625 L 46214.5,7976.58984375 L 46265.8984375,7968.2001953125 L 46311.0,7958.77001953125 L 46356.1015625,7956.669921875 L 46401.19921875,7960.8701171875 L 46445.19921875,7971.35009765625 L 46488.19921875,7986.02978515625 L 46519.6015625,8016.43017578125 L 46560.5,8033.2099609375 L 46604.6015625,8044.740234375 L 46647.5,8064.66015625 L 46689.5,8079.33984375 L 46731.3984375,8099.259765625 L 46776.5,8105.5498046875 L 46818.3984375,8112.89013671875 L 46864.6015625,8127.56982421875 L 46905.5,8144.33984375 L 46948.5,8157.97021484375 L 46992.5,8175.7998046875 L 47033.3984375,8196.76953125 L 47068.0,8221.9296875 L 47095.19921875,8255.48046875 L 47129.80078125,8295.3203125 L 47164.3984375,8326.76953125 L 47199.0,8354.0302734375 L 47228.3984375,8385.490234375 L 47275.6015625,8447.349609375 L 47306.0,8482.990234375 L 47335.30078125,8514.4501953125 L 47366.80078125,8551.1396484375 L 47394.0,8583.6396484375 L 47431.80078125,8621.3896484375 L 47464.30078125,8655.990234375 L 47506.19921875,8690.580078125 L 47539.80078125,8720.990234375 L 47574.3984375,8752.4404296875 L 47618.3984375,8779.7001953125 L 47657.19921875,8803.8203125 L 47694.8984375,8830.0302734375 L 47729.5,8856.240234375 L 47769.3984375,8885.599609375 L 47804.0,8909.7099609375 L 47841.69921875,8935.919921875 L 47892.1015625,8964.23046875 L 47934.0,8981.0 L 47971.69921875,8999.8798828125 L 48013.69921875,9027.1396484375 L 48049.30078125,9051.25 L 48056.69921875,9063.830078125 L 48086.0,9096.330078125 L 48098.6015625,9116.25 L 48141.6015625,9122.5498046875 L 48186.69921875,9122.5498046875 L 48231.80078125,9124.6396484375 L 48277.8984375,9129.8798828125 L 48324.0,9141.419921875 L 48370.1015625,9147.7099609375 L 48414.19921875,9160.2900390625 L 48453.0,9177.0703125 L 48492.80078125,9192.7900390625 L 48534.80078125,9200.1298828125 L 48580.8984375,9203.2802734375 L 48623.8984375,9206.419921875 L 48669.0,9207.4697265625 L 48716.1015625,9216.91015625 L 48762.30078125,9225.2900390625 L 48809.3984375,9231.580078125 L 48853.5,9235.7802734375 L 48901.69921875,9241.01953125 L 48947.80078125,9250.4599609375 L 48992.8984375,9263.0400390625 L 49035.8984375,9273.51953125 L 49077.80078125,9282.9599609375 L 49118.69921875,9294.490234375 L 49162.80078125,9293.4404296875 L 49205.80078125,9296.58984375 L 49249.80078125,9307.0703125 L 49297.0,9325.9404296875 L 49335.80078125,9343.76953125 L 49378.80078125,9361.58984375 L 49410.19921875,9384.66015625 L 49449.0,9408.76953125 L 49482.6015625,9434.98046875 L 49522.3984375,9455.9501953125 L 49561.19921875,9480.0703125 L 49601.0,9508.3798828125 L 49640.8984375,9533.5400390625 L 49676.5,9561.849609375 L 49713.19921875,9591.2001953125 L 49748.8984375,9617.41015625 L 49785.6015625,9641.5302734375 L 49820.19921875,9669.83984375 L 49848.5,9702.33984375 L 49854.80078125,9745.3203125 L 49845.30078125,9789.3603515625 L 49818.1015625,9823.9599609375 L 49791.80078125,9857.509765625 L 49769.80078125,9896.2998046875 L 49759.30078125,9926.7099609375 L 49783.5,9963.400390625 L 49823.30078125,9979.1298828125 L 49860.0,10001.099609375 L 49890.3984375,10035.7001953125 L 49903.0,10076.599609375 L 49909.30078125,10121.7001953125 L 49934.3984375,10157.400390625 L 50000.5,10150.0 L 50000.5,10193.0 L 49987.8984375,10238.099609375 L 49990.0,10263.2998046875 L 49953.30078125,10313.599609375 L 49912.3984375,10324.099609375 L 49884.1015625,10290.5 L 49842.19921875,10287.400390625 L 49800.19921875,10295.7998046875 L 49757.19921875,10296.7998046875 L 49717.3984375,10283.2001953125 L 49716.3984375,10282.099609375 L 49746.80078125,10313.599609375 L 49795.0,10337.7001953125 L 49800.19921875,10367.099609375 L 49758.30078125,10373.2998046875 L 49731.0,10346.099609375 L 49711.1015625,10383.7998046875 L 49724.69921875,10425.7998046875 L 49728.8984375,10435.2001953125 L 49768.80078125,10448.7998046875 L 49804.3984375,10472.900390625 L 49838.0,10503.400390625 L 49877.80078125,10518.0 L 49921.8984375,10507.5 L 49962.69921875,10495.0 L 50000.5,10522.2001953125 L 50023.6015625,10558.900390625 L 50007.80078125,10600.900390625 L 50005.69921875,10642.7998046875 L 50012.0,10687.900390625 L 50001.5,10728.7998046875 L 49971.1015625,10761.2998046875 L 49929.19921875,10781.2001953125 L 49887.30078125,10772.7998046875 L 49847.3984375,10759.2001953125 L 49804.3984375,10765.5 L 49756.19921875,10762.2998046875 L 49724.69921875,10742.400390625 L 49730.0,10786.400390625 L 49725.80078125,10817.900390625 L 49767.69921875,10831.5 L 49773.0,10873.5 L 49761.3984375,10915.400390625 L 49798.1015625,10946.7998046875 L 49834.80078125,10973.099609375 L 49868.3984375,11003.5 L 49904.0,11030.7001953125 L 49943.8984375,11051.7001953125 L 49986.8984375,11083.099609375 L 49949.1015625,11103.099609375 L 49906.1015625,11117.7001953125 L 49886.19921875,11156.5 L 49908.19921875,11197.400390625 L 49934.3984375,11234.099609375 L 49954.3984375,11276.099609375 L 49970.1015625,11321.099609375 L 49994.19921875,11359.900390625 L 50012.0,11398.7001953125 L 50041.3984375,11432.2998046875 L 50057.1015625,11473.2001953125 L 50066.5,11516.2001953125 L 50066.5,11562.2998046875 L 50060.19921875,11605.2998046875 L 50047.69921875,11647.2001953125 L 50022.5,11682.900390625 L 49992.1015625,11712.2001953125 L 49999.3984375,11759.400390625 L 50013.1015625,11802.400390625 L 50020.3984375,11846.400390625 L 49998.3984375,11883.099609375 L 49954.3984375,11889.400390625 L 49912.3984375,11904.099609375 L 49893.5,11927.099609375 L 49869.3984375,11964.900390625 L 49868.3984375,12005.7998046875 L 49909.30078125,11991.099609375 L 49950.19921875,11978.5 L 49991.0,11995.2998046875 L 50012.0,12034.099609375 L 50026.69921875,12075.0 L 50031.8984375,12083.400390625 L 50037.19921875,12131.599609375 L 50031.8984375,12174.599609375 L 50018.30078125,12214.400390625 L 49995.19921875,12250.099609375 L 49957.5,12270.0 L 49915.6015625,12274.2001953125 L 49907.19921875,12273.099609375 L 49888.30078125,12313.0 L 49874.69921875,12360.2001953125 L 49867.30078125,12388.5 L 49912.3984375,12380.099609375 L 49957.5,12373.7998046875 L 49995.19921875,12350.7001953125 L 50038.19921875,12345.5 L 50070.69921875,12373.7998046875 L 50067.6015625,12392.7001953125 L 50025.6015625,12404.2001953125 L 49987.8984375,12425.2001953125 L 50018.30078125,12459.7998046875 L 50062.30078125,12480.7001953125 L 50099.0,12501.7001953125 L 50134.69921875,12524.7998046875 L 50171.3984375,12554.099609375 L 50202.80078125,12582.400390625 L 50238.5,12616.0 L 50263.6015625,12650.599609375 L 50239.5,12687.2998046875 L 50217.5,12709.2998046875 L 50235.30078125,12748.099609375 L 50271.0,12771.099609375 L 50307.69921875,12798.400390625 L 50321.30078125,12845.599609375 L 50382.1015625,12886.5 L 50408.30078125,12921.099609375 L 50437.69921875,12957.7998046875 L 50473.30078125,12991.2998046875 L 50514.19921875,13050.0 L 50531.0,13092.0 L 50526.80078125,13095.099609375 L 50484.8984375,13086.7001953125 L 50451.30078125,13060.5 L 50437.69921875,13045.7998046875 L 50399.8984375,13075.2001953125 L 50373.69921875,13111.900390625 L 50355.8984375,13150.7001953125 L 50341.19921875,13190.5 L 50329.69921875,13233.5 L 50337.0,13251.2998046875 L 50382.1015625,13252.400390625 L 50409.3984375,13215.7001953125 L 50441.8984375,13183.2001953125 L 50478.6015625,13157.0 L 50510.0,13127.599609375 L 50548.80078125,13144.400390625 L 50578.19921875,13176.900390625 L 50620.1015625,13188.400390625 L 50662.1015625,13225.099609375 L 50678.80078125,13263.900390625 L 50669.3984375,13308.0 L 50658.8984375,13350.900390625 L 50685.1015625,13386.599609375 L 50720.80078125,13413.7998046875 L 50756.3984375,13439.0 L 50788.8984375,13467.2998046875 L 50820.3984375,13497.7001953125 L 50850.80078125,13528.099609375 L 50881.19921875,13547.0 L 50898.0,13586.7998046875 L 50914.69921875,13626.7001953125 L 50936.69921875,13670.7001953125 L 50953.5,13713.7001953125 L 50957.69921875,13721.0 L 51000.69921875,13698.0 L 51042.6015625,13699.0 L 51085.6015625,13715.7998046875 L 51123.3984375,13735.7001953125 L 51162.19921875,13761.900390625 L 51198.8984375,13785.0 L 51232.3984375,13812.2998046875 L 51260.69921875,13850.0 L 51281.69921875,13887.7001953125 L 51302.69921875,13929.7001953125 L 51314.19921875,13971.599609375 L 51336.19921875,14011.5 L 51353.0,14052.2998046875 L 51353.0,14096.400390625 L 51319.3984375,14124.7001953125 L 51275.3984375,14123.599609375 L 51249.19921875,14086.900390625 L 51218.80078125,14050.2998046875 L 51188.3984375,14027.2001953125 L 51174.69921875,14068.099609375 L 51192.6015625,14112.099609375 L 51213.5,14150.900390625 L 51236.6015625,14186.5 L 51260.69921875,14222.2001953125 L 51272.30078125,14265.2001953125 L 51285.8984375,14306.099609375 L 51302.69921875,14347.0 L 51323.6015625,14384.7001953125 L 51339.3984375,14424.5 L 51355.1015625,14466.5 L 51378.1015625,14506.2998046875 L 51394.8984375,14545.099609375 L 51409.6015625,14599.599609375 L 51429.5,14638.400390625 L 51447.30078125,14680.400390625 L 51459.8984375,14725.5 L 51473.6015625,14769.5 L 51487.19921875,14811.400390625 L 51490.30078125,14857.599609375 L 51496.6015625,14882.7001953125 L 51514.3984375,14926.7998046875 L 51544.80078125,14964.5 L 51562.69921875,15004.2998046875 L 51567.8984375,15019.0 L 51587.80078125,14981.2998046875 L 51575.30078125,14937.2001953125 L 51557.3984375,14898.400390625 L 51556.3984375,14855.5 L 51554.30078125,14813.5 L 51546.8984375,14771.599609375 L 51542.80078125,14725.5 L 51554.30078125,14709.7001953125 L 51574.19921875,14748.5 L 51592.0,14790.5 L 51599.3984375,14832.400390625 L 51606.69921875,14874.2998046875 L 51615.1015625,14919.400390625 L 51615.1015625,14963.400390625 L 51605.69921875,15004.2998046875 L 51608.80078125,15046.2998046875 L 51628.69921875,15084.0 L 51651.80078125,15133.2998046875 L 51687.3984375,15162.7001953125 L 51716.80078125,15199.400390625 L 51735.69921875,15237.099609375 L 51707.3984375,15270.599609375 L 51663.30078125,15266.5 L 51642.3984375,15228.7001953125 L 51628.69921875,15203.5 L 51600.3984375,15236.0 L 51580.5,15278.0 L 51560.6015625,15317.7998046875 L 51539.6015625,15357.7001953125 L 51529.1015625,15400.7001953125 L 51523.8984375,15443.599609375 L 51529.1015625,15485.599609375 L 51540.69921875,15527.5 L 51543.80078125,15545.2998046875 L 51561.6015625,15519.099609375 L 51604.6015625,15521.2001953125 L 51645.5,15543.2001953125 L 51677.0,15578.900390625 L 51702.1015625,15614.5 L 51719.8984375,15654.400390625 L 51724.1015625,15697.400390625 L 51714.69921875,15739.2998046875 L 51694.80078125,15779.099609375 L 51677.0,15817.900390625 L 51658.1015625,15856.7001953125 L 51716.1015625,15892.900390625 L 51748.0,15926.7998046875 L 51767.0,15962.7001953125 L 51780.8984375,16003.599609375 L 51764.0,16045.5 L 51800.8984375,16067.5 L 51807.8984375,16107.400390625 L 51796.8984375,16150.2001953125 L 51822.80078125,16182.2001953125 L 51856.69921875,16207.099609375 L 51873.69921875,16249.0 L 51887.6015625,16286.900390625 L 51906.6015625,16325.7998046875 L 51927.5,16362.7001953125 L 51957.5,16394.599609375 L 51959.5,16440.5 L 51959.5,16485.400390625 L 51957.5,16525.30078125 L 51956.5,16565.19921875 L 51997.3984375,16597.099609375 L 52040.19921875,16616.0 L 52068.19921875,16644.900390625 L 52083.1015625,16682.80078125 L 52090.1015625,16726.69921875 L 52092.1015625,16770.599609375 L 52092.1015625,16812.5 L 52070.19921875,16847.400390625 L 52057.19921875,16861.400390625 L 52016.30078125,16846.400390625 L 51976.3984375,16848.400390625 L 51974.3984375,16849.400390625 L 52008.30078125,16879.30078125 L 52043.19921875,16914.19921875 L 52067.19921875,16948.099609375 L 52090.1015625,16982.0 L 52108.1015625,17018.900390625 L 52124.0,17056.80078125 L 52127.0,17096.69921875 L 52124.0,17138.599609375 L 52120.0,17179.5 L 52171.8984375,17231.400390625 L 52125.0,17251.30078125 L 52086.1015625,17260.30078125 L 52046.19921875,17267.30078125 L 52037.30078125,17270.30078125 L 52003.30078125,17293.19921875 L 51969.3984375,17319.19921875 L 51938.5,17347.099609375 L 51902.6015625,17379.0 L 51869.69921875,17401.900390625 L 51829.80078125,17409.900390625 L 51789.8984375,17415.900390625 L 51758.0,17442.80078125 L 51748.0,17481.69921875 L 51733.1015625,17520.599609375 L 51703.1015625,17546.599609375 L 51676.19921875,17579.5 L 51675.19921875,17620.400390625 L 51696.19921875,17657.30078125 L 51691.19921875,17698.19921875 L 51675.19921875,17736.099609375 L 51645.30078125,17764.0 L 51617.3984375,17793.900390625 L 51621.3984375,17834.80078125 L 51641.30078125,17869.69921875 L 51628.30078125,17908.599609375 L 51605.3984375,17941.5 L 51607.3984375,17983.400390625 L 51612.3984375,18025.30078125 L 51616.3984375,18066.19921875 L 51606.3984375,18106.099609375 L 51592.3984375,18144.0 L 51576.5,18180.900390625 L 51593.3984375,18218.80078125 L 51591.3984375,18253.69921875 L 51546.5,18249.69921875 L 51506.69921875,18238.69921875 L 51468.80078125,18218.80078125 L 51445.80078125,18215.80078125 L 51425.8984375,18250.69921875 L 51458.80078125,18274.599609375 L 51498.69921875,18285.599609375 L 51517.6015625,18321.5 L 51517.6015625,18364.400390625 L 51519.6015625,18407.30078125 L 51523.6015625,18452.19921875 L 51529.6015625,18495.0 L 51531.6015625,18535.900390625 L 51536.6015625,18577.80078125 L 51542.6015625,18617.69921875 L 51537.6015625,18657.599609375 L 51523.6015625,18696.5 L 51489.69921875,18722.400390625 L 51446.80078125,18726.400390625 L 51402.8984375,18722.400390625 L 51361.0,18716.5 L 51324.1015625,18704.5 L 51289.19921875,18726.400390625 L 51294.19921875,18766.30078125 L 51307.19921875,18809.19921875 L 51330.1015625,18855.099609375 L 51338.1015625,18898.0 L 51340.1015625,18938.900390625 L 51342.1015625,18978.80078125 L 51350.1015625,19020.69921875 L 51373.0,19058.5 L 51396.8984375,19091.5 L 51414.8984375,19130.400390625 L 51435.80078125,19165.30078125 L 51461.80078125,19201.19921875 L 51498.69921875,19222.099609375 L 51541.6015625,19224.099609375 L 51578.5,19252.0 L 51601.3984375,19284.900390625 L 51619.3984375,19321.900390625 L 51621.3984375,19364.69921875 L 51629.30078125,19407.599609375 L 51637.30078125,19450.5 L 51638.30078125,19499.400390625 L 51660.19921875,19533.30078125 L 51684.19921875,19570.19921875 L 51699.0,19579.900390625 L 51702.8984375,19631.400390625 L 51679.69921875,19684.099609375 L 51668.19921875,19738.099609375 L 51661.69921875,19790.80078125 L 51629.6015625,19837.099609375 L 51600.0,19879.599609375 L 51598.69921875,19938.80078125 L 51606.3984375,20001.80078125 L 51603.8984375,20058.400390625 L 51569.1015625,20107.30078125 L 51528.0,20147.099609375 L 51490.69921875,20185.69921875 L 51466.19921875,20224.30078125 L 51419.8984375,20171.599609375 L 51409.6015625,20118.80078125 L 51412.19921875,20067.400390625 L 51409.6015625,20008.19921875 L 51408.3984375,19956.80078125 L 51405.80078125,19897.599609375 L 51405.80078125,19835.900390625 L 51405.80078125,19779.30078125 L 51409.6015625,19724.0 L 51416.1015625,19668.69921875 L 51425.1015625,19612.099609375 L 51425.1015625,19552.900390625 L 51407.1015625,19498.900390625 L 51403.19921875,19468.0 L 51360.80078125,19504.0 L 51318.30078125,19540.0 L 51301.6015625,19577.30078125 L 51300.30078125,19628.80078125 L 51296.5,19681.5 L 51282.30078125,19734.30078125 L 51268.19921875,19785.69921875 L 51272.0,19837.099609375 L 51283.6015625,19887.30078125 L 51301.6015625,19940.0 L 51319.6015625,19988.900390625 L 51310.6015625,20044.19921875 L 51290.0,20091.80078125 L 51281.0,20144.599609375 L 51270.69921875,20199.900390625 L 51246.30078125,20255.19921875 L 51229.6015625,20304.0 L 51201.30078125,20352.900390625 L 51167.80078125,20396.599609375 L 51140.80078125,20441.69921875 L 51112.5,20441.69921875 L 51059.80078125,20439.099609375 L 51043.1015625,20390.19921875 L 51041.80078125,20337.5 L 51044.3984375,20278.30078125 L 51053.3984375,20226.900390625 L 51062.3984375,20169.0 L 51075.19921875,20112.400390625 L 51073.8984375,20076.400390625 L 51025.1015625,20098.19921875 L 50982.6015625,20133.0 L 50932.5,20161.30078125 L 50883.6015625,20184.400390625 L 50857.8984375,20233.30078125 L 50807.69921875,20235.900390625 L 50798.69921875,20183.099609375 L 50776.80078125,20131.69921875 L 50751.1015625,20086.69921875 L 50734.3984375,20067.400390625 L 50726.69921875,20120.099609375 L 50747.19921875,20170.30078125 L 50773.0,20215.30078125 L 50780.69921875,20271.900390625 L 50792.30078125,20323.30078125 L 50796.1015625,20377.400390625 L 50764.0,20419.80078125 L 50713.80078125,20428.80078125 L 50695.80078125,20477.69921875 L 50649.5,20504.69921875 L 50601.8984375,20525.30078125 L 50587.80078125,20576.69921875 L 50564.6015625,20626.900390625 L 50526.0,20666.80078125 L 50508.0,20718.19921875 L 50531.19921875,20765.80078125 L 50524.69921875,20818.5 L 50475.8984375,20843.0 L 50421.80078125,20848.099609375 L 50374.19921875,20861.0 L 50344.69921875,20904.69921875 L 50307.3984375,20942.0 L 50259.80078125,20963.900390625 L 50204.5,20958.69921875 L 50154.30078125,20942.0 L 50102.8984375,20917.599609375 L 50126.0,20969.0 L 50160.69921875,21011.5 L 50209.6015625,21041.0 L 50252.1015625,21070.599609375 L 50297.1015625,21102.80078125 L 50336.8984375,21149.099609375 L 50362.69921875,21196.69921875 L 50370.3984375,21250.69921875 L 50371.69921875,21317.599609375 L 50375.5,21369.0 L 50392.30078125,21417.900390625 L 50403.80078125,21468.099609375 L 50385.80078125,21518.19921875 L 50374.19921875,21569.69921875 L 50367.80078125,21622.400390625 L 50347.19921875,21670.0 L 50307.3984375,21703.400390625 L 50250.80078125,21715.0 L 50199.30078125,21720.19921875 L 50185.19921875,21699.599609375 L 50187.69921875,21645.599609375 L 50159.3984375,21623.69921875 L 50160.69921875,21681.599609375 L 50144.0,21734.30078125 L 50101.6015625,21765.19921875 L 50091.30078125,21819.19921875 L 50075.80078125,21873.19921875 L 50057.80078125,21923.400390625 L 50045.0,21976.099609375 L 50019.30078125,22022.400390625 L 49979.3984375,22043.0 L 49952.3984375,22000.5 L 49898.30078125,22012.099609375 L 49855.8984375,22043.0 L 49803.19921875,22053.30078125 L 49747.8984375,22030.099609375 L 49701.6015625,21999.30078125 L 49678.3984375,21951.69921875 L 49664.30078125,21913.099609375 L 49627.0,21950.400390625 L 49583.19921875,21982.5 L 49529.19921875,21994.099609375 L 49482.8984375,21968.400390625 L 49446.8984375,21931.099609375 L 49418.6015625,21884.80078125 L 49391.6015625,21837.19921875 L 49381.30078125,21823.099609375 L 49340.1015625,21864.19921875 L 49320.80078125,21913.099609375 L 49302.80078125,21963.19921875 L 49272.0,22012.099609375 L 49248.80078125,22058.400390625 L 49229.5,22107.30078125 L 49212.80078125,22158.80078125 L 49193.5,22211.5 L 49183.19921875,22269.400390625 L 49176.80078125,22323.400390625 L 49188.3984375,22347.80078125 L 49237.19921875,22322.099609375 L 49279.69921875,22283.5 L 49333.69921875,22288.69921875 L 49371.0,22332.400390625 L 49394.19921875,22380.0 L 49413.3984375,22428.900390625 L 49382.6015625,22473.900390625 L 49331.1015625,22494.400390625 L 49275.80078125,22508.599609375 L 49223.1015625,22508.599609375 L 49189.6015625,22468.69921875 L 49166.5,22418.599609375 L 49151.1015625,22368.400390625 L 49140.80078125,22431.400390625 L 49088.0,22455.900390625 L 49046.8984375,22491.900390625 L 49023.69921875,22538.19921875 L 48978.69921875,22567.80078125 L 48940.1015625,22607.599609375 L 48906.69921875,22648.80078125 L 48852.69921875,22673.19921875 L 48805.1015625,22695.099609375 L 48754.8984375,22717.0 L 48703.5,22733.69921875 L 48653.30078125,22760.69921875 L 48605.69921875,22783.80078125 L 48553.0,22800.599609375 L 48505.3984375,22828.900390625 L 48462.8984375,22863.599609375 L 48420.5,22893.19921875 L 48384.5,22930.5 L 48340.80078125,22966.5 L 48336.8984375,22971.599609375 L 48290.6015625,23005.099609375 L 48250.69921875,23039.80078125 L 48252.0,23039.80078125 L 48306.0,23044.900390625 L 48358.80078125,23048.80078125 L 48410.19921875,23050.099609375 L 48462.8984375,23043.69921875 L 48513.1015625,23032.099609375 L 48565.80078125,23025.69921875 L 48614.69921875,23006.400390625 L 48657.19921875,22975.5 L 48693.19921875,22936.900390625 L 48739.5,22912.5 L 48787.1015625,22891.900390625 L 48841.1015625,22881.599609375 L 48895.1015625,22884.19921875 L 48945.30078125,22907.30078125 L 48990.30078125,22935.599609375 L 49022.3984375,22978.099609375 L 48987.69921875,23084.80078125 L 48958.1015625,23131.099609375 L 48915.69921875,23164.599609375 L 48870.69921875,23198.0 L 48823.1015625,23221.19921875 L 48770.30078125,23226.30078125 L 48717.6015625,23222.400390625 L 48679.0,23257.19921875 L 48657.19921875,23302.19921875 L 48709.8984375,23291.900390625 L 48749.80078125,23258.5 L 48801.19921875,23254.599609375 L 48853.8984375,23272.599609375 L 48906.69921875,23288.0 L 48958.1015625,23297.0 L 49009.6015625,23300.900390625 L 49058.5,23321.5 L 49068.69921875,23376.80078125 L 49072.6015625,23430.80078125 L 49070.0,23482.30078125 L 49027.6015625,23519.599609375 L 48973.6015625,23535.0 L 48917.0,23546.599609375 L 48834.69921875,23545.30078125 L 48802.5,23586.400390625 L 48808.8984375,23640.5 L 48814.1015625,23694.5 L 48794.80078125,23743.400390625 L 48766.5,23789.69921875 L 48739.5,23837.19921875 L 48711.19921875,23881.0 L 48670.0,23913.099609375 L 48623.69921875,23940.099609375 L 48578.69921875,23972.30078125 L 48527.30078125,23982.599609375 L 48469.3984375,23980.0 L 48464.19921875,24009.599609375 L 48471.8984375,24064.900390625 L 48435.8984375,24104.80078125 L 48390.8984375,24131.80078125 L 48344.6015625,24158.80078125 L 48295.69921875,24179.400390625 L 48245.6015625,24198.69921875 L 48204.3984375,24230.80078125 L 48150.3984375,24234.69921875 L 48098.8984375,24247.5 L 48043.6015625,24247.5 L 47990.8984375,24241.099609375 L 47936.8984375,24227.0 L 47884.1015625,24205.099609375 L 47834.0,24187.099609375 L 47778.69921875,24187.099609375 L 47732.3984375,24193.5 L 47689.8984375,24227.0 L 47646.19921875,24255.30078125 L 47598.6015625,24279.69921875 L 47549.69921875,24304.099609375 L 47502.1015625,24329.900390625 L 47450.69921875,24340.19921875 L 47399.30078125,24341.400390625 L 47349.1015625,24358.19921875 L 47298.8984375,24374.900390625 L 47248.80078125,24386.5 L 47198.6015625,24399.30078125 L 47156.19921875,24428.900390625 L 47118.8984375,24464.900390625 L 47063.6015625,24482.900390625 L 47012.1015625,24490.599609375 L 46963.19921875,24509.900390625 L 46914.30078125,24534.400390625 L 46859.0,24549.80078125 L 46803.69921875,24548.5 L 46781.8984375,24502.19921875 L 46828.19921875,24477.80078125 L 46869.30078125,24443.099609375 L 46886.1015625,24401.900390625 L 46832.0,24400.599609375 L 46775.3984375,24412.19921875 L 46725.30078125,24425.0 L 46670.0,24435.30078125 L 46619.80078125,24446.900390625 L 46579.8984375,24485.5 L 46527.19921875,24506.099609375 L 46470.6015625,24507.400390625 L 46412.69921875,24508.599609375 L 46363.8984375,24529.19921875 L 46316.30078125,24556.19921875 L 46268.69921875,24579.400390625 L 46217.19921875,24573.0 L 46160.6015625,24567.80078125 L 46131.1015625,24524.099609375 L 46088.6015625,24506.099609375 L 46111.80078125,24555.0 L 46084.69921875,24603.80078125 L 46039.69921875,24630.80078125 L 45988.30078125,24623.099609375 L 45967.69921875,24570.400390625 L 45947.1015625,24521.5 L 45938.1015625,24466.19921875 L 45922.69921875,24412.19921875 L 45894.3984375,24363.30078125 L 45854.5,24328.599609375 L 45815.8984375,24288.69921875 L 45787.6015625,24242.400390625 L 45734.8984375,24251.400390625 L 45688.6015625,24277.099609375 L 45655.19921875,24232.099609375 L 45652.6015625,24174.19921875 L 45655.19921875,24117.599609375 L 45630.69921875,24067.5 L 45598.6015625,24025.0 L 45563.80078125,23985.19921875 L 45560.0,23981.30078125 L 45557.3984375,24034.0 L 45557.3984375,24088.099609375 L 45547.1015625,24140.80078125 L 45526.5,24191.0 L 45524.0,24211.5 L 45539.3984375,24265.599609375 L 45542.0,24317.0 L 45558.69921875,24368.5 L 45557.3984375,24426.30078125 L 45551.0,24479.099609375 L 45542.0,24530.5 L 45535.5,24584.5 L 45551.0,24636.0 L 45562.5,24692.599609375 L 45538.1015625,24738.900390625 L 45490.5,24772.30078125 L 45448.1015625,24801.900390625 L 45396.6015625,24830.19921875 L 45349.0,24852.099609375 L 45295.0,24858.5 L 45243.6015625,24859.80078125 L 45205.0,24898.400390625 L 45167.69921875,24938.19921875 L 45120.1015625,24961.400390625 L 45075.1015625,24988.400390625 L 45024.8984375,25007.69921875 L 44972.19921875,25005.099609375 L 44931.0,25039.80078125 L 44882.1015625,25060.400390625 L 44829.3984375,25064.30078125 L 44776.69921875,25072.0 L 44718.80078125,25070.69921875 L 44666.1015625,25065.599609375 L 44612.0,25066.900390625 L 44569.6015625,25099.0 L 44525.8984375,25131.19921875 L 44475.69921875,25142.69921875 L 44424.30078125,25144.0 L 44370.19921875,25137.599609375 L 44316.19921875,25122.19921875 L 44262.19921875,25109.30078125 L 44204.30078125,25104.19921875 L 44146.3984375,25096.400390625 L 44092.3984375,25086.19921875 L 44038.3984375,25083.599609375 L 44021.69921875,25136.30078125 L 43988.19921875,25178.80078125 L 43936.80078125,25200.599609375 L 43881.5,25212.19921875 L 43823.6015625,25204.5 L 43773.3984375,25182.599609375 L 43727.1015625,25149.19921875 L 43700.1015625,25100.30078125 L 43666.69921875,25057.900390625 L 43622.8984375,25024.400390625 L 43599.80078125,25043.69921875 L 43553.5,25072.0 L 43504.6015625,25090.0 L 43454.5,25074.599609375 L 43406.8984375,25099.0 L 43354.1015625,25096.400390625 L 43311.69921875,25059.099609375 L 43264.1015625,25038.599609375 L 43211.3984375,25038.599609375 L 43189.5,25025.69921875 L 43201.1015625,24985.80078125 L 43238.3984375,24982.0 L 43212.6015625,24952.400390625 L 43166.30078125,24928.0 L 43117.5,24917.69921875 L 43094.30078125,24873.900390625 L 43082.69921875,24822.5 L 43033.8984375,24796.80078125 L 42988.8984375,24825.099609375 L 42959.30078125,24870.099609375 L 42941.30078125,24880.400390625 L 42884.69921875,24873.900390625 L 42838.3984375,24850.80078125 L 42810.1015625,24807.0 L 42833.19921875,24758.19921875 L 42833.19921875,24755.599609375 L 42785.6015625,24723.400390625 L 42776.6015625,24715.69921875 L 42767.6015625,24767.19921875 L 42712.30078125,24780.0 L 42667.30078125,24754.30078125 L 42630.0,24717.0 L 42590.1015625,24681.0 L 42587.6015625,24589.69921875 L 42614.6015625,24544.69921875 L 42636.3984375,24497.099609375 L 42668.6015625,24454.599609375 L 42717.5,24437.900390625 L 42768.8984375,24452.099609375 L 42772.80078125,24454.599609375 L 42792.1015625,24405.80078125 L 42801.1015625,24351.69921875 L 42826.80078125,24304.099609375 L 42848.69921875,24254.0 L 42874.3984375,24198.69921875 L 42905.19921875,24154.900390625 L 42920.69921875,24104.80078125 L 42923.30078125,24050.80078125 L 42911.69921875,23998.0 L 42891.1015625,23949.099609375 L 42848.69921875,23981.30078125 L 42813.8984375,24022.5 L 42798.5,24073.900390625 L 42780.5,24126.599609375 L 42740.6015625,24170.400390625 L 42695.6015625,24202.5 L 42651.8984375,24230.80078125 L 42649.30078125,24237.30078125 L 42637.69921875,24288.69921875 L 42595.30078125,24329.900390625 L 42547.69921875,24359.400390625 L 42540.0,24365.900390625 L 42487.19921875,24378.69921875 L 42434.5,24364.599609375 L 42393.30078125,24324.69921875 L 42381.80078125,24273.30078125 L 42372.80078125,24221.80078125 L 42343.19921875,24179.400390625 L 42291.69921875,24160.099609375 L 42240.30078125,24134.400390625 L 42191.3984375,24102.19921875 L 42163.1015625,24055.900390625 L 42145.1015625,24027.599609375 L 42165.69921875,24077.80078125 L 42186.30078125,24130.5 L 42197.80078125,24180.69921875 L 42204.30078125,24232.099609375 L 42217.1015625,24286.099609375 L 42232.6015625,24336.30078125 L 42245.3984375,24394.19921875 L 42277.6015625,24440.5 L 42316.19921875,24479.099609375 L 42335.5,24527.900390625 L 42345.69921875,24587.099609375 L 42345.69921875,24641.099609375 L 42322.6015625,24688.69921875 L 42293.0,24732.400390625 L 42272.3984375,24780.0 L 42242.8984375,24827.599609375 L 42205.6015625,24867.5 L 42155.3984375,24889.400390625 L 42112.8984375,24925.400390625 L 42124.5,24980.69921875 L 42129.69921875,25036.0 L 42134.80078125,25088.69921875 L 42134.80078125,25144.0 L 42145.1015625,25195.5 L 42179.80078125,25235.400390625 L 42222.30078125,25263.69921875 L 42228.69921875,25338.30078125 L 42218.3984375,25393.599609375 L 42203.0,25443.69921875 L 42178.5,25493.900390625 L 42158.0,25541.5 L 42136.1015625,25590.30078125 L 42125.80078125,25644.400390625 L 42112.8984375,25694.5 L 42070.5,25724.099609375 L 42022.8984375,25699.69921875 L 41988.19921875,25697.099609375 L 41976.6015625,25747.30078125 L 41954.69921875,25794.900390625 L 41939.30078125,25850.19921875 L 41929.0,25901.599609375 L 41908.3984375,25956.900390625 L 41887.8984375,26007.099609375 L 41872.3984375,26058.5 L 41842.80078125,26101.0 L 41785.0,26139.599609375 L 41755.3984375,26184.599609375 L 41715.5,26230.900390625 L 41676.8984375,26284.900390625 L 41644.80078125,26326.099609375 L 41608.80078125,26365.900390625 L 41589.5,26417.400390625 L 41547.0,26489.400390625 L 41478.80078125,26561.400390625 L 41446.69921875,26607.69921875 L 41387.5,26610.30078125 L 41338.6015625,26620.599609375 L 41334.80078125,26672.0 L 41306.5,26715.80078125 L 41274.30078125,26759.5 L 41240.8984375,26803.19921875 L 41192.0,26826.400390625 L 41136.69921875,26831.5 L 41082.69921875,26821.19921875 L 41024.80078125,26814.80078125 L 41000.3984375,26861.099609375 L 40970.80078125,26904.80078125 L 40927.1015625,26937.0 L 40876.8984375,26953.69921875 L 40862.80078125,27005.19921875 L 40880.80078125,27056.599609375 L 40889.80078125,27110.599609375 L 40888.5,27164.69921875 L 40884.6015625,27222.5 L 40866.6015625,27274.0 L 40835.69921875,27316.400390625 L 40807.3984375,27355.0 L 40803.6015625,27406.5 L 40797.19921875,27460.5 L 40786.8984375,27513.19921875 L 40765.0,27564.69921875 L 40740.6015625,27613.5 L 40709.69921875,27657.30078125 L 40678.80078125,27699.69921875 L 40644.1015625,27746.0 L 40602.8984375,27782.0 L 40559.19921875,27812.900390625 L 40536.1015625,27829.599609375 L 40552.80078125,27878.5 L 40538.6015625,27928.69921875 L 40507.80078125,27971.099609375 L 40469.19921875,28009.69921875 L 40437.0,28053.400390625 L 40401.0,28103.599609375 L 40366.30078125,28142.19921875 L 40323.80078125,28178.19921875 L 40290.3984375,28219.400390625 L 40251.80078125,28259.19921875 L 40214.5,28295.19921875 L 40175.8984375,28336.400390625 L 40148.8984375,28384.0 L 40164.30078125,28391.69921875 L 40204.19921875,28429.0 L 40217.1015625,28480.5 L 40183.6015625,28520.30078125 L 40142.5,28570.5 L 40109.0,28611.599609375 L 40083.30078125,28656.69921875 L 40058.8984375,28703.0 L 40029.30078125,28746.69921875 L 39993.30078125,28787.900390625 L 39956.0,28829.0 L 39929.0,28875.30078125 L 39895.5,28922.900390625 L 39856.8984375,28964.099609375 L 39813.19921875,28998.80078125 L 39768.19921875,29028.400390625 L 39720.6015625,29050.19921875 L 39671.69921875,29070.80078125 L 39619.0,29100.400390625 L 39572.69921875,29126.099609375 L 39521.19921875,29155.69921875 L 39473.6015625,29178.900390625 L 39419.6015625,29196.900390625 L 39366.8984375,29209.69921875 L 39314.19921875,29209.69921875 L 39258.8984375,29214.900390625 L 39091.6015625,29225.19921875 L 39040.19921875,29218.69921875 L 38987.5,29208.400390625 L 38929.6015625,29204.599609375 L 38876.8984375,29204.599609375 L 38821.5,29209.69921875 L 38770.1015625,29230.30078125 L 38713.5,29240.599609375 L 38655.6015625,29247.0 L 38600.30078125,29256.0 L 38519.30078125,29221.30078125 L 38467.80078125,29214.900390625 L 38413.80078125,29221.30078125 L 38363.69921875,29241.900390625 L 38316.1015625,29272.80078125 L 38274.8984375,29308.80078125 L 38238.8984375,29347.400390625 L 38193.8984375,29376.900390625 L 38148.8984375,29410.400390625 L 38110.30078125,29447.69921875 L 38075.5,29488.80078125 L 38056.30078125,29524.80078125 L 38110.30078125,29505.599609375 L 38161.69921875,29482.400390625 L 38217.0,29456.69921875 L 38272.30078125,29436.099609375 L 38323.80078125,29432.19921875 L 38379.1015625,29432.19921875 L 38430.5,29438.69921875 L 38476.80078125,29465.69921875 L 38505.1015625,29512.0 L 38511.6015625,29564.69921875 L 38502.6015625,29616.19921875 L 38471.69921875,29650.900390625 L 38527.0,29650.900390625 L 38564.30078125,29681.80078125 L 38519.30078125,29712.599609375 L 38465.30078125,29725.5 L 38410.0,29735.80078125 L 38358.5,29743.5 L 38339.19921875,29792.400390625 L 38335.3984375,29843.80078125 L 38348.19921875,29894.0 L 38340.5,29948.0 L 38296.80078125,29978.900390625 L 38255.6015625,30011.0 L 38208.0,30040.599609375 L 38161.69921875,30072.80078125 L 38112.80078125,30103.599609375 L 38061.3984375,30131.900390625 L 38008.69921875,30157.69921875 L 37957.19921875,30183.400390625 L 37919.8984375,30224.5 L 37903.19921875,30278.599609375 L 37898.0,30337.69921875 L 37910.8984375,30351.900390625 L 37955.8984375,30378.900390625 L 37995.80078125,30403.30078125 L 37968.80078125,30449.599609375 L 37957.19921875,30488.19921875 L 37976.5,30539.69921875 L 37972.6015625,30591.099609375 L 37940.5,30634.80078125 L 37896.80078125,30665.69921875 L 37850.5,30730.0 L 37799.0,30760.900390625 L 37751.3984375,30781.5 L 37702.5,30802.099609375 L 37651.1015625,30811.099609375 L 37599.6015625,30818.80078125 L 37548.19921875,30827.80078125 L 37487.80078125,30822.599609375 L 37440.19921875,30800.80078125 L 37414.3984375,30759.599609375 L 37379.69921875,30800.80078125 L 37265.30078125,30875.5 L 37213.5,30888.099609375 L 37163.0,30891.900390625 L 37103.6015625,30891.900390625 L 37055.6015625,30866.599609375 L 37006.30078125,30846.400390625 L 36940.6015625,30856.5 L 36891.3984375,30845.099609375 L 36867.3984375,30797.099609375 L 36859.80078125,30746.599609375 L 36861.1015625,30713.80078125 L 36806.69921875,30707.400390625 L 36751.19921875,30721.30078125 L 36704.3984375,30751.69921875 L 36651.30078125,30771.900390625 L 36603.30078125,30788.30078125 L 36555.30078125,30771.900390625 L 36544.0,30754.19921875 L 36544.0,30811.0 L 36545.19921875,30862.80078125 L 36535.1015625,30915.900390625 L 36493.3984375,30944.900390625 L 36441.6015625,30947.5 L 36387.30078125,30955.099609375 L 36336.80078125,30974.0 L 36292.6015625,30944.900390625 L 36283.69921875,30893.19921875 L 36287.5,30869.099609375 L 36235.69921875,30865.400390625 L 36181.3984375,30874.19921875 L 36128.30078125,30883.0 L 36070.19921875,30896.900390625 L 36019.69921875,30913.400390625 L 35971.69921875,30939.900390625 L 35924.8984375,30960.099609375 L 35875.69921875,30981.599609375 L 35825.1015625,31003.099609375 L 35777.1015625,31020.69921875 L 35725.30078125,31035.900390625 L 35702.6015625,31043.5 L 35684.8984375,31091.5 L 35644.5,31124.30078125 L 35592.69921875,31133.19921875 L 35543.3984375,31115.5 L 35510.6015625,31089.0 L 35460.0,31097.80078125 L 35409.5,31115.5 L 35357.69921875,31137.0 L 35308.3984375,31154.69921875 L 35250.30078125,31163.5 L 35198.5,31174.900390625 L 35145.5,31183.69921875 L 35107.6015625,31197.599609375 L 35054.5,31211.5 L 35001.5,31209.0 L 34948.3984375,31200.099609375 L 34897.8984375,31196.30078125 L 34852.3984375,31230.5 L 34824.6015625,31273.400390625 L 34824.6015625,31326.5 L 34863.80078125,31360.599609375 L 34919.30078125,31346.69921875 L 34966.1015625,31325.19921875 L 35012.80078125,31301.19921875 L 35064.6015625,31291.099609375 L 35118.8984375,31289.80078125 L 35169.5,31305.0 L 35216.19921875,31329.0 L 35233.8984375,31380.80078125 L 35211.19921875,31426.30078125 L 35187.19921875,31473.0 L 35158.1015625,31517.19921875 L 35121.5,31552.599609375 L 35074.69921875,31574.099609375 L 35019.1015625,31590.5 L 34966.1015625,31591.80078125 L 34913.0,31584.19921875 L 34875.1015625,31547.5 L 34891.6015625,31499.5 L 34868.80078125,31452.80078125 L 34830.8984375,31413.599609375 L 34809.3984375,31365.599609375 L 34761.3984375,31345.400390625 L 34703.30078125,31349.19921875 L 34698.30078125,31399.69921875 L 34685.6015625,31449.0 L 34632.6015625,31469.19921875 L 34609.80078125,31514.69921875 L 34640.1015625,31564.0 L 34646.5,31623.30078125 L 34630.0,31675.099609375 L 34578.19921875,31690.30078125 L 34523.8984375,31690.30078125 L 34470.8984375,31690.30078125 L 34457.0,31716.80078125 L 34406.3984375,31740.80078125 L 34349.6015625,31744.599609375 L 34326.80078125,31744.599609375 L 34304.1015625,31792.599609375 L 34256.1015625,31810.30078125 L 34204.30078125,31820.400390625 L 34192.8984375,31821.69921875 L 34234.6015625,31791.400390625 L 34201.80078125,31750.900390625 L 34182.80078125,31702.900390625 L 34129.80078125,31701.69921875 L 34080.5,31690.30078125 L 34028.69921875,31684.0 L 33974.3984375,31684.0 L 33918.80078125,31684.0 L 33863.19921875,31675.099609375 L 33821.5,31642.30078125 L 33805.1015625,31590.5 L 33801.30078125,31538.69921875 L 33819.0,31483.099609375 L 33873.30078125,31459.099609375 L 33925.1015625,31456.599609375 L 33976.8984375,31446.5 L 34013.5,31440.19921875 L 33964.30078125,31426.30078125 L 33913.69921875,31420.0 L 33860.69921875,31411.099609375 L 33805.1015625,31403.5 L 33753.30078125,31398.5 L 33701.5,31401.0 L 33651.0,31418.69921875 L 33604.19921875,31444.0 L 33561.30078125,31471.80078125 L 33509.5,31481.900390625 L 33457.69921875,31484.400390625 L 33443.80078125,31533.69921875 L 33446.30078125,31586.69921875 L 33458.8984375,31636.0 L 33446.30078125,31685.30078125 L 33399.6015625,31715.599609375 L 33354.1015625,31748.400390625 L 33306.1015625,31777.5 L 33256.80078125,31792.599609375 L 33206.30078125,31796.400390625 L 33152.0,31785.099609375 L 33105.19921875,31761.0 L 33068.6015625,31721.900390625 L 33059.69921875,31696.599609375 L 33111.5,31684.0 L 33160.80078125,31671.400390625 L 33212.6015625,31666.30078125 L 33201.19921875,31643.599609375 L 33200.0,31634.69921875 L 33143.1015625,31633.5 L 33088.80078125,31625.900390625 L 33039.5,31608.19921875 L 32996.6015625,31575.30078125 L 32975.1015625,31526.099609375 L 32992.80078125,31476.80078125 L 33025.6015625,31445.19921875 L 32973.80078125,31421.19921875 L 32924.6015625,31404.80078125 L 32871.5,31389.599609375 L 32824.80078125,31379.5 L 32797.0,31422.5 L 32750.19921875,31447.69921875 L 32695.900390625,31464.19921875 L 32692.099609375,31464.19921875 L 32658.0,31502.099609375 L 32626.400390625,31509.69921875 L 32601.19921875,31553.900390625 L 32558.19921875,31584.19921875 L 32516.5,31601.900390625 L 32482.400390625,31643.599609375 L 32434.400390625,31627.099609375 L 32386.400390625,31599.30078125 L 32332.099609375,31605.69921875 L 32280.30078125,31605.69921875 L 32239.80078125,31570.30078125 L 32227.19921875,31513.400390625 L 32237.30078125,31459.099609375 L 32266.400390625,31414.900390625 L 32300.5,31371.900390625 L 32339.599609375,31334.0 L 32376.30078125,31297.400390625 L 32420.5,31268.400390625 L 32303.0,31326.5 L 32252.5,31313.80078125 L 32251.19921875,31312.599609375 L 32204.5,31336.599609375 L 32196.900390625,31340.400390625 L 32157.69921875,31373.19921875 L 32113.5,31398.5 L 32063.0,31394.69921875 L 32011.19921875,31388.400390625 L 31960.69921875,31378.30078125 L 31906.30078125,31379.5 L 31853.30078125,31387.099609375 L 31759.80078125,31345.400390625 L 31729.5,31387.099609375 L 31764.80078125,31426.30078125 L 31764.80078125,31440.19921875 L 31791.400390625,31494.5 L 31807.80078125,31543.80078125 L 31763.599609375,31570.30078125 L 31711.80078125,31574.099609375 L 31661.19921875,31572.80078125 L 31610.69921875,31553.900390625 L 31564.0,31528.599609375 L 31509.69921875,31516.0 L 31459.099609375,31504.599609375 L 31408.599609375,31500.80078125 L 31356.80078125,31493.19921875 L 31305.0,31493.19921875 L 31250.69921875,31493.19921875 L 31200.099609375,31473.0 L 31166.0,31432.599609375 L 31114.19921875,31416.19921875 L 31059.900390625,31413.599609375 L 31013.19921875,31382.099609375 L 30966.400390625,31356.80078125 L 30956.30078125,31347.900390625 L 30904.5,31351.69921875 L 30854.0,31356.80078125 L 30804.69921875,31339.099609375 L 30758.0,31318.900390625 L 30741.599609375,31371.900390625 L 30701.099609375,31403.5 L 30649.30078125,31412.400390625 L 30598.80078125,31423.69921875 L 30545.69921875,31432.599609375 L 30487.599609375,31432.599609375 L 30438.400390625,31418.69921875 L 30387.80078125,31396.0 L 30339.80078125,31373.19921875 L 30294.30078125,31347.900390625 L 30257.69921875,31307.5 L 30236.19921875,31257.0 L 30137.69921875,31241.80078125 L 30084.599609375,31229.19921875 L 30031.599609375,31222.900390625 L 29978.5,31222.900390625 L 29928.0,31229.19921875 L 29910.30078125,31279.69921875 L 29876.19921875,31322.69921875 L 29821.900390625,31339.099609375 L 29770.099609375,31336.599609375 L 29719.5,31322.69921875 L 29669.0,31306.30078125 L 29617.19921875,31317.599609375 L 29554.0,31303.69921875 L 29522.5,31262.0 L 29545.19921875,31210.19921875 L 29585.599609375,31173.599609375 L 29598.30078125,31124.30078125 L 29586.900390625,31075.099609375 L 29549.0,31035.900390625 L 29516.099609375,30996.69921875 L 29550.19921875,30956.30078125 L 29600.80078125,30950.0 L 29657.599609375,30950.0 L 29706.900390625,30933.599609375 L 29747.30078125,30898.19921875 L 29704.400390625,30869.099609375 L 29653.80078125,30874.19921875 L 29603.30078125,30888.099609375 L 29550.19921875,30888.099609375 L 29523.69921875,30881.80078125 L 29474.400390625,30867.900390625 L 29423.900390625,30859.0 L 29370.900390625,30856.5 L 29315.30078125,30856.5 L 29262.19921875,30856.5 L 29210.400390625,30856.5 L 29158.599609375,30864.099609375 L 29108.099609375,30867.900390625 L 29058.80078125,30841.400390625 L 29007.0,30835.0 L 28955.19921875,30835.0 L 28955.19921875,30835.0 L 28924.900390625,30879.30078125 L 28882.0,30914.599609375 L 28828.900390625,30926.0 L 28778.400390625,30920.900390625 L 28735.400390625,30888.099609375 L 28689.900390625,30862.80078125 L 28650.80078125,30826.19921875 L 28624.19921875,30779.5 L 28610.30078125,30727.69921875 L 28610.30078125,30674.599609375 L 28607.80078125,30631.599609375 L 28556.0,30614.0 L 28501.69921875,30596.30078125 L 28449.900390625,30588.69921875 L 28395.599609375,30576.099609375 L 28371.599609375,30528.099609375 L 28317.19921875,30445.900390625 L 28302.099609375,30392.900390625 L 28288.19921875,30342.30078125 L 28283.099609375,30289.30078125 L 28261.69921875,30242.5 L 28245.19921875,30192.0 L 28238.900390625,30141.5 L 28216.19921875,30092.19921875 L 28183.30078125,30053.0 L 28134.099609375,30029.0 L 28082.30078125,30012.599609375 L 28036.80078125,29974.69921875 L 27990.0,29930.5 L 27954.69921875,29890.099609375 L 27904.099609375,29891.30078125 L 27851.099609375,29877.400390625 L 27822.0,29835.80078125 L 27815.69921875,29780.19921875 L 27779.099609375,29743.5 L 27732.30078125,29717.0 L 27693.19921875,29684.19921875 L 27660.30078125,29642.5 L 27626.19921875,29603.30078125 L 27606.0,29552.80078125 L 27604.69921875,29502.19921875 L 27606.0,29450.400390625 L 27580.69921875,29406.19921875 L 27532.69921875,29320.30078125 L 27506.19921875,29276.099609375 L 27474.599609375,29231.900390625 L 27449.30078125,29185.099609375 L 27410.19921875,29138.400390625 L 27369.80078125,29104.30078125 L 27328.099609375,29071.400390625 L 27285.099609375,29041.099609375 L 27237.099609375,29024.69921875 L 27131.0,28928.69921875 L 27100.69921875,28887.0 L 27061.5,28852.900390625 L 27032.5,28809.900390625 L 27005.900390625,28765.69921875 L 26978.099609375,28722.80078125 L 26947.80078125,28679.80078125 L 26933.900390625,28662.099609375 L 26917.5,28612.900390625 L 26896.0,28564.900390625 L 26875.80078125,28518.099609375 L 26848.0,28475.19921875 L 26820.19921875,28428.400390625 L 26788.599609375,28385.5 L 26765.900390625,28334.900390625 L 26749.5,28286.900390625 L 26726.69921875,28238.900390625 L 26707.80078125,28190.900390625 L 26709.0,28140.400390625 L 26720.400390625,28087.30078125 L 26736.80078125,28038.099609375 L 26762.099609375,27993.80078125 L 26770.900390625,27972.400390625 L 26717.900390625,27979.900390625 L 26667.400390625,27977.400390625 L 26625.69921875,27945.80078125 L 26605.5,27897.80078125 L 26585.19921875,27847.30078125 L 26571.30078125,27796.80078125 L 26561.19921875,27745.0 L 26549.900390625,27694.400390625 L 26543.599609375,27641.400390625 L 26539.80078125,27587.099609375 L 26547.30078125,27535.30078125 L 26560.0,27486.0 L 26567.599609375,27434.19921875 L 26528.400390625,27371.0 L 26499.30078125,27329.30078125 L 26475.30078125,27281.30078125 L 26466.5,27229.5 L 26465.19921875,27179.0 L 26471.5,27128.5 L 26486.69921875,27077.900390625 L 26469.0,27029.900390625 L 26429.900390625,26997.099609375 L 26407.099609375,26945.30078125 L 26375.5,26863.19921875 L 26398.30078125,26815.19921875 L 26407.099609375,26764.599609375 L 26399.5,26714.099609375 L 26386.900390625,26663.599609375 L 26409.599609375,26613.0 L 26414.69921875,26562.5 L 26414.69921875,26561.19921875 L 26364.19921875,26546.099609375 L 26302.30078125,26546.099609375 L 26251.69921875,26532.19921875 L 26230.19921875,26481.599609375 L 26230.19921875,26429.900390625 L 26237.80078125,26379.30078125 L 26237.80078125,26355.30078125 L 26259.30078125,26302.30078125 L 26273.19921875,26242.900390625 L 26280.80078125,26189.80078125 L 26284.599609375,26136.80078125 L 26298.5,26087.5 L 26316.19921875,26034.400390625 L 26333.80078125,25983.900390625 L 26365.400390625,25939.69921875 L 26412.19921875,25913.19921875 L 26462.69921875,25901.80078125 L 26500.599609375,25862.599609375 L 26528.400390625,25818.400390625 L 26544.80078125,25765.30078125 L 26561.19921875,25717.30078125 L 26600.400390625,25683.19921875 L 26649.69921875,25670.599609375 L 26697.69921875,25652.900390625 L 26748.19921875,25636.5 L 26774.69921875,25631.400390625 L 26774.69921875,25683.19921875 L 26758.30078125,25748.900390625 L 26750.69921875,25799.5 L 26745.69921875,25851.30078125 L 26724.19921875,25891.69921875 L 26772.19921875,25875.30078125 L 26813.900390625,25837.400390625 L 26854.30078125,25804.5 L 26908.69921875,25784.30078125 L 26935.19921875,25783.0 L 26912.400390625,25736.30078125 L 26901.099609375,25687.0 L 26923.80078125,25640.30078125 L 26932.69921875,25589.69921875 L 26939.0,25538.0 L 26947.80078125,25478.599609375 L 26966.80078125,25429.30078125 L 26956.69921875,25387.599609375 L 26909.900390625,25414.099609375 L 26864.400390625,25436.900390625 L 26861.900390625,25438.099609375 L 26870.80078125,25489.900390625 L 26845.5,25534.19921875 L 26801.30078125,25563.19921875 L 26759.599609375,25592.30078125 L 26709.0,25620.099609375 L 26657.30078125,25639.0 L 26605.5,25651.599609375 L 26551.099609375,25665.5 L 26501.900390625,25678.19921875 L 26452.599609375,25666.80078125 L 26438.69921875,25663.0 L 26466.5,25612.5 L 26495.5,25570.80078125 L 26522.099609375,25513.900390625 L 26537.19921875,25463.400390625 L 26544.80078125,25412.900390625 L 26544.80078125,25358.599609375 L 26549.900390625,25305.5 L 26551.099609375,25282.80078125 L 26532.19921875,25332.0 L 26509.400390625,25381.30078125 L 26486.69921875,25430.599609375 L 26469.0,25482.400390625 L 26456.400390625,25534.19921875 L 26436.19921875,25580.900390625 L 26413.400390625,25626.400390625 L 26393.19921875,25675.69921875 L 26367.900390625,25722.400390625 L 26350.30078125,25772.900390625 L 26327.5,25822.19921875 L 26308.599609375,25872.69921875 L 26293.400390625,25923.30078125 L 26274.5,25973.80078125 L 26253.0,26021.80078125 L 26226.5,26066.0 L 26208.80078125,26117.80078125 L 26168.30078125,26149.400390625 L 26125.400390625,26121.599609375 L 26077.400390625,26101.400390625 L 26062.19921875,26151.900390625 L 26085.0,26201.19921875 L 26100.099609375,26250.5 L 26111.5,26301.0 L 26115.30078125,26352.80078125 L 26109.0,26403.30078125 L 26090.0,26456.400390625 L 26072.30078125,26513.19921875 L 26030.599609375,26544.80078125 L 25980.099609375,26548.599609375 L 25929.599609375,26542.30078125 L 25877.80078125,26557.400390625 L 25828.5,26575.099609375 L 25778.0,26587.80078125 L 25751.5,26591.599609375 L 25718.599609375,26630.69921875 L 25671.900390625,26650.900390625 L 25625.099609375,26673.69921875 L 25579.599609375,26697.69921875 L 25529.099609375,26711.599609375 L 25479.80078125,26726.69921875 L 25429.30078125,26731.80078125 L 25386.400390625,26704.0 L 25363.599609375,26656.0 L 25319.400390625,26682.5 L 25297.900390625,26729.30078125 L 25255.0,26764.599609375 L 25207.0,26781.099609375 L 25153.900390625,26774.69921875 L 25105.900390625,26758.30078125 L 25060.400390625,26726.69921875 L 25014.900390625,26701.5 L 24964.400390625,26688.80078125 L 24916.400390625,26667.400390625 L 24844.400390625,26591.599609375 L 24835.5,26537.19921875 L 24811.5,26489.19921875 L 24780.0,26447.5 L 24742.099609375,26410.900390625 L 24705.400390625,26373.0 L 24662.5,26338.900390625 L 24619.5,26302.30078125 L 24576.599609375,26274.5 L 24533.599609375,26242.900390625 L 24494.5,26206.19921875 L 24507.099609375,26255.5 L 24550.0,26289.599609375 L 24591.69921875,26318.69921875 L 24625.80078125,26357.80078125 L 24651.099609375,26403.30078125 L 24683.900390625,26447.5 L 24713.0,26491.80078125 L 24739.5,26537.19921875 L 24771.099609375,26581.5 L 24798.900390625,26615.599609375 L 24748.400390625,26616.80078125 L 24694.099609375,26610.5 L 24685.19921875,26619.30078125 L 24730.69921875,26650.900390625 L 24781.19921875,26657.30078125 L 24833.0,26667.400390625 L 24873.400390625,26700.19921875 L 24913.900390625,26731.80078125 L 24959.400390625,26765.900390625 L 24993.5,26803.80078125 L 25014.900390625,26841.69921875 L 24970.69921875,26868.19921875 L 24920.19921875,26858.099609375 L 24901.19921875,26856.900390625 L 24922.69921875,26903.599609375 L 24940.400390625,26956.69921875 L 24992.19921875,26966.80078125 L 25041.5,26947.80078125 L 25094.5,26928.900390625 L 25131.19921875,26965.5 L 25118.5,27017.30078125 L 25113.5,27088.0 L 25080.599609375,27131.0 L 25032.599609375,27147.400390625 L 24996.0,27182.80078125 L 24989.69921875,27233.30078125 L 24988.400390625,27285.099609375 L 24974.5,27335.69921875 L 24907.599609375,27368.5 L 24854.5,27359.69921875 L 24817.900390625,27333.099609375 L 24806.5,27384.900390625 L 24829.19921875,27434.19921875 L 24840.599609375,27484.69921875 L 24834.30078125,27539.0 L 24809.0,27587.099609375 L 24786.30078125,27633.80078125 L 24763.5,27680.5 L 24735.69921875,27726.0 L 24702.900390625,27769.0 L 24666.30078125,27805.599609375 L 24620.80078125,27833.400390625 L 24572.80078125,27853.599609375 L 24550.0,27905.400390625 L 24528.599609375,27958.5 L 24502.0,28003.900390625 L 24488.099609375,28057.0 L 24479.30078125,28108.80078125 L 24447.69921875,28149.19921875 L 24401.0,28177.0 L 24354.19921875,28198.5 L 24307.5,28227.599609375 L 24278.400390625,28269.19921875 L 24246.80078125,28290.69921875 L 24193.80078125,28281.900390625 L 24177.400390625,28274.30078125 L 24130.599609375,28297.0 L 24083.900390625,28313.5 L 24139.5,28341.30078125 L 24195.0,28337.5 L 24238.0,28333.69921875 L 24240.5,28385.5 L 24206.400390625,28427.19921875 L 24166.0,28462.5 L 24133.099609375,28505.5 L 24094.0,28548.400390625 L 24051.0,28580.0 L 24006.80078125,28606.5 L 23965.099609375,28639.400390625 L 23913.30078125,28636.900390625 L 23883.0,28590.099609375 L 23900.69921875,28542.099609375 L 23928.5,28496.599609375 L 23953.80078125,28448.599609375 L 23966.400390625,28394.30078125 L 23974.0,28338.69921875 L 23976.5,28288.19921875 L 23970.19921875,28236.400390625 L 23956.30078125,28187.099609375 L 23953.80078125,28160.599609375 L 23939.900390625,28212.400390625 L 23926.0,28265.5 L 23904.5,28316.0 L 23886.80078125,28366.5 L 23860.30078125,28412.0 L 23817.30078125,28442.30078125 L 23766.80078125,28457.5 L 23717.5,28473.900390625 L 23672.0,28499.19921875 L 23636.69921875,28535.80078125 L 23600.0,28575.0 L 23557.099609375,28612.900390625 L 23517.900390625,28648.19921875 L 23515.400390625,28653.30078125 L 23567.19921875,28649.5 L 23620.19921875,28653.30078125 L 23672.0,28664.69921875 L 23722.599609375,28679.80078125 L 23751.599609375,28722.80078125 L 23778.19921875,28770.80078125 L 23798.400390625,28818.80078125 L 23800.900390625,28871.80078125 L 23776.900390625,28922.400390625 L 23756.69921875,28970.400390625 L 23735.19921875,29018.400390625 L 23726.400390625,29068.900390625 L 23708.69921875,29122.0 L 23674.599609375,29168.69921875 L 23637.900390625,29205.400390625 L 23608.900390625,29248.30078125 L 23597.5,29303.900390625 L 23589.900390625,29354.400390625 L 23567.19921875,29399.900390625 L 23544.400390625,29447.900390625 L 23540.599609375,29469.400390625 L 23521.69921875,29501.0 L 23559.599609375,29517.400390625 L 23552.0,29545.19921875 L 23528.0,29591.900390625 L 23483.80078125,29618.5 L 23477.5,29617.19921875 L 23430.69921875,29593.19921875 L 23428.19921875,29591.900390625 L 23382.69921875,29614.69921875 L 23341.0,29655.099609375 L 23332.19921875,29686.69921875 L 23352.400390625,29733.400390625 L 23317.0,29775.099609375 L 23272.80078125,29800.400390625 L 23217.19921875,29845.900390625 L 23181.900390625,29883.80078125 L 23173.0,29886.30078125 L 23123.80078125,29868.599609375 L 23099.80078125,29823.099609375 L 23048.0,29816.80078125 L 23002.5,29833.19921875 L 23016.400390625,29886.30078125 L 22994.900390625,29933.0 L 22960.80078125,29972.19921875 L 22911.5,29988.599609375 L 22861.0,29972.19921875 L 22842.0,29924.19921875 L 22835.69921875,29873.69921875 L 22829.400390625,29850.900390625 L 22815.5,29900.19921875 L 22794.0,29946.900390625 L 22767.5,29996.19921875 L 22738.400390625,30044.19921875 L 22700.5,30082.099609375 L 22647.5,30072.0 L 22602.0,30046.69921875 L 22551.5,30022.69921875 L 22533.80078125,30015.099609375 L 22554.0,30061.900390625 L 22596.900390625,30090.900390625 L 22639.900390625,30120.0 L 22650.0,30171.80078125 L 22639.900390625,30226.099609375 L 22610.80078125,30272.900390625 L 22588.099609375,30334.80078125 L 22562.80078125,30384.0 L 22537.599609375,30428.30078125 L 22497.099609375,30461.099609375 L 22426.400390625,30469.900390625 L 22388.5,30482.599609375 L 22386.0,30535.599609375 L 22341.80078125,30567.19921875 L 22293.80078125,30587.400390625 L 22242.0,30588.69921875 L 22204.099609375,30553.30078125 L 22192.69921875,30502.80078125 L 22180.099609375,30451.0 L 22176.30078125,30395.400390625 L 22168.69921875,30361.30078125 L 22111.80078125,30356.19921875 L 22067.599609375,30331.0 L 22022.099609375,30303.19921875 L 21975.400390625,30276.69921875 L 21952.69921875,30229.900390625 L 21923.599609375,30151.599609375 L 21921.099609375,30101.099609375 L 21917.30078125,30050.5 L 21905.900390625,29998.69921875 L 21895.80078125,29945.69921875 L 21888.19921875,29895.099609375 L 21875.599609375,29833.19921875 L 21864.19921875,29784.0 L 21851.599609375,29732.19921875 L 21840.19921875,29682.900390625 L 21837.69921875,29631.099609375 L 21840.19921875,29576.80078125 L 21844.0,29522.5 L 21847.80078125,29471.900390625 L 21852.900390625,29420.099609375 L 21869.30078125,29363.30078125 L 21885.69921875,29306.400390625 L 21912.19921875,29260.900390625 L 21943.80078125,29220.5 L 21972.900390625,29177.599609375 L 21986.80078125,29128.30078125 L 21986.80078125,29098.0 L 21936.19921875,29113.099609375 L 21897.099609375,29156.099609375 L 21854.099609375,29187.69921875 L 21799.80078125,29204.099609375 L 21742.900390625,29209.19921875 L 21692.400390625,29207.900390625 L 21640.599609375,29186.400390625 L 21595.099609375,29162.400390625 L 21561.0,29123.19921875 L 21530.69921875,29081.599609375 L 21528.19921875,29080.30078125 L 21478.900390625,29099.19921875 L 21428.400390625,29098.0 L 21375.30078125,29081.599609375 L 21326.099609375,29062.599609375 L 21281.80078125,29033.5 L 21235.099609375,29005.80078125 L 21188.400390625,28979.19921875 L 21154.19921875,28933.69921875 L 21123.900390625,28890.80078125 L 21062.0,28926.19921875 L 21011.5,28941.30078125 L 20959.69921875,28950.19921875 L 20909.19921875,28961.5 L 20870.0,28969.099609375 L 20926.80078125,28989.30078125 L 20977.400390625,29004.5 L 21025.400390625,29026.0 L 21074.69921875,29052.5 L 21121.400390625,29077.80078125 L 21158.0,29114.400390625 L 21168.099609375,29164.900390625 L 21166.900390625,29219.30078125 L 21150.5,29266.0 L 21197.19921875,29286.19921875 L 21243.900390625,29314.0 L 21274.30078125,29357.0 L 21305.80078125,29398.599609375 L 21346.30078125,29439.099609375 L 21380.400390625,29478.19921875 L 21412.0,29521.19921875 L 21473.900390625,29584.400390625 L 21505.400390625,29626.0 L 21547.099609375,29662.69921875 L 21573.69921875,29706.900390625 L 21645.69921875,29809.19921875 L 21684.80078125,29861.0 L 21708.80078125,29907.80078125 L 21711.400390625,29958.30078125 L 21725.30078125,30013.900390625 L 21729.099609375,30068.19921875 L 21701.30078125,30112.400390625 L 21672.19921875,30157.900390625 L 21669.69921875,30164.19921875 L 21673.5,30159.19921875 L 21698.69921875,30204.599609375 L 21684.80078125,30256.400390625 L 21712.599609375,30301.900390625 L 21758.099609375,30336.0 L 21791.0,30376.5 L 21807.400390625,30429.5 L 21807.400390625,30481.30078125 L 21789.69921875,30530.599609375 L 21766.900390625,30577.30078125 L 21740.400390625,30624.099609375 L 21707.599609375,30668.30078125 L 21679.80078125,30712.5 L 21639.400390625,30749.099609375 L 21600.19921875,30771.900390625 L 21620.400390625,30818.599609375 L 21668.400390625,30835.0 L 21702.5,30875.5 L 21724.0,30922.19921875 L 21780.80078125,30938.599609375 L 21811.19921875,30980.30078125 L 21793.5,31029.599609375 L 21770.69921875,31076.30078125 L 21768.19921875,31129.400390625 L 21726.5,31159.69921875 L 21681.0,31183.69921875 L 21630.5,31188.80078125 L 21619.099609375,31239.30078125 L 21621.69921875,31289.80078125 L 21610.30078125,31341.599609375 L 21577.5,31382.099609375 L 21538.30078125,31422.5 L 21518.099609375,31470.5 L 21505.400390625,31521.0 L 21463.80078125,31555.099609375 L 21410.69921875,31560.19921875 L 21360.19921875,31561.400390625 L 21310.900390625,31550.099609375 L 21270.5,31518.5 L 21228.80078125,31488.19921875 L 21178.19921875,31498.30078125 L 21127.69921875,31517.19921875 L 21088.5,31550.099609375 L 21132.80078125,31576.599609375 L 21184.599609375,31582.900390625 L 21236.400390625,31591.80078125 L 21266.69921875,31633.5 L 21243.900390625,31682.69921875 L 21198.5,31721.900390625 L 21154.19921875,31758.5 L 21113.80078125,31790.099609375 L 21108.80078125,31802.69921875 L 21156.80078125,31819.19921875 L 21194.69921875,31835.599609375 L 21184.599609375,31888.599609375 L 21136.599609375,31906.30078125 L 21083.5,31905.099609375 L 21031.69921875,31892.400390625 L 20983.69921875,31869.69921875 L 20937.0,31843.19921875 L 20891.5,31812.80078125 L 20857.400390625,31774.900390625 L 20815.69921875,31745.900390625 L 20767.69921875,31724.400390625 L 20714.599609375,31706.69921875 L 20661.5,31681.5 L 20619.900390625,31649.900390625 L 20580.69921875,31615.80078125 L 20560.5,31567.80078125 L 20568.099609375,31514.69921875 L 20566.80078125,31461.599609375 L 20531.400390625,31421.19921875 L 20479.599609375,31427.5 L 20456.900390625,31473.0 L 20415.19921875,31473.0 L 20364.69921875,31490.69921875 L 20314.099609375,31508.400390625 L 20271.19921875,31517.19921875 L 20251.0,31566.5 L 20237.5,31634.80078125 L 20177.5,31669.099609375 L 20123.19921875,31693.400390625 L 20100.30078125,31747.69921875 L 20066.0,31800.599609375 L 20011.69921875,31822.0 L 19987.400390625,31826.30078125 L 20048.80078125,31849.19921875 L 20117.400390625,31864.900390625 L 20181.80078125,31884.900390625 L 20231.80078125,31916.400390625 L 20266.099609375,31975.0 L 20289.0,32027.80078125 L 20287.5,32085.0 L 20290.400390625,32145.0 L 20313.30078125,32200.80078125 L 20326.099609375,32263.69921875 L 20313.30078125,32323.69921875 L 20293.30078125,32382.30078125 L 20289.0,32392.30078125 L 20337.599609375,32426.599609375 L 20350.400390625,32500.900390625 L 20369.0,32559.5 L 20393.30078125,32615.30078125 L 20403.30078125,32675.30078125 L 20404.69921875,32732.5 L 20410.5,32745.30078125 L 20391.900390625,32799.69921875 L 20367.599609375,32858.30078125 L 20339.0,32911.1015625 L 20307.5,32962.6015625 L 20274.69921875,33009.80078125 L 20231.80078125,33052.6015625 L 20203.19921875,33105.5 L 20213.19921875,33165.6015625 L 20187.5,33221.30078125 L 20137.5,33255.6015625 L 20081.69921875,33277.1015625 L 20028.80078125,33302.80078125 L 19967.400390625,33308.5 L 19920.19921875,33341.3984375 L 19864.5,33362.80078125 L 19840.19921875,33371.3984375 L 19794.400390625,33412.80078125 L 19730.099609375,33417.1015625 L 19670.099609375,33418.6015625 L 19615.80078125,33441.3984375 L 19577.19921875,33488.6015625 L 19518.599609375,33514.30078125 L 19462.80078125,33532.8984375 L 19404.19921875,33542.8984375 L 19344.19921875,33550.0 L 19287.0,33557.19921875 L 19229.900390625,33578.6015625 L 19169.80078125,33577.19921875 L 19112.69921875,33567.19921875 L 19051.19921875,33567.19921875 L 18999.69921875,33537.19921875 L 18939.69921875,33535.80078125 L 18891.099609375,33567.19921875 L 18833.900390625,33581.5 L 18773.900390625,33591.5 L 18761.0,33610.1015625 L 18779.599609375,33667.30078125 L 18803.900390625,33720.1015625 L 18786.80078125,33747.30078125 L 18722.400390625,33750.1015625 L 18675.30078125,33714.3984375 L 18625.30078125,33681.5 L 18593.80078125,33630.1015625 L 18550.900390625,33588.6015625 L 18496.599609375,33567.19921875 L 18442.30078125,33545.80078125 L 18442.30078125,33545.80078125 L 18433.69921875,33607.19921875 L 18379.400390625,33631.5 L 18323.69921875,33605.80078125 L 18260.80078125,33582.8984375 L 18215.0,33547.19921875 L 18166.5,33537.19921875 L 18107.80078125,33557.19921875 L 18043.5,33581.5 L 17982.099609375,33605.80078125 L 17924.900390625,33622.8984375 L 17866.30078125,33611.5 L 17810.599609375,33624.3984375 L 17759.099609375,33653.0 L 17699.099609375,33655.80078125 L 17639.0,33655.80078125 L 17623.30078125,33661.5 L 17650.5,33713.0 L 17676.19921875,33765.8984375 L 17679.099609375,33825.8984375 L 17644.80078125,33877.3984375 L 17591.900390625,33901.69921875 L 17530.400390625,33897.3984375 L 17467.5,33878.80078125 L 17410.30078125,33850.19921875 L 17358.900390625,33813.0 L 17310.30078125,33780.19921875 L 17261.69921875,33811.6015625 L 17228.80078125,33858.80078125 L 17171.69921875,33857.30078125 L 17117.30078125,33838.80078125 L 17078.80078125,33794.5 L 17028.69921875,33757.30078125 L 17001.599609375,33704.3984375 L 17000.099609375,33643.0 L 16995.900390625,33581.5 L 17011.599609375,33520.0 L 17063.0,33488.6015625 L 17037.30078125,33437.1015625 L 16988.69921875,33400.0 L 16947.30078125,33344.19921875 L 16921.5,33288.5 L 16894.400390625,33274.19921875 L 16835.80078125,33257.0 L 16774.30078125,33249.8984375 L 16694.30078125,33248.5 L 16677.099609375,33187.0 L 16687.099609375,33128.3984375 L 16712.80078125,33072.69921875 L 16728.599609375,33014.1015625 L 16730.0,32954.0 L 16711.400390625,32894.0 L 16690.0,32836.80078125 L 16671.400390625,32779.69921875 L 16665.69921875,32762.5 L 16624.19921875,32805.3984375 L 16598.5,32861.1015625 L 16571.30078125,32918.30078125 L 16544.19921875,32972.6015625 L 16509.900390625,33022.6015625 L 16471.30078125,33051.19921875 L 16472.69921875,33109.80078125 L 16474.19921875,33171.30078125 L 16447.0,33224.19921875 L 16408.400390625,33269.8984375 L 16355.5,33292.80078125 L 16311.2001953125,33304.19921875 L 16305.5,33370.0 L 16295.5,33427.1015625 L 16251.2001953125,33468.6015625 L 16194.0,33465.69921875 L 16196.900390625,33535.80078125 L 16196.900390625,33594.3984375 L 16192.599609375,33653.0 L 16176.900390625,33701.6015625 L 16141.099609375,33653.0 L 16116.7998046875,33597.19921875 L 16098.2001953125,33541.5 L 16072.5,33485.69921875 L 16035.400390625,33440.0 L 16001.099609375,33392.80078125 L 15961.0,33345.69921875 L 15905.2998046875,33319.8984375 L 15848.099609375,33302.80078125 L 15790.900390625,33285.6015625 L 15736.599609375,33255.6015625 L 15689.5,33219.8984375 L 15643.7001953125,33184.1015625 L 15610.900390625,33137.0 L 15594.400390625,33101.69921875 L 15571.2998046875,33061.30078125 L 15544.7001953125,33022.0 L 15529.7001953125,32978.1015625 L 15507.7001953125,32936.3984375 L 15505.400390625,32936.3984375 L 15485.7998046875,32985.0 L 15463.7998046875,33034.69921875 L 15451.099609375,33080.8984375 L 15445.2998046875,33129.5 L 15425.7001953125,33174.5 L 15401.400390625,33215.0 L 15376.0,33255.5 L 15343.599609375,33290.1015625 L 15303.099609375,33315.6015625 L 15262.7001953125,33342.1015625 L 15213.0,33351.3984375 L 15162.099609375,33349.1015625 L 15118.2001953125,33327.1015625 L 15095.099609375,33284.30078125 L 15093.900390625,33235.80078125 L 15059.2998046875,33203.3984375 L 15059.2998046875,33202.30078125 L 15057.0,33249.69921875 L 15010.7001953125,33241.6015625 L 14995.7001953125,33197.69921875 L 14983.0,33151.3984375 L 14954.099609375,33114.3984375 L 14962.2001953125,33092.5 L 15007.2998046875,33074.0 L 14970.2998046875,33042.80078125 L 14934.400390625,33011.6015625 L 14912.5,33004.6015625 L 14933.2998046875,33049.69921875 L 14934.400390625,33062.3984375 L 14892.7998046875,33083.19921875 L 14855.7998046875,33052.0 L 14853.5,33040.5 L 14875.5,33010.3984375 L 14829.2998046875,33006.8984375 L 14786.5,32985.0 L 14821.2001953125,32944.5 L 14859.2998046875,32915.6015625 L 14896.2998046875,32881.0 L 14931.0,32848.6015625 L 14964.5,32813.8984375 L 14985.2998046875,32772.30078125 L 15009.599609375,32730.69921875 L 15039.599609375,32693.69921875 L 15057.0,32678.69921875 L 15008.400390625,32678.69921875 L 15008.400390625,32678.69921875 L 15035.0,32639.400390625 L 15081.2001953125,32634.80078125 L 15081.2001953125,32634.80078125 L 15093.900390625,32588.5 L 15088.2001953125,32535.400390625 L 15110.099609375,32482.19921875 L 15063.900390625,32483.400390625 L 15036.2001953125,32521.5 L 15001.5,32557.30078125 L 14988.7998046875,32564.30078125 L 14973.7001953125,32519.19921875 L 14959.900390625,32473.0 L 14959.900390625,32466.0 L 14949.5,32463.69921875 L 14919.400390625,32503.0 L 14907.900390625,32550.400390625 L 14918.2998046875,32596.599609375 L 14926.2998046875,32646.30078125 L 14912.5,32684.5 L 14894.0,32691.400390625 L 14879.0,32646.30078125 L 14874.2998046875,32619.69921875 L 14845.400390625,32657.900390625 L 14838.5,32706.400390625 L 14806.099609375,32729.599609375 L 14769.2001953125,32698.30078125 L 14742.599609375,32660.19921875 L 14718.2998046875,32619.69921875 L 14675.5,32600.099609375 L 14631.599609375,32575.80078125 L 14598.099609375,32543.5 L 14568.0,32506.5 L 14526.400390625,32504.19921875 L 14482.5,32484.5 L 14450.099609375,32444.099609375 L 14403.900390625,32457.900390625 L 14379.599609375,32414.0 L 14335.7001953125,32387.400390625 L 14290.599609375,32363.19921875 L 14275.599609375,32325.0 L 14325.2998046875,32323.900390625 L 14370.400390625,32301.900390625 L 14416.599609375,32292.599609375 L 14438.599609375,32334.30078125 L 14445.5,32356.19921875 L 14450.099609375,32308.80078125 L 14421.2998046875,32266.099609375 L 14384.2998046875,32236.0 L 14353.099609375,32197.900390625 L 14334.599609375,32155.099609375 L 14360.0,32114.69921875 L 14360.0,32064.900390625 L 14321.900390625,32037.19921875 L 14296.400390625,31992.099609375 L 14273.2998046875,31945.900390625 L 14230.5,31920.5 L 14205.099609375,31903.099609375 L 14193.599609375,31950.5 L 14173.900390625,31962.099609375 L 14158.900390625,31920.5 L 14134.599609375,31878.900390625 L 14154.2998046875,31841.900390625 L 14193.599609375,31813.0 L 14221.2998046875,31829.19921875 L 14223.599609375,31782.900390625 L 14198.2001953125,31737.900390625 L 14162.2998046875,31707.80078125 L 14115.0,31703.19921875 L 14104.599609375,31704.30078125 L 14083.7998046875,31662.69921875 L 14086.099609375,31609.599609375 L 14102.2001953125,31565.599609375 L 14117.2998046875,31518.19921875 L 14156.599609375,31552.900390625 L 14173.900390625,31600.30078125 L 14170.400390625,31646.5 L 14169.2998046875,31650.0 L 14195.900390625,31609.599609375 L 14193.599609375,31563.30078125 L 14187.7998046875,31514.80078125 L 14179.7001953125,31467.400390625 L 14179.7001953125,31415.400390625 L 14171.599609375,31325.19921875 L 14151.900390625,31328.69921875 L 14118.400390625,31350.599609375 L 14089.5,31317.099609375 L 14120.7001953125,31291.69921875 L 14154.2998046875,31304.400390625 L 14164.7001953125,31289.400390625 L 14154.2998046875,31244.30078125 L 14156.599609375,31126.400390625 L 14133.5,31086.0 L 14117.2998046875,31039.69921875 L 14112.599609375,30993.5 L 14128.7998046875,30853.599609375 L 14124.2001953125,30807.400390625 L 14134.599609375,30793.5 L 14179.7001953125,30783.099609375 L 14142.7001953125,30754.19921875 L 14141.5,30705.69921875 L 14153.099609375,30658.30078125 L 14161.2001953125,30610.900390625 L 14164.7001953125,30601.69921875 L 14194.7001953125,30595.900390625 L 14177.400390625,30549.69921875 L 14193.599609375,30502.30078125 L 14225.900390625,30469.900390625 L 14219.0,30423.69921875 L 14212.0,30397.099609375 L 14252.5,30371.69921875 L 14268.7001953125,30325.400390625 L 14265.2001953125,30278.0 L 14290.599609375,30235.30078125 L 14321.900390625,30193.69921875 L 14347.2998046875,30154.400390625 L 14373.900390625,30134.69921875 L 14378.5,30181.0 L 14383.099609375,30230.69921875 L 14392.400390625,30278.0 L 14397.0,30293.099609375 L 14447.7998046875,30290.80078125 L 14479.0,30295.400390625 L 14461.7001953125,30249.099609375 L 14422.400390625,30223.69921875 L 14409.7001953125,30217.900390625 L 14445.5,30187.900390625 L 14490.599609375,30214.5 L 14532.2001953125,30238.69921875 L 14563.400390625,30256.099609375 L 14550.7001953125,30207.5 L 14544.900390625,30157.80078125 L 14548.400390625,30110.400390625 L 14584.2001953125,30079.19921875 L 14588.7998046875,30073.5 L 14538.0,30072.30078125 L 14505.599609375,30034.19921875 L 14499.7998046875,29974.099609375 L 14499.7998046875,29956.69921875 L 14450.099609375,29950.900390625 L 14453.599609375,29904.69921875 L 14487.099609375,29871.19921875 L 14481.400390625,29825.0 L 14529.900390625,29757.900390625 L 14542.599609375,29710.5 L 14573.7998046875,29635.400390625 L 14578.400390625,29620.400390625 L 14550.7001953125,29591.5 L 14573.7998046875,29549.900390625 L 14586.5,29502.5 L 14575.0,29456.19921875 L 14573.7998046875,29399.599609375 L 14528.7001953125,29408.900390625 L 14541.5,29437.80078125 L 14512.599609375,29456.19921875 L 14476.7001953125,29449.30078125 L 14471.0,29413.5 L 14491.7998046875,29388.099609375 L 14528.7001953125,29395.0 L 14576.099609375,29386.900390625 L 14617.7001953125,29362.599609375 L 14664.0,29338.400390625 L 14703.2998046875,29311.80078125 L 14739.099609375,29279.400390625 L 14747.2001953125,29263.19921875 L 14699.7998046875,29267.80078125 L 14649.0,29254.0 L 14602.7001953125,29256.30078125 L 14553.0,29262.099609375 L 14513.7001953125,29236.599609375 L 14464.0,29230.900390625 L 14405.099609375,29225.099609375 L 14362.2998046875,29202.0 L 14354.2001953125,29148.80078125 L 14360.0,29101.400390625 L 14360.0,29052.900390625 L 14358.7998046875,29004.30078125 L 14363.5,28952.30078125 L 14372.7001953125,28904.900390625 L 14408.5,28839.0 L 14434.0,28792.80078125 L 14457.099609375,28751.19921875 L 14477.900390625,28709.599609375 L 14484.7998046875,28686.5 L 14437.400390625,28695.69921875 L 14414.2998046875,28692.19921875 L 14418.900390625,28644.900390625 L 14383.099609375,28610.19921875 L 14334.599609375,28592.80078125 L 14304.5,28552.400390625 L 14295.2998046875,28503.80078125 L 14289.5,28455.30078125 L 14287.2001953125,28406.80078125 L 14272.2001953125,28351.30078125 L 14264.099609375,28298.099609375 L 14234.0,28235.69921875 L 14195.900390625,28204.5 L 14157.7001953125,28176.69921875 L 14112.599609375,28153.599609375 L 14090.7001953125,28112.0 L 14099.900390625,28063.5 L 14113.7998046875,28018.400390625 L 14104.599609375,27971.0 L 14067.599609375,27939.80078125 L 14062.900390625,27900.5 L 14065.2998046875,27853.099609375 L 14032.900390625,27819.599609375 L 14010.900390625,27774.5 L 14009.7998046875,27722.5 L 14009.7998046875,27675.099609375 L 14010.900390625,27626.599609375 L 14034.0,27538.69921875 L 14038.7001953125,27489.0 L 14035.2001953125,27442.80078125 L 14017.900390625,27397.69921875 L 14015.599609375,27346.900390625 L 13986.7001953125,27361.900390625 L 13968.2001953125,27345.69921875 L 13976.2998046875,27312.19921875 L 14005.2001953125,27318.0 L 14005.2001953125,27284.400390625 L 13999.400390625,27235.900390625 L 13961.2001953125,27208.19921875 L 13949.7001953125,27155.0 L 13919.599609375,27121.5 L 13872.2001953125,27128.400390625 L 13827.2001953125,27116.900390625 L 13867.599609375,27135.30078125 L 13873.400390625,27181.599609375 L 13842.2001953125,27178.099609375 L 13807.5,27144.599609375 L 13790.2001953125,27152.69921875 L 13823.7001953125,27186.19921875 L 13839.900390625,27204.69921875 L 13786.7001953125,27210.5 L 13752.0,27173.5 L 13728.900390625,27133.0 L 13708.099609375,27089.099609375 L 13690.7998046875,27045.19921875 L 13668.7998046875,26996.599609375 L 13644.5,26951.599609375 L 13576.2998046875,26889.19921875 L 13538.2001953125,26854.5 L 13575.2001953125,26819.80078125 L 13612.2001953125,26788.599609375 L 13649.2001953125,26758.5 L 13683.7998046875,26722.69921875 L 13704.599609375,26681.099609375 L 13697.7001953125,26633.69921875 L 13676.900390625,26589.80078125 L 13629.5,26577.099609375 L 13586.7001953125,26556.30078125 L 13586.7001953125,26556.30078125 L 13578.7001953125,26552.80078125 L 13540.5,26585.19921875 L 13511.599609375,26622.19921875 L 13492.0,26668.400390625 L 13450.400390625,26693.80078125 L 13401.7998046875,26700.80078125 L 13351.0,26700.80078125 L 13304.7001953125,26683.400390625 L 13266.599609375,26654.5 L 13250.400390625,26608.30078125 L 13238.7998046875,26560.900390625 L 13235.400390625,26514.69921875 L 13228.400390625,26467.30078125 L 13194.900390625,26428.0 L 13148.7001953125,26407.19921875 L 13131.2998046875,26385.19921875 L 13133.7001953125,26304.30078125 L 13124.400390625,26250.0 L 13107.099609375,26204.900390625 L 13092.099609375,26157.5 L 13068.900390625,26112.400390625 L 13034.2998046875,26077.80078125 L 13004.2001953125,26059.30078125 L 13013.5,26013.0 L 12984.599609375,25920.599609375 L 12979.900390625,25870.900390625 L 12978.7998046875,25817.69921875 L 12992.7001953125,25772.599609375 L 13001.900390625,25720.599609375 L 12999.599609375,25673.19921875 L 12970.7001953125,25650.099609375 L 12954.5,25653.599609375 L 12995.0,25629.30078125 L 13028.5,25596.900390625 L 13073.599609375,25572.69921875 L 13112.900390625,25544.900390625 L 13152.2001953125,25514.900390625 L 13188.0,25477.900390625 L 13229.599609375,25452.5 L 13257.2998046875,25452.5 L 13297.7998046875,25420.099609375 L 13340.599609375,25379.599609375 L 13404.099609375,25380.80078125 L 13450.400390625,25397.0 L 13498.900390625,25395.80078125 L 13542.7998046875,25354.19921875 L 13534.7001953125,25324.19921875 L 13534.7001953125,25271.0 L 13552.099609375,25227.099609375 L 13583.2998046875,25186.599609375 L 13622.599609375,25158.900390625 L 13670.0,25177.400390625 L 13680.400390625,25222.5 L 13653.7998046875,25260.599609375 L 13608.7001953125,25281.400390625 L 13565.900390625,25305.69921875 L 13568.2998046875,25323.0 L 13614.5,25332.30078125 L 13630.7001953125,25377.30078125 L 13641.099609375,25424.69921875 L 13666.5,25465.19921875 L 13710.400390625,25482.5 L 13754.2998046875,25466.30078125 L 13756.7001953125,25442.099609375 L 13715.0,25418.900390625 L 13725.400390625,25373.900390625 L 13723.099609375,25327.599609375 L 13727.7998046875,25281.400390625 L 13752.0,25237.5 L 13764.7001953125,25191.19921875 L 13802.900390625,25162.400390625 L 13846.7998046875,25145.0 L 13890.7001953125,25128.80078125 L 13920.7998046875,25075.69921875 L 13878.0,25094.19921875 L 13835.2001953125,25071.0 L 13824.7998046875,25060.599609375 L 13784.400390625,25088.400390625 L 13757.7998046875,25119.599609375 L 13745.099609375,25074.5 L 13747.400390625,25028.30078125 L 13757.7998046875,24978.599609375 L 13768.2001953125,24933.5 L 13791.2998046875,24888.400390625 L 13815.599609375,24846.80078125 L 13809.7998046875,24800.599609375 L 13848.0,24772.80078125 L 13867.599609375,24725.400390625 L 13893.0,24682.69921875 L 13916.2001953125,24635.30078125 L 13931.2001953125,24586.80078125 L 13945.099609375,24541.69921875 L 13965.900390625,24449.19921875 L 13971.599609375,24400.69921875 L 13960.099609375,24355.599609375 L 13913.7998046875,24357.900390625 L 13884.900390625,24320.900390625 L 13858.400390625,24266.599609375 L 13808.7001953125,24270.099609375 L 13786.7001953125,24228.400390625 L 13765.900390625,24186.80078125 L 13762.400390625,24140.599609375 L 13774.0,24093.19921875 L 13772.7998046875,24044.69921875 L 13769.400390625,23991.5 L 13755.5,23962.599609375 L 13786.7001953125,23924.5 L 13822.5,23894.400390625 L 13856.099609375,23858.599609375 L 13889.599609375,23822.69921875 L 13910.400390625,23781.099609375 L 13924.2001953125,23736.099609375 L 13883.7998046875,23712.900390625 L 13883.7998046875,23662.099609375 L 13893.0,23622.80078125 L 13917.2998046875,23666.69921875 L 13933.5,23697.900390625 L 13968.2001953125,23664.400390625 L 13995.900390625,23623.900390625 L 13999.400390625,23574.19921875 L 14030.599609375,23538.400390625 L 14032.900390625,23517.599609375 L 13986.7001953125,23515.30078125 L 13973.900390625,23486.400390625 L 14005.2001953125,23450.599609375 L 14015.599609375,23405.5 L 14008.599609375,23356.900390625 L 14004.0,23310.69921875 L 14022.5,23268.0 L 14065.2998046875,23244.80078125 L 14072.2001953125,23291.099609375 L 14097.599609375,23301.5 L 14115.0,23257.5 L 14094.2001953125,23215.900390625 L 14120.7001953125,23191.69921875 L 14155.400390625,23222.900390625 L 14154.2998046875,23243.69921875 L 14182.0,23232.099609375 L 14162.2998046875,23188.19921875 L 14161.2001953125,23142.0 L 14167.0,23094.599609375 L 14184.2998046875,23047.19921875 L 14219.0,23016.0 L 14250.2001953125,23027.5 L 14273.2998046875,22985.900390625 L 14222.5,22976.69921875 L 14208.599609375,22967.400390625 L 14243.2998046875,22931.599609375 L 14243.2998046875,22883.099609375 L 14251.2998046875,22834.5 L 14281.400390625,22796.400390625 L 14311.400390625,22779.0 L 14342.7001953125,22742.099609375 L 14360.0,22698.099609375 L 14375.0,22654.19921875 L 14388.900390625,22602.19921875 L 14408.5,22553.69921875 L 14419.7998046875,22495.400390625 L 14408.2001953125,22431.099609375 L 14412.0,22433.30078125 L 14382.900390625,22402.19921875 L 14346.7001953125,22379.099609375 L 14306.5,22356.0 L 14273.400390625,22332.80078125 L 14245.2001953125,22299.69921875 L 14231.2001953125,22257.5 L 14216.099609375,22216.30078125 L 14199.0,22178.099609375 L 14186.0,22148.0 L 14164.900390625,22110.80078125 L 14139.7998046875,22076.69921875 L 14117.599609375,22039.5 L 14094.5,22005.30078125 L 14067.400390625,21969.19921875 L 14028.2001953125,21942.0 L 13992.099609375,21918.900390625 L 13952.900390625,21895.80078125 L 13910.7001953125,21883.80078125 L 13869.5,21876.69921875 L 13832.2998046875,21855.599609375 L 13798.2001953125,21833.5 L 13760.0,21815.400390625 L 13730.7998046875,21787.30078125 L 13704.7001953125,21755.19921875 L 13693.7001953125,21715.0 L 13678.599609375,21674.80078125 L 13662.5,21616.5 L 13650.5,21568.30078125 L 13641.400390625,21525.099609375 L 13638.400390625,21483.900390625 L 13638.400390625,21434.69921875 L 13638.400390625,21389.5 L 13640.400390625,21346.30078125 L 13643.400390625,21301.099609375 L 13643.400390625,21249.80078125 L 13643.400390625,21198.599609375 L 13647.5,21149.30078125 L 13658.5,21107.19921875 L 13665.5,21030.80078125 L 13676.599609375,20989.599609375 L 13678.599609375,20948.400390625 L 13682.599609375,20908.19921875 L 13686.599609375,20867.0 L 13684.599609375,20805.69921875 L 13705.7001953125,20767.599609375 L 13726.7998046875,20732.400390625 L 13749.900390625,20692.19921875 L 13770.0,20653.0 L 13798.2001953125,20623.900390625 L 13814.2001953125,20595.80078125 L 13819.2998046875,20552.599609375 L 13820.2998046875,20507.400390625 L 13827.2998046875,20461.099609375 L 13839.400390625,20416.900390625 L 13845.400390625,20373.69921875 L 13845.400390625,20330.5 L 13845.400390625,20287.30078125 L 13845.400390625,20243.099609375 L 13851.400390625,20200.900390625 L 13867.5,20159.69921875 L 13883.599609375,20120.599609375 L 13896.599609375,20079.400390625 L 13920.7001953125,20039.19921875 L 13949.900390625,20007.0 L 13963.900390625,19967.900390625 L 13969.0,19924.69921875 L 13978.0,19884.5 L 13997.099609375,19847.30078125 L 14023.2001953125,19812.099609375 L 14049.2998046875,19780.0 L 14085.5,19757.900390625 L 14116.599609375,19721.69921875 L 14141.7998046875,19687.5 L 14175.900390625,19656.400390625 L 14210.099609375,19630.30078125 L 14251.2998046875,19608.19921875 L 14291.5,19587.099609375 L 14330.599609375,19569.0 L 14366.7998046875,19543.900390625 L 14396.900390625,19511.69921875 L 14423.099609375,19475.599609375 L 14454.2001953125,19447.400390625 L 14487.400390625,19424.30078125 L 14523.5,19404.19921875 L 14562.7001953125,19382.099609375 L 14630.0,19318.80078125 L 14665.2001953125,19297.69921875 L 14698.2998046875,19268.599609375 L 14724.5,19229.400390625 L 14742.599609375,19192.19921875 L 14759.599609375,19155.099609375 L 14778.7001953125,19116.900390625 L 14796.7998046875,19077.69921875 L 14813.900390625,19037.5 L 14842.0,19012.400390625 L 14803.7998046875,19028.5 L 14777.7001953125,19065.69921875 L 14751.599609375,19096.80078125 L 14714.400390625,19104.80078125 L 14727.5,19057.599609375 L 14753.599609375,19014.400390625 L 14782.7001953125,18976.19921875 L 14814.900390625,18949.099609375 L 14849.0,18923.0 L 14886.2001953125,18905.900390625 L 14923.400390625,18888.80078125 L 14961.599609375,18870.80078125 L 14997.7001953125,18843.599609375 L 15073.099609375,18770.30078125 L 15106.2001953125,18742.19921875 L 15147.400390625,18716.0 L 15183.599609375,18696.900390625 L 15232.7998046875,18674.80078125 L 15272.0,18655.80078125 L 15315.2001953125,18636.69921875 L 15354.400390625,18614.599609375 L 15389.599609375,18593.5 L 15427.7001953125,18578.400390625 L 15466.900390625,18560.30078125 L 15505.099609375,18546.19921875 L 15546.2998046875,18530.19921875 L 15586.5,18517.099609375 L 15629.7001953125,18501.0 L 15674.900390625,18479.900390625 L 15717.099609375,18455.80078125 L 15758.2998046875,18431.69921875 L 15796.5,18403.599609375 L 15834.599609375,18374.400390625 L 15864.7998046875,18343.30078125 L 15894.900390625,18307.099609375 L 15925.099609375,18272.0 L 15957.2001953125,18239.80078125 L 15993.400390625,18212.69921875 L 16029.5,18184.599609375 L 16062.7001953125,18160.400390625 L 16099.900390625,18133.30078125 L 16139.0,18106.19921875 L 16175.2001953125,18083.099609375 L 16214.400390625,18066.0 L 16255.599609375,18048.900390625 L 16292.7998046875,18023.80078125 L 16328.900390625,17997.69921875 L 16361.099609375,17971.599609375 L 16395.19921875,17941.400390625 L 16436.400390625,17911.30078125 L 16470.599609375,17885.19921875 L 16511.80078125,17869.099609375 L 16559.0,17870.099609375 L 16599.19921875,17889.19921875 L 16635.400390625,17913.30078125 L 16645.400390625,17918.30078125 L 16683.599609375,17898.19921875 L 16687.599609375,17854.0 L 16717.69921875,17825.900390625 L 16758.900390625,17825.900390625 L 16800.099609375,17825.900390625 L 16843.30078125,17832.900390625 L 16892.599609375,17839.0 L 16931.69921875,17827.900390625 L 16973.900390625,17833.900390625 L 16988.0,17841.0 L 17031.19921875,17852.0 L 17073.400390625,17835.900390625 L 17120.599609375,17845.0 L 17158.80078125,17861.099609375 L 17198.0,17874.099609375 L 17240.19921875,17888.19921875 L 17278.30078125,17909.30078125 L 17305.5,17941.400390625 L 17320.5,17978.599609375 L 17283.400390625,17998.69921875 L 17253.19921875,18027.80078125 L 17240.19921875,18069.0 L 17232.099609375,18110.19921875 L 17211.0,18147.400390625 L 17184.900390625,18165.5 L 17214.0,18195.599609375 L 17208.0,18235.80078125 L 17238.19921875,18262.900390625 L 17263.30078125,18299.099609375 L 17268.30078125,18339.30078125 L 17260.30078125,18364.400390625 L 17217.099609375,18364.400390625 L 17175.900390625,18364.400390625 L 17134.69921875,18361.400390625 L 17137.69921875,18341.30078125 L 17101.5,18361.400390625 L 17113.599609375,18400.599609375 L 17137.69921875,18433.69921875 L 17163.80078125,18465.900390625 L 17165.80078125,18506.099609375 L 17136.69921875,18535.19921875 L 17104.5,18561.30078125 L 17130.69921875,18602.5 L 17160.80078125,18631.599609375 L 17142.69921875,18667.80078125 L 17105.5,18684.900390625 L 17078.400390625,18715.0 L 17051.30078125,18745.19921875 L 17017.099609375,18767.30078125 L 16992.0,18778.30078125 L 17022.19921875,18808.5 L 17036.19921875,18847.599609375 L 17048.30078125,18889.80078125 L 17031.19921875,18928.0 L 17015.099609375,18970.19921875 L 17020.099609375,19018.400390625 L 17040.19921875,18993.30078125 L 17083.400390625,18991.30078125 L 17099.5,19029.5 L 17100.5,19070.69921875 L 17098.5,19093.80078125 L 17137.69921875,19105.80078125 L 17162.80078125,19139.0 L 17196.0,19164.099609375 L 17236.19921875,19181.19921875 L 17265.30078125,19209.30078125 L 17280.400390625,19247.5 L 17309.5,19277.599609375 L 17347.69921875,19293.69921875 L 17383.80078125,19314.80078125 L 17416.0,19340.900390625 L 17431.099609375,19344.0 L 17404.900390625,19312.80078125 L 17436.099609375,19284.69921875 L 17477.30078125,19283.69921875 L 17508.400390625,19310.80078125 L 17501.400390625,19354.0 L 17497.400390625,19394.19921875 L 17527.5,19423.30078125 L 17563.69921875,19447.400390625 L 17586.80078125,19468.5 L 17558.69921875,19499.69921875 L 17534.5,19522.80078125 L 17574.69921875,19533.80078125 L 17579.69921875,19553.900390625 L 17595.80078125,19592.099609375 L 17618.900390625,19628.30078125 L 17653.099609375,19651.400390625 L 17664.099609375,19664.400390625 L 17638.0,19696.599609375 L 17619.900390625,19732.80078125 L 17625.0,19775.0 L 17656.099609375,19803.099609375 L 17696.30078125,19818.19921875 L 17737.5,19814.099609375 L 17770.599609375,19790.0 L 17764.599609375,19749.80078125 L 17768.599609375,19708.599609375 L 17793.69921875,19673.5 L 17800.80078125,19655.400390625 L 17833.900390625,19687.5 L 17855.0,19722.69921875 L 17876.099609375,19758.900390625 L 17880.099609375,19772.900390625 L 17844.0,19791.0 L 17814.80078125,19821.19921875 L 17812.80078125,19863.400390625 L 17810.80078125,19906.599609375 L 17791.69921875,19945.80078125 L 17775.69921875,19982.900390625 L 17744.5,19976.900390625 L 17747.5,20017.099609375 L 17741.5,20059.30078125 L 17759.599609375,20095.400390625 L 17777.69921875,20128.599609375 L 17781.69921875,20110.5 L 17786.69921875,20070.30078125 L 17810.80078125,20024.099609375 L 17846.0,20013.099609375 L 17886.19921875,20008.0 L 17905.30078125,20016.099609375 L 17906.30078125,19974.900390625 L 17906.30078125,19973.900390625 L 17871.099609375,19959.80078125 L 17866.099609375,19932.69921875 L 17908.30078125,19936.69921875 L 17948.5,19943.69921875 L 17988.599609375,19950.80078125 L 18028.80078125,19959.80078125 L 18064.0,19980.900390625 L 18100.19921875,20001.0 L 18142.400390625,19997.0 L 18176.5,19976.900390625 L 18183.599609375,20017.099609375 L 18145.400390625,20033.19921875 L 18112.19921875,20057.30078125 L 18079.099609375,20085.400390625 L 18058.0,20122.599609375 L 18034.900390625,20156.69921875 L 18015.80078125,20195.900390625 L 18001.69921875,20235.099609375 L 17996.69921875,20242.099609375 L 17978.599609375,20277.30078125 L 18015.80078125,20260.19921875 L 18061.0,20260.19921875 L 18043.900390625,20223.0 L 18084.099609375,20214.0 L 18124.30078125,20207.0 L 18150.400390625,20175.80078125 L 18170.5,20134.599609375 L 18182.599609375,20118.599609375 L 18205.69921875,20154.69921875 L 18220.69921875,20192.900390625 L 18226.80078125,20214.0 L 18250.900390625,20176.80078125 L 18276.0,20144.69921875 L 18281.0,20138.599609375 L 18316.19921875,20161.80078125 L 18312.19921875,20202.900390625 L 18302.099609375,20216.0 L 18346.30078125,20233.099609375 L 18389.5,20233.099609375 L 18408.599609375,20222.0 L 18371.400390625,20199.900390625 L 18339.30078125,20168.80078125 L 18343.30078125,20127.599609375 L 18348.30078125,20096.5 L 18307.099609375,20093.400390625 L 18285.0,20056.30078125 L 18298.099609375,20017.099609375 L 18307.099609375,19973.900390625 L 18307.099609375,19928.69921875 L 18306.099609375,19888.5 L 18310.099609375,19847.30078125 L 18316.19921875,19807.099609375 L 18337.30078125,19791.0 L 18355.400390625,19753.900390625 L 18394.5,19738.80078125 L 18421.69921875,19743.80078125 L 18427.69921875,19683.5 L 18467.900390625,19698.599609375 L 18494.0,19729.69921875 L 18503.0,19751.80078125 L 18506.099609375,19794.0 L 18537.19921875,19821.19921875 L 18569.30078125,19847.30078125 L 18600.5,19875.400390625 L 18607.5,19919.599609375 L 18593.5,19960.80078125 L 18581.400390625,20002.0 L 18606.5,20035.19921875 L 18621.599609375,20077.400390625 L 18616.599609375,20119.599609375 L 18581.400390625,20144.69921875 L 18546.19921875,20170.80078125 L 18516.099609375,20206.0 L 18489.0,20237.099609375 L 18447.80078125,20234.099609375 L 18426.69921875,20269.30078125 L 18418.599609375,20309.400390625 L 18446.80078125,20339.599609375 L 18485.0,20325.5 L 18512.099609375,20295.400390625 L 18511.099609375,20255.19921875 L 18537.19921875,20224.0 L 18553.30078125,20261.19921875 L 18550.30078125,20301.400390625 L 18529.19921875,20337.599609375 L 18511.099609375,20373.69921875 L 18547.19921875,20394.80078125 L 18591.5,20398.900390625 L 18626.599609375,20421.0 L 18664.80078125,20400.900390625 L 18665.80078125,20359.69921875 L 18666.80078125,20317.5 L 18659.80078125,20273.30078125 L 18633.599609375,20241.099609375 L 18634.69921875,20200.900390625 L 18670.80078125,20181.80078125 L 18699.0,20149.69921875 L 18733.099609375,20122.599609375 L 18765.30078125,20096.5 L 18772.30078125,20054.30078125 L 18760.19921875,20013.099609375 L 18750.19921875,19970.900390625 L 18748.19921875,19971.900390625 L 18714.0,19995.0 L 18690.900390625,19959.80078125 L 18688.900390625,19919.599609375 L 18679.900390625,19877.400390625 L 18677.900390625,19837.19921875 L 18673.80078125,19795.0 L 18662.80078125,19755.900390625 L 18631.599609375,19725.69921875 L 18591.5,19716.69921875 L 18570.400390625,19685.5 L 18608.5,19658.400390625 L 18644.69921875,19639.30078125 L 18680.900390625,19620.19921875 L 18723.099609375,19627.30078125 L 18764.30078125,19622.19921875 L 18794.400390625,19603.19921875 L 18826.5,19574.0 L 18875.80078125,19564.0 L 18924.0,19579.0 L 18965.19921875,19586.099609375 L 19005.400390625,19590.099609375 L 19047.599609375,19595.099609375 L 19089.80078125,19606.19921875 L 19131.0,19613.19921875 L 19175.19921875,19614.19921875 L 19215.400390625,19602.19921875 L 19238.5,19557.900390625 L 19215.400390625,19515.80078125 L 19190.19921875,19481.599609375 L 19173.19921875,19443.400390625 L 19205.30078125,19418.30078125 L 19252.5,19434.400390625 L 19293.69921875,19457.5 L 19331.900390625,19472.5 L 19370.099609375,19493.599609375 L 19406.19921875,19516.80078125 L 19442.400390625,19538.900390625 L 19478.599609375,19557.900390625 L 19513.69921875,19578.0 L 19532.80078125,19588.099609375 L 19499.69921875,19554.900390625 L 19470.5,19522.80078125 L 19446.400390625,19488.599609375 L 19426.30078125,19453.5 L 19417.30078125,19414.30078125 L 19411.30078125,19371.099609375 L 19416.30078125,19327.900390625 L 19457.5,19321.80078125 L 19462.5,19279.69921875 L 19424.30078125,19258.599609375 L 19390.19921875,19236.5 L 19359.0,19210.30078125 L 19317.80078125,19192.19921875 L 19277.599609375,19181.19921875 L 19238.5,19167.099609375 L 19212.30078125,19202.30078125 L 19219.400390625,19248.5 L 19236.5,19290.69921875 L 19229.400390625,19332.900390625 L 19186.19921875,19349.0 L 19145.0,19355.0 L 19101.80078125,19361.0 L 19063.599609375,19377.099609375 L 19027.5,19395.19921875 L 18988.30078125,19408.30078125 L 18949.099609375,19418.30078125 L 18902.900390625,19433.400390625 L 18859.69921875,19437.400390625 L 18818.5,19442.400390625 L 18780.30078125,19464.5 L 18745.19921875,19484.599609375 L 18706.0,19506.69921875 L 18664.80078125,19496.69921875 L 18644.69921875,19461.5 L 18672.80078125,19429.30078125 L 18714.0,19417.30078125 L 18727.099609375,19412.30078125 L 18693.900390625,19382.099609375 L 18659.80078125,19351.0 L 18618.599609375,19358.0 L 18619.599609375,19398.19921875 L 18625.599609375,19439.400390625 L 18609.5,19476.599609375 L 18586.400390625,19510.69921875 L 18546.19921875,19521.80078125 L 18564.30078125,19532.80078125 L 18605.5,19540.900390625 L 18644.69921875,19527.80078125 L 18654.69921875,19542.900390625 L 18637.69921875,19580.0 L 18597.5,19593.099609375 L 18557.30078125,19598.099609375 L 18524.099609375,19573.0 L 18490.0,19546.900390625 L 18458.80078125,19519.80078125 L 18446.80078125,19479.599609375 L 18433.69921875,19438.400390625 L 18437.69921875,19396.19921875 L 18470.900390625,19425.30078125 L 18485.0,19451.5 L 18485.0,19409.30078125 L 18485.0,19365.0 L 18478.900390625,19323.900390625 L 18475.900390625,19278.599609375 L 18492.0,19240.5 L 18493.0,19216.400390625 L 18457.80078125,19236.5 L 18427.69921875,19263.599609375 L 18420.69921875,19303.80078125 L 18424.69921875,19345.0 L 18384.5,19362.0 L 18342.30078125,19361.0 L 18331.19921875,19402.19921875 L 18313.19921875,19438.400390625 L 18275.0,19424.30078125 L 18247.900390625,19393.19921875 L 18245.80078125,19352.0 L 18246.80078125,19317.80078125 L 18205.69921875,19306.80078125 L 18190.599609375,19268.599609375 L 18190.599609375,19260.599609375 L 18229.80078125,19271.599609375 L 18272.0,19278.599609375 L 18316.19921875,19283.69921875 L 18355.400390625,19293.69921875 L 18386.5,19282.69921875 L 18389.5,19242.5 L 18370.400390625,19205.30078125 L 18383.5,19167.099609375 L 18382.5,19146.0 L 18346.30078125,19120.900390625 L 18325.19921875,19081.69921875 L 18324.19921875,19057.599609375 L 18365.400390625,19062.599609375 L 18374.400390625,19071.69921875 L 18352.30078125,19029.5 L 18359.400390625,18988.30078125 L 18340.30078125,18949.099609375 L 18315.19921875,18916.0 L 18325.19921875,18874.80078125 L 18347.30078125,18841.599609375 L 18361.400390625,18803.400390625 L 18371.400390625,18761.19921875 L 18385.5,18719.0 L 18399.599609375,18680.900390625 L 18436.69921875,18655.80078125 L 18473.900390625,18633.599609375 L 18490.0,18596.5 L 18526.099609375,18578.400390625 L 18568.30078125,18573.400390625 L 18608.5,18560.30078125 L 18649.69921875,18542.19921875 L 18703.0,18542.19921875 L 18711.0,18554.30078125 L 18742.19921875,18588.400390625 L 18768.30078125,18620.599609375 L 18799.400390625,18652.69921875 L 18828.599609375,18680.900390625 L 18863.69921875,18706.0 L 18885.80078125,18742.19921875 L 18891.80078125,18785.400390625 L 18925.0,18820.5 L 18961.19921875,18840.599609375 L 18998.30078125,18863.69921875 L 19037.5,18873.80078125 L 19084.69921875,18880.80078125 L 19129.0,18881.80078125 L 19170.099609375,18870.80078125 L 19194.30078125,18834.599609375 L 19208.30078125,18795.400390625 L 19207.30078125,18752.19921875 L 19193.30078125,18711.0 L 19173.19921875,18669.80078125 L 19151.099609375,18635.69921875 L 19126.900390625,18599.5 L 19103.80078125,18560.30078125 L 19108.900390625,18516.099609375 L 19115.900390625,18475.900390625 L 19124.900390625,18436.69921875 L 19139.0,18396.5 L 19153.099609375,18356.400390625 L 19176.19921875,18323.19921875 L 19211.30078125,18297.099609375 L 19258.599609375,18279.0 L 19284.69921875,18285.0 L 19279.69921875,18328.19921875 L 19272.599609375,18373.400390625 L 19272.599609375,18414.599609375 L 19272.599609375,18466.900390625 L 19266.599609375,18507.099609375 L 19259.599609375,18550.30078125 L 19257.5,18593.5 L 19259.599609375,18633.599609375 L 19260.599609375,18674.80078125 L 19294.69921875,18699.0 L 19335.900390625,18702.0 L 19382.099609375,18710.0 L 19425.30078125,18732.099609375 L 19456.5,18758.19921875 L 19489.599609375,18781.30078125 L 19527.80078125,18799.400390625 L 19575.0,18806.5 L 19613.19921875,18821.5 L 19653.400390625,18826.5 L 19692.599609375,18838.599609375 L 19725.69921875,18862.69921875 L 19764.900390625,18883.80078125 L 19800.099609375,18903.900390625 L 19839.30078125,18917.0 L 19882.5,18914.0 L 19927.69921875,18927.0 L 19959.80078125,18953.099609375 L 20001.0,18962.19921875 L 20044.19921875,18971.19921875 L 20084.400390625,18980.30078125 L 20128.599609375,18981.30078125 L 20171.80078125,18990.30078125 L 20217.0,19004.400390625 L 20256.19921875,19023.5 L 20297.400390625,19025.5 L 20337.599609375,19015.400390625 L 20384.80078125,19029.5 L 20425.0,19034.5 L 20465.19921875,19037.5 L 20504.30078125,19057.599609375 L 20544.5,19069.69921875 L 20584.69921875,19079.69921875 L 20618.900390625,19086.80078125 L 20659.099609375,19069.69921875 L 20701.30078125,19059.599609375 L 20742.5,19055.599609375 L 20787.69921875,19062.599609375 L 20833.900390625,19061.599609375 L 20889.099609375,19040.5 L 20928.30078125,19025.5 L 20969.5,19011.400390625 L 21010.69921875,18991.30078125 L 21049.900390625,18974.19921875 L 21090.099609375,18963.19921875 L 21133.30078125,18953.099609375 L 21174.5,18943.099609375 L 21216.69921875,18932.0 L 21262.900390625,18922.0 L 21305.099609375,18911.900390625 L 21343.19921875,18898.900390625 L 21354.30078125,18900.900390625 L 21372.400390625,18908.900390625 L 21402.5,18878.80078125 L 21431.69921875,18847.599609375 L 21469.80078125,18830.599609375 L 21506.0,18807.5 L 21541.19921875,18787.400390625 L 21574.30078125,18764.30078125 L 21609.5,18741.099609375 L 21642.599609375,18718.0 L 21684.80078125,18705.0 L 21725.0,18688.900390625 L 21758.19921875,18665.80078125 L 21794.30078125,18647.69921875 L 21835.5,18632.599609375 L 21874.69921875,18616.599609375 L 21913.900390625,18600.5 L 21955.099609375,18594.5 L 21959.099609375,18634.69921875 L 21974.19921875,18664.80078125 L 22013.400390625,18648.69921875 L 22051.5,18634.69921875 L 22076.69921875,18602.5 L 22087.69921875,18561.30078125 L 22115.80078125,18519.099609375 L 22159.0,18518.099609375 L 22202.19921875,18516.099609375 L 22241.400390625,18503.0 L 22274.599609375,18478.900390625 L 22313.80078125,18467.900390625 L 22360.0,18452.80078125 L 22399.19921875,18435.69921875 L 22440.30078125,18424.69921875 L 22483.599609375,18411.599609375 L 22521.69921875,18402.599609375 L 22498.599609375,18435.69921875 L 22480.5,18473.900390625 L 22504.599609375,18509.099609375 L 22536.80078125,18482.900390625 L 22534.80078125,18436.69921875 L 22560.900390625,18405.599609375 L 22598.099609375,18388.5 L 22638.30078125,18377.5 L 22680.5,18364.400390625 L 22720.69921875,18347.30078125 L 22761.80078125,18337.30078125 L 22803.0,18337.30078125 L 22848.19921875,18330.19921875 L 22892.5,18326.19921875 L 22932.599609375,18317.19921875 L 22977.80078125,18308.099609375 L 23022.099609375,18309.099609375 L 23063.19921875,18321.19921875 L 23101.400390625,18340.30078125 L 23139.599609375,18356.400390625 L 23181.80078125,18363.400390625 L 23227.0,18364.400390625 L 23268.19921875,18363.400390625 L 23312.400390625,18356.400390625 L 23351.599609375,18340.30078125 L 23390.80078125,18324.19921875 L 23408.900390625,18288.0 L 23447.0,18273.0 L 23487.19921875,18259.900390625 L 23527.400390625,18245.80078125 L 23569.599609375,18225.80078125 L 23614.80078125,18217.69921875 L 23656.0,18214.69921875 L 23699.19921875,18214.69921875 L 23740.400390625,18206.69921875 L 23779.599609375,18193.599609375 L 23824.80078125,18172.5 L 23865.0,18160.400390625 L 23905.19921875,18163.5 L 23946.400390625,18172.5 L 23984.5,18187.599609375 L 24023.69921875,18201.599609375 L 24070.900390625,18211.69921875 L 24097.099609375,18239.80078125 L 24136.19921875,18248.900390625 L 24167.400390625,18276.0 L 24194.5,18306.099609375 L 24235.69921875,18316.19921875 L 24276.900390625,18321.19921875 L 24302.0,18353.30078125 L 24336.19921875,18381.5 L 24370.30078125,18408.599609375 L 24406.5,18430.69921875 L 24443.69921875,18446.80078125 L 24483.900390625,18457.80078125 L 24524.0,18473.900390625 L 24565.19921875,18489.0 L 24602.400390625,18512.099609375 L 24638.599609375,18532.19921875 L 24671.69921875,18574.400390625 L 24705.900390625,18599.5 L 24737.0,18627.599609375 L 24750.099609375,18648.69921875 L 24738.0,18687.900390625 L 24761.099609375,18721.099609375 L 24774.19921875,18737.099609375 L 24810.400390625,18719.0 L 24843.5,18693.900390625 L 24878.69921875,18671.80078125 L 24914.900390625,18648.69921875 L 24949.0,18624.599609375 L 24984.19921875,18602.5 L 25019.30078125,18575.400390625 L 25060.5,18553.30078125 L 25104.69921875,18549.30078125 L 25146.900390625,18546.19921875 L 25190.099609375,18557.30078125 L 25229.30078125,18575.400390625 L 25268.5,18592.5 L 25304.69921875,18613.599609375 L 25338.80078125,18639.69921875 L 25375.0,18657.80078125 L 25411.19921875,18677.900390625 L 25449.30078125,18692.900390625 L 25488.5,18711.0 L 25526.69921875,18726.099609375 L 25567.900390625,18737.099609375 L 25615.099609375,18744.19921875 L 25657.30078125,18752.19921875 L 25697.5,18759.19921875 L 25739.69921875,18767.30078125 L 25780.900390625,18767.30078125 L 25827.099609375,18767.30078125 L 25867.30078125,18774.30078125 L 25908.5,18784.30078125 L 25953.69921875,18784.30078125 L 25993.900390625,18782.30078125 L 26036.099609375,18776.30078125 L 26070.19921875,18784.30078125 L 26115.400390625,18778.30078125 L 26157.599609375,18776.30078125 L 26200.80078125,18781.30078125 L 26241.0,18793.400390625 L 26277.19921875,18817.5 L 26317.400390625,18819.5 L 26358.599609375,18825.5 L 26400.80078125,18817.5 L 26442.0,18816.5 L 26463.099609375,18853.69921875 L 26503.19921875,18848.599609375 L 26541.400390625,18827.599609375 L 26581.599609375,18808.5 L 26617.80078125,18785.400390625 L 26652.900390625,18763.30078125 L 26683.099609375,18735.099609375 L 26695.099609375,18726.099609375 L 26695.099609375,18768.30078125 L 26690.099609375,18810.5 L 26710.19921875,18775.30078125 L 26739.30078125,18746.19921875 L 26774.5,18725.099609375 L 26812.69921875,18709.0 L 26848.80078125,18685.900390625 L 26884.0,18664.80078125 L 26924.19921875,18649.69921875 L 26963.400390625,18632.599609375 L 26993.5,18605.5 L 27024.69921875,18573.400390625 L 27051.80078125,18538.19921875 L 27080.900390625,18508.099609375 L 27122.099609375,18502.0 L 27159.30078125,18480.900390625 L 27194.5,18459.80078125 L 27226.599609375,18432.69921875 L 27229.599609375,18387.5 L 27253.69921875,18354.30078125 L 27279.900390625,18321.19921875 L 27304.0,18287.0 L 27327.099609375,18245.80078125 L 27354.19921875,18211.69921875 L 27386.30078125,18177.5 L 27399.400390625,18138.30078125 L 27429.599609375,18101.19921875 L 27465.69921875,18083.099609375 L 27492.80078125,18050.900390625 L 27527.0,18025.80078125 L 27560.19921875,17998.69921875 L 27598.30078125,17978.599609375 L 27633.5,17952.5 L 27667.69921875,17928.400390625 L 27688.80078125,17890.19921875 L 27706.80078125,17853.0 L 27720.900390625,17834.900390625 L 27739.0,17873.099609375 L 27737.0,17916.30078125 L 27748.0,17947.5 L 27791.19921875,17940.400390625 L 27827.400390625,17915.30078125 L 27847.5,17880.099609375 L 27854.5,17839.0 L 27862.599609375,17796.80078125 L 27870.599609375,17754.599609375 L 27888.69921875,17713.400390625 L 27907.80078125,17673.19921875 L 27924.900390625,17636.0 L 27931.900390625,17616.900390625 L 27902.80078125,17648.099609375 L 27879.599609375,17684.19921875 L 27849.5,17711.400390625 L 27812.30078125,17732.5 L 27792.19921875,17769.599609375 L 27793.19921875,17809.80078125 L 27805.30078125,17831.900390625 L 27765.099609375,17837.900390625 L 27741.0,17797.80078125 L 27749.0,17746.5 L 27787.19921875,17720.400390625 L 27815.30078125,17684.19921875 L 27840.5,17652.099609375 L 27875.599609375,17627.0 L 27910.80078125,17599.80078125 L 27935.900390625,17566.69921875 L 27963.0,17532.5 L 27976.099609375,17493.30078125 L 27983.099609375,17451.19921875 L 27984.099609375,17410.0 L 27994.19921875,17370.80078125 L 28018.30078125,17335.599609375 L 28047.400390625,17303.5 L 28087.599609375,17278.30078125 L 28118.80078125,17250.19921875 L 28152.900390625,17257.19921875 L 28139.900390625,17297.400390625 L 28123.80078125,17335.599609375 L 28112.69921875,17375.80078125 L 28111.69921875,17416.0 L 28109.69921875,17457.19921875 L 28107.69921875,17503.400390625 L 28115.69921875,17543.599609375 L 28119.80078125,17538.599609375 L 28147.900390625,17499.400390625 L 28176.0,17463.19921875 L 28205.19921875,17434.099609375 L 28230.30078125,17399.900390625 L 28255.400390625,17363.69921875 L 28272.5,17326.599609375 L 28295.599609375,17280.400390625 L 28313.69921875,17244.19921875 L 28330.69921875,17205.0 L 28353.80078125,17165.80078125 L 28371.900390625,17125.599609375 L 28393.0,17090.5 L 28416.099609375,17054.30078125 L 28448.30078125,17023.19921875 L 28476.400390625,16984.0 L 28496.5,16947.80078125 L 28511.599609375,16909.599609375 L 28532.69921875,16873.5 L 28556.80078125,16836.30078125 L 28570.900390625,16798.099609375 L 28588.900390625,16759.900390625 L 28619.099609375,16729.80078125 L 28654.19921875,16708.69921875 L 28691.400390625,16691.599609375 L 28732.599609375,16699.69921875 L 28768.80078125,16722.80078125 L 28796.900390625,16751.900390625 L 28822.0,16784.0 L 28854.19921875,16809.19921875 L 28873.30078125,16819.19921875 L 28911.400390625,16805.099609375 L 28915.5,16804.099609375 L 28951.599609375,16823.19921875 L 28970.69921875,16786.099609375 L 28962.69921875,16742.900390625 L 28976.69921875,16700.69921875 L 29005.900390625,16668.5 L 29042.0,16642.400390625 L 29077.19921875,16622.30078125 L 29100.30078125,16589.099609375 L 29123.400390625,16556.0 L 29147.5,16486.69921875 L 29160.599609375,16428.400390625 L 29167.599609375,16386.19921875 L 29193.80078125,16352.0 L 29224.900390625,16299.7998046875 L 29250.0,16267.599609375 L 29275.099609375,16234.5 L 29310.30078125,16206.400390625 L 29338.400390625,16175.2001953125 L 29364.5,16143.099609375 L 29394.69921875,16115.900390625 L 29416.80078125,16076.7998046875 L 29436.900390625,16041.599609375 L 29466.0,16013.5 L 29508.19921875,16010.5 L 29549.400390625,16007.400390625 L 29586.599609375,15986.2998046875 L 29622.80078125,15952.2001953125 L 29659.900390625,15934.099609375 L 29708.099609375,15933.099609375 L 29749.30078125,15933.099609375 L 29790.5,15938.099609375 L 29828.69921875,15958.2001953125 L 29862.900390625,15978.2998046875 L 29889.0,16013.5 L 29899.0,16055.7001953125 L 29911.099609375,16089.7998046875 L 29948.30078125,16065.7001953125 L 29982.400390625,16041.599609375 L 30012.599609375,16008.400390625 L 30042.69921875,15977.2998046875 L 30073.80078125,15950.2001953125 L 30103.0,15920.0 L 30141.19921875,15904.0 L 30164.30078125,15869.7998046875 L 30181.30078125,15829.599609375 L 30194.400390625,15791.400390625 L 30202.400390625,15772.2998046875 L 30171.30078125,15798.5 L 30136.099609375,15821.599609375 L 30099.0,15837.599609375 L 30056.80078125,15831.599609375 L 30025.599609375,15804.5 L 29998.5,15758.2998046875 L 29980.400390625,15719.099609375 L 29963.30078125,15679.900390625 L 29955.30078125,15637.7001953125 L 29954.30078125,15595.5 L 29967.400390625,15554.2998046875 L 29987.400390625,15512.099609375 L 30010.599609375,15471.900390625 L 30031.69921875,15433.7998046875 L 30054.80078125,15399.599609375 L 30082.900390625,15365.5 L 30119.099609375,15345.400390625 L 30161.30078125,15333.2998046875 L 30198.400390625,15315.2001953125 L 30225.599609375,15285.099609375 L 30253.69921875,15252.900390625 L 30286.80078125,15227.7998046875 L 30327.0,15223.7998046875 L 30346.099609375,15264.0 L 30363.19921875,15289.099609375 L 30405.400390625,15284.099609375 L 30436.5,15271.0 L 30431.5,15229.7998046875 L 30398.400390625,15206.7001953125 L 30360.19921875,15186.599609375 L 30324.0,15161.5 L 30324.0,15150.5 L 30325.0,15108.2998046875 L 30341.099609375,15071.099609375 L 30376.30078125,15046.0 L 30418.400390625,15031.900390625 L 30461.69921875,15019.7998046875 L 30470.69921875,15006.7998046875 L 30471.69921875,14965.599609375 L 30481.69921875,14925.400390625 L 30484.80078125,14919.400390625 L 30442.599609375,14925.400390625 L 30402.400390625,14926.400390625 L 30374.19921875,14897.2998046875 L 30381.30078125,14851.099609375 L 30404.400390625,14810.900390625 L 30439.5,14785.7998046875 L 30480.69921875,14772.7001953125 L 30522.900390625,14768.7001953125 L 30564.099609375,14787.7998046875 L 30571.19921875,14828.0 L 30567.099609375,14869.099609375 L 30586.19921875,14905.2998046875 L 30627.400390625,14911.2998046875 L 30658.599609375,14885.2001953125 L 30693.69921875,14861.099609375 L 30737.900390625,14858.099609375 L 30780.099609375,14848.0 L 30818.30078125,14830.0 L 30853.5,14782.7001953125 L 30880.599609375,14747.599609375 L 30907.69921875,14715.400390625 L 30934.80078125,14682.2998046875 L 30958.0,14648.099609375 L 30983.099609375,14615.0 L 31012.19921875,14585.7998046875 L 31052.400390625,14567.7001953125 L 31092.599609375,14558.7001953125 L 31131.80078125,14546.599609375 L 31170.900390625,14531.599609375 L 31210.099609375,14512.5 L 31248.30078125,14495.400390625 L 31290.5,14492.400390625 L 31340.69921875,14491.400390625 L 31385.900390625,14486.400390625 L 31425.099609375,14500.400390625 L 31464.30078125,14511.5 L 31503.5,14520.5 L 31540.69921875,14502.400390625 L 31574.80078125,14479.2998046875 L 31615.0,14468.2998046875 L 31657.19921875,14475.2998046875 L 31699.400390625,14484.400390625 L 31740.599609375,14476.2998046875 L 31777.80078125,14453.2001953125 L 31810.900390625,14429.099609375 L 31871.19921875,14376.900390625 L 31910.400390625,14362.7998046875 L 31951.599609375,14353.7001953125 L 31987.69921875,14374.7998046875 L 32000.80078125,14414.0 L 31990.80078125,14454.2001953125 L 31973.69921875,14492.400390625 L 31955.599609375,14528.599609375 L 31954.599609375,14531.599609375 L 31995.80078125,14538.599609375 L 32033.0,14521.5 L 32069.099609375,14501.400390625 L 32106.30078125,14485.400390625 L 32145.5,14470.2998046875 L 32159.5,14469.2998046875 L 32153.5,14509.5 L 32132.400390625,14532.599609375 L 32166.599609375,14509.5 L 32197.69921875,14481.2998046875 L 32233.900390625,14461.2001953125 L 32279.099609375,14447.2001953125 L 32320.30078125,14429.099609375 L 32359.5,14415.0 L 32400.69921875,14395.900390625 L 32436.80078125,14377.900390625 L 32492.099609375,14363.7998046875 L 32542.30078125,14353.7001953125 L 32589.5,14347.7001953125 L 32630.69921875,14345.7001953125 L 32673.900390625,14341.7001953125 L 32716.099609375,14344.7001953125 L 32758.30078125,14350.7001953125 L 32796.5,14370.7998046875 L 32828.69921875,14437.099609375 L 32841.30078125,14389.599609375 z\" /></g></svg>"
      ],
      "text/plain": [
       "<shapely.geometry.polygon.Polygon at 0x7fd3de125c70>"
      ]
     },
     "execution_count": 12,
     "metadata": {},
     "output_type": "execute_result"
    }
   ],
   "source": [
    "polygons[0]"
   ]
  },
  {
   "cell_type": "markdown",
   "id": "00d954b3-a2fc-4063-a204-deb1c41af9fe",
   "metadata": {},
   "source": [
    "### Method 1: failed"
   ]
  },
  {
   "cell_type": "code",
   "execution_count": null,
   "id": "18d152df-31ee-43b7-89bc-98af32c6d1cb",
   "metadata": {},
   "outputs": [
    {
     "data": {
      "text/plain": [
       "<matplotlib.image.AxesImage at 0x7fbc0fedf3d0>"
      ]
     },
     "execution_count": 86,
     "metadata": {},
     "output_type": "execute_result"
    }
   ],
   "source": [
    "# img = rasterio.features.rasterize([polygons[0]], out_shape=(100000,100000)) #wsi: (71680, 94208)\n",
    "# plt.imshow(img)\n",
    "# ^The above kills the kernel."
   ]
  },
  {
   "cell_type": "markdown",
   "id": "a1d0f39d-159d-4fec-8307-0883f38f8c18",
   "metadata": {},
   "source": [
    "### Method 2: "
   ]
  },
  {
   "cell_type": "code",
   "execution_count": 20,
   "id": "d7c01d38-20eb-4cd2-89a4-d6d1b955c5e6",
   "metadata": {},
   "outputs": [],
   "source": [
    "width, height=71680, 94208\n",
    "polygon = polys['Annotation 0'] # [(1,1),(1,2),....]"
   ]
  },
  {
   "cell_type": "code",
   "execution_count": null,
   "id": "66a5b53e-ed49-4290-8238-3e545adff333",
   "metadata": {},
   "outputs": [],
   "source": [
    "# original size: kernal dies\n",
    "# shrink to level 2: by 2**2\n",
    "width, height=width/(2^2), height/(2^2)\n",
    "polygon = [(x/(2**2),y/(2**2)) for (x,y) in polygon] # [(1,1),(1,2),....]"
   ]
  },
  {
   "cell_type": "code",
   "execution_count": null,
   "id": "749b785e-0415-4e4f-b172-fe9a43c78109",
   "metadata": {},
   "outputs": [],
   "source": [
    "# poly_path=Path(polygon)\n",
    "\n",
    "# x, y = np.mgrid[:height, :width]\n",
    "# coors=np.hstack((x.reshape(-1, 1), y.reshape(-1,1))) # coors.shape is (4000000,2)\n",
    "\n",
    "# mask = poly_path.contains_points(coors)\n",
    "# plt.imshow(mask.reshape(height, width))\n",
    "# plt.show()\n",
    "\n",
    "# Kernel crashed again"
   ]
  },
  {
   "cell_type": "markdown",
   "id": "97e32c3e-639c-48a8-ba25-74e383e7ce99",
   "metadata": {},
   "source": [
    "### Method 3.3: works with 1 polygon but taks a long time\n"
   ]
  },
  {
   "cell_type": "code",
   "execution_count": 10,
   "id": "89dcae87-d728-4fb3-a862-1afbfe95352d",
   "metadata": {},
   "outputs": [],
   "source": [
    "from PIL import Image, ImageDraw"
   ]
  },
  {
   "cell_type": "code",
   "execution_count": 26,
   "id": "eafaa1aa-fb5b-46c0-8d8f-22cdc417e230",
   "metadata": {},
   "outputs": [
    {
     "data": {
      "image/png": "[encoded data removed]",
      "text/plain": [
       "<Figure size 432x288 with 1 Axes>"
      ]
     },
     "metadata": {
      "needs_background": "light"
     },
     "output_type": "display_data"
    }
   ],
   "source": [
    "width, height=71680, 94208\n",
    "polygon = polys['Annotation 0'] # [(1,1),(1,2),....]\n",
    "\n",
    "img = Image.new('L', (width, height), 0)\n",
    "ImageDraw.Draw(img).polygon(polygon, outline=1, fill=1)\n",
    "mask = np.array(img)\n",
    "plt.imshow(mask.reshape(height, width))\n",
    "plt.show()"
   ]
  },
  {
   "cell_type": "code",
   "execution_count": 27,
   "id": "be606506-f26c-453a-a791-020b91d0ceb3",
   "metadata": {},
   "outputs": [
    {
     "data": {
      "text/plain": [
       "array([[0, 0, 0, ..., 0, 0, 0],\n",
       "       [0, 0, 0, ..., 0, 0, 0],\n",
       "       [0, 0, 0, ..., 0, 0, 0],\n",
       "       ...,\n",
       "       [0, 0, 0, ..., 0, 0, 0],\n",
       "       [0, 0, 0, ..., 0, 0, 0],\n",
       "       [0, 0, 0, ..., 0, 0, 0]], dtype=uint8)"
      ]
     },
     "execution_count": 27,
     "metadata": {},
     "output_type": "execute_result"
    }
   ],
   "source": [
    "mask"
   ]
  },
  {
   "cell_type": "code",
   "execution_count": 28,
   "id": "ebcef706-3843-4214-a8fc-a9679c641394",
   "metadata": {},
   "outputs": [
    {
     "data": {
      "text/plain": [
       "(94208, 71680)"
      ]
     },
     "execution_count": 28,
     "metadata": {},
     "output_type": "execute_result"
    }
   ],
   "source": [
    "mask.shape"
   ]
  },
  {
   "cell_type": "code",
   "execution_count": 11,
   "id": "a8aeec17-1ab2-4ffc-92dc-12c71ac716f3",
   "metadata": {},
   "outputs": [
    {
     "data": {
      "image/png": "[encoded data removed]",
      "text/plain": [
       "<Figure size 432x288 with 1 Axes>"
      ]
     },
     "metadata": {
      "needs_background": "light"
     },
     "output_type": "display_data"
    }
   ],
   "source": [
    "# multiple polygons\n",
    "width, height=71680, 94208\n",
    "polygon = polys['Annotation 0'] # [(1,1),(1,2),....]\n",
    "\n",
    "img = Image.new('1', (width, height), 0)\n",
    "# 1 (1-bit pixels, black and white, stored with one pixel per byte)\n",
    "# L: (8-bit pixels, black and white)\n",
    "# I (32-bit signed integer pixels)\n",
    "# F (32-bit floating point pixels)\n",
    "# check i\n",
    "ImageDraw.Draw(img).polygon(polygon, outline=1, fill=1)\n",
    "mask = np.array(img,copy=False)\n",
    "plt.imshow(mask.reshape(height, width))\n",
    "plt.show()"
   ]
  },
  {
   "cell_type": "code",
   "execution_count": null,
   "id": "17781cae-6bd5-4363-a8d3-ad7e34e9f92c",
   "metadata": {},
   "outputs": [],
   "source": [
    "# 1. hd5 store in disks. process each annotation and put in h5. add to masks\n",
    "# 2. stupid way: rewriting the same variable\n",
    "# 3. scale down vertices, then pil.resize()\n",
    "# 4. use 1-bit pixels\n",
    "# 5. use a bounding box for the annotation, only label that. \n",
    "# 6. "
   ]
  },
  {
   "cell_type": "code",
   "execution_count": null,
   "id": "e0ef7caa-f59c-4ad6-a278-1b1905bdb5bd",
   "metadata": {},
   "outputs": [],
   "source": [
    "# tile_size = 256 on level 2. test_046.tiff\n",
    "# Presentation 9 Dec 9am. \n",
    "# p"
   ]
  },
  {
   "cell_type": "code",
   "execution_count": null,
   "id": "570b5c3f-588b-4c53-963e-19b6ccd6d2cf",
   "metadata": {},
   "outputs": [],
   "source": [
    "# initialize the mask: (all zeros)\n",
    "wsi.h5['masks'].create_dataset('mask_name',dtype = 'float16', size = <size of maks i.e. image>)\n",
    "# add annotation to mask:\n",
    "wsi.h5['masks']['mask_name'][i_low:i_high,j_low:j_high] = mask_array\n",
    "\n",
    "# in the pathml h5path: masks are stored in a group called 'masks'\n",
    "# i_low and i_high are vertical boxes. "
   ]
  },
  {
   "cell_type": "code",
   "execution_count": null,
   "id": "05ed4e8b-70c2-4260-85a6-1e0af972dd27",
   "metadata": {},
   "outputs": [],
   "source": [
    "# access it directly:but may be too big to load to memory\n",
    "wsi.h5['masks']['mask_name'][...] \n",
    "\n",
    "# or save it: to check with Haoyuan \n",
    "# \n",
    "SlideData.write()\n",
    "\n",
    "# or: just try the stupid way of crossing all the tiles with Haoyuan \n",
    "# much easier to do "
   ]
  }
 ],
 "metadata": {
  "kernelspec": {
   "display_name": "Python 3 (ipykernel)",
   "language": "python",
   "name": "python3"
  },
  "language_info": {
   "codemirror_mode": {
    "name": "ipython",
    "version": 3
   },
   "file_extension": ".py",
   "mimetype": "text/x-python",
   "name": "python",
   "nbconvert_exporter": "python",
   "pygments_lexer": "ipython3",
   "version": "3.8.0"
  }
 },
 "nbformat": 4,
 "nbformat_minor": 5
}
